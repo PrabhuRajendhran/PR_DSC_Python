{
 "cells": [
  {
   "cell_type": "markdown",
   "metadata": {},
   "source": [
    "# string\n"
   ]
  },
  {
   "cell_type": "code",
   "execution_count": 1,
   "metadata": {},
   "outputs": [
    {
     "name": "stdout",
     "output_type": "stream",
     "text": [
      "['__add__', '__class__', '__contains__', '__delattr__', '__dir__', '__doc__', '__eq__', '__format__', '__ge__', '__getattribute__', '__getitem__', '__getnewargs__', '__gt__', '__hash__', '__init__', '__init_subclass__', '__iter__', '__le__', '__len__', '__lt__', '__mod__', '__mul__', '__ne__', '__new__', '__reduce__', '__reduce_ex__', '__repr__', '__rmod__', '__rmul__', '__setattr__', '__sizeof__', '__str__', '__subclasshook__', 'capitalize', 'casefold', 'center', 'count', 'encode', 'endswith', 'expandtabs', 'find', 'format', 'format_map', 'index', 'isalnum', 'isalpha', 'isascii', 'isdecimal', 'isdigit', 'isidentifier', 'islower', 'isnumeric', 'isprintable', 'isspace', 'istitle', 'isupper', 'join', 'ljust', 'lower', 'lstrip', 'maketrans', 'partition', 'replace', 'rfind', 'rindex', 'rjust', 'rpartition', 'rsplit', 'rstrip', 'split', 'splitlines', 'startswith', 'strip', 'swapcase', 'title', 'translate', 'upper', 'zfill']\n"
     ]
    }
   ],
   "source": [
    "print(dir(\"\"))"
   ]
  },
  {
   "cell_type": "code",
   "execution_count": 3,
   "metadata": {},
   "outputs": [
    {
     "name": "stdout",
     "output_type": "stream",
     "text": [
      "<class 'str'>\n",
      "['__add__', '__class__', '__contains__', '__delattr__', '__dir__', '__doc__', '__eq__', '__format__', '__ge__', '__getattribute__', '__getitem__', '__getnewargs__', '__gt__', '__hash__', '__init__', '__init_subclass__', '__iter__', '__le__', '__len__', '__lt__', '__mod__', '__mul__', '__ne__', '__new__', '__reduce__', '__reduce_ex__', '__repr__', '__rmod__', '__rmul__', '__setattr__', '__sizeof__', '__str__', '__subclasshook__', 'capitalize', 'casefold', 'center', 'count', 'encode', 'endswith', 'expandtabs', 'find', 'format', 'format_map', 'index', 'isalnum', 'isalpha', 'isascii', 'isdecimal', 'isdigit', 'isidentifier', 'islower', 'isnumeric', 'isprintable', 'isspace', 'istitle', 'isupper', 'join', 'ljust', 'lower', 'lstrip', 'maketrans', 'partition', 'replace', 'rfind', 'rindex', 'rjust', 'rpartition', 'rsplit', 'rstrip', 'split', 'splitlines', 'startswith', 'strip', 'swapcase', 'title', 'translate', 'upper', 'zfill']\n"
     ]
    }
   ],
   "source": [
    "s = \"abcd\" # this is an object of string class/ string type\n",
    "print(type(s))\n",
    "print(dir(str)) # str is the class"
   ]
  },
  {
   "cell_type": "code",
   "execution_count": 5,
   "metadata": {},
   "outputs": [
    {
     "name": "stdout",
     "output_type": "stream",
     "text": [
      "ABCD\n",
      "abcd\n"
     ]
    }
   ],
   "source": [
    "# strings are immutable\n",
    "# any change creates a new copy\n",
    "s = \"abcd\"\n",
    "print(s.upper())\n",
    "print(s)"
   ]
  },
  {
   "cell_type": "code",
   "execution_count": 7,
   "metadata": {},
   "outputs": [
    {
     "name": "stdout",
     "output_type": "stream",
     "text": [
      "ABCD\n",
      "abcd\n"
     ]
    }
   ],
   "source": [
    "s = \"abcd\"\n",
    "b = s\n",
    "s = s.upper()\n",
    "print(s)\n",
    "print(b)"
   ]
  },
  {
   "cell_type": "code",
   "execution_count": 9,
   "metadata": {},
   "outputs": [
    {
     "name": "stdout",
     "output_type": "stream",
     "text": [
      "Help on method_descriptor:\n",
      "\n",
      "lower(self, /)\n",
      "    Return a copy of the string converted to lowercase.\n",
      "\n"
     ]
    }
   ],
   "source": [
    "help(str.lower)"
   ]
  },
  {
   "cell_type": "code",
   "execution_count": 15,
   "metadata": {},
   "outputs": [
    {
     "name": "stdout",
     "output_type": "stream",
     "text": [
      "4\n",
      "2\n",
      "0\n",
      "Help on built-in function count:\n",
      "\n",
      "count(...) method of builtins.str instance\n",
      "    S.count(sub[, start[, end]]) -> int\n",
      "    \n",
      "    Return the number of non-overlapping occurrences of substring sub in\n",
      "    string S[start:end].  Optional arguments start and end are\n",
      "    interpreted as in slice notation.\n",
      "\n",
      "3\n",
      "1\n"
     ]
    }
   ],
   "source": [
    "s = \"abcdabaa\"\n",
    "\n",
    "print(s.count(\"a\"))\n",
    "print(s.count(\"ab\"))\n",
    "print(s.count(\"AB\"))\n",
    "help(s.count)\n",
    "print(s.count(\"a\", 2))\n",
    "print(s.count(\"a\", 2, 6))"
   ]
  },
  {
   "cell_type": "code",
   "execution_count": 23,
   "metadata": {},
   "outputs": [
    {
     "name": "stdout",
     "output_type": "stream",
     "text": [
      "0\n",
      "5\n",
      "4\n",
      "-1\n",
      "-1\n",
      "7\n"
     ]
    }
   ],
   "source": [
    "s = \"abcdaba1\"\n",
    "#    01234567\n",
    "\n",
    "print(s.find(\"a\"))\n",
    "print(s.find(\"ba\"))\n",
    "print(s.find(\"a\",2))\n",
    "print(s.find(\"A\"))\n",
    "print(s.find(\"a\",2,4))\n",
    "print(s.find(\"1\"))"
   ]
  },
  {
   "cell_type": "code",
   "execution_count": 26,
   "metadata": {},
   "outputs": [
    {
     "name": "stdout",
     "output_type": "stream",
     "text": [
      "True\n",
      "False\n",
      "True\n"
     ]
    }
   ],
   "source": [
    "# in keyword\n",
    "s = \"abcd\"\n",
    "print(\"a\" in s)\n",
    "print(\"A\" in s)\n",
    "print(\"cd\" in s)"
   ]
  },
  {
   "cell_type": "code",
   "execution_count": 31,
   "metadata": {},
   "outputs": [
    {
     "name": "stdout",
     "output_type": "stream",
     "text": [
      "True\n",
      "False\n",
      "True\n",
      "False\n",
      "False\n",
      "\n",
      "Help on built-in function isupper:\n",
      "\n",
      "isupper() method of builtins.str instance\n",
      "    Return True if the string is an uppercase string, False otherwise.\n",
      "    \n",
      "    A string is uppercase if all cased characters in the string are uppercase and\n",
      "    there is at least one cased character in the string.\n",
      "\n"
     ]
    }
   ],
   "source": [
    "print(\"AB\".isupper())\n",
    "print(\"Ab\".isupper())\n",
    "print(\"11A\".isupper())\n",
    "print(\"11\".isupper())\n",
    "print(\"\".isupper())\n",
    "\n",
    "print()\n",
    "help(\"\".isupper)"
   ]
  },
  {
   "cell_type": "code",
   "execution_count": null,
   "metadata": {},
   "outputs": [],
   "source": [
    "# WAP to input a string and print it in reverse"
   ]
  },
  {
   "cell_type": "code",
   "execution_count": null,
   "metadata": {},
   "outputs": [],
   "source": [
    "# WAP to input a string and find the first occurence of alphabet 'a' in the string"
   ]
  },
  {
   "cell_type": "code",
   "execution_count": 33,
   "metadata": {},
   "outputs": [
    {
     "name": "stdout",
     "output_type": "stream",
     "text": [
      "fedcba\n"
     ]
    }
   ],
   "source": [
    "a = input(\"\")\n",
    "print(a[::-1])"
   ]
  },
  {
   "cell_type": "code",
   "execution_count": 38,
   "metadata": {},
   "outputs": [
    {
     "name": "stdout",
     "output_type": "stream",
     "text": [
      "Enter string : abcd\n",
      "Enter sub-string : A\n",
      "4\n"
     ]
    }
   ],
   "source": [
    "# WAF find_last that takes a string and  a substring as argument.\n",
    "# this function returns last position of substring inside string\n",
    "# find_last(\"abcdab\", \"a\") => 4\n",
    "# find_last(\"abcdb\", \"a\") => 0\n",
    "# find_last(\"bcdb\", \"a\") => -1\n",
    "def find_lst(st,subst):\n",
    "    st = st[::-1]\n",
    "    return len(st)-st.find(subst)-1\n",
    "st = input(\"Enter string : \")\n",
    "substst = input(\"Enter sub-string : \")\n",
    "\n",
    "print(find_lst(st,substst))\n"
   ]
  },
  {
   "cell_type": "code",
   "execution_count": 2,
   "metadata": {},
   "outputs": [
    {
     "name": "stdout",
     "output_type": "stream",
     "text": [
      "1\n"
     ]
    }
   ],
   "source": [
    "# WAF find that takes a string as arg, and a substr, and finds count of  substr in string\n",
    "# search should be case insensitive\n",
    "# find(\"ABAB\", \"A\") => 2\n",
    "# find(\"ABAB\", \"AB\") => 2\n",
    "# find(\"ABAB\", \"ab\") => 2\n",
    "# find(\"ABAB\", \"aB\") => 2\n",
    "# find(\"ABAB\", \"aBc\") => 0\n",
    "\n",
    "def find(s1, s2):\n",
    "    return s1.lower().count(s2.lower())\n",
    "\n",
    "print(find(\"ABCD\", \"ab\"))\n"
   ]
  }
 ],
 "metadata": {
  "kernelspec": {
   "display_name": "Python 3",
   "language": "python",
   "name": "python3"
  },
  "language_info": {
   "codemirror_mode": {
    "name": "ipython",
    "version": 3
   },
   "file_extension": ".py",
   "mimetype": "text/x-python",
   "name": "python",
   "nbconvert_exporter": "python",
   "pygments_lexer": "ipython3",
   "version": "3.7.4"
  }
 },
 "nbformat": 4,
 "nbformat_minor": 2
}
