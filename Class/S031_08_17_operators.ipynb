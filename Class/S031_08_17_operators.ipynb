{
 "cells": [
  {
   "cell_type": "markdown",
   "metadata": {},
   "source": [
    "# Operators"
   ]
  },
  {
   "cell_type": "code",
   "execution_count": null,
   "metadata": {},
   "outputs": [],
   "source": [
    "# unary\n",
    "# binary"
   ]
  },
  {
   "cell_type": "code",
   "execution_count": 1,
   "metadata": {},
   "outputs": [
    {
     "name": "stdout",
     "output_type": "stream",
     "text": [
      "-1\n"
     ]
    }
   ],
   "source": [
    "x = 1 # expression ; statement\n",
    "x = -x # - is a unary operator over here\n",
    "print(x)"
   ]
  },
  {
   "cell_type": "code",
   "execution_count": 3,
   "metadata": {},
   "outputs": [
    {
     "name": "stdout",
     "output_type": "stream",
     "text": [
      "3 5\n",
      "15\n"
     ]
    }
   ],
   "source": [
    "x = 1 + 2 # + is binary\n",
    "y = 10 - 5 # - is binary here\n",
    "print(x, y)\n",
    "print(x*y)"
   ]
  },
  {
   "cell_type": "code",
   "execution_count": 8,
   "metadata": {},
   "outputs": [
    {
     "name": "stdout",
     "output_type": "stream",
     "text": [
      "20\n",
      "5.0\n",
      "2.5\n",
      "2.75\n"
     ]
    }
   ],
   "source": [
    "# *, /, **, %\n",
    "print(10*2)\n",
    "print(10/2) # float\n",
    "print(5/2) # float\n",
    "print(11/4) # float"
   ]
  },
  {
   "cell_type": "code",
   "execution_count": 13,
   "metadata": {},
   "outputs": [
    {
     "name": "stdout",
     "output_type": "stream",
     "text": [
      "0\n",
      "1\n",
      "1\n",
      "11\n",
      "\n",
      "9\n",
      "1024\n"
     ]
    }
   ],
   "source": [
    "# %, **\n",
    "print(10%2)\n",
    "print(10%3)\n",
    "print(11%2)\n",
    "print(11%22)\n",
    "\n",
    "print()\n",
    "print(3**2)\n",
    "print(4**5)"
   ]
  },
  {
   "cell_type": "code",
   "execution_count": 10,
   "metadata": {},
   "outputs": [
    {
     "name": "stdout",
     "output_type": "stream",
     "text": [
      "5\n",
      "2\n",
      "2\n",
      "2.0\n"
     ]
    }
   ],
   "source": [
    "# // - int division\n",
    "print(10//2)# int\n",
    "print(5//2) # int\n",
    "print(11//4)# int\n",
    "print(11//4.0)# float"
   ]
  },
  {
   "cell_type": "code",
   "execution_count": 15,
   "metadata": {},
   "outputs": [
    {
     "name": "stdout",
     "output_type": "stream",
     "text": [
      "10\n",
      "x 10 1000\n",
      "gaurav\n"
     ]
    }
   ],
   "source": [
    "x = 10\n",
    "print(x)\n",
    "print(\"x\",x , 1000)\n",
    "print(\"gaurav\")"
   ]
  },
  {
   "cell_type": "code",
   "execution_count": 24,
   "metadata": {},
   "outputs": [
    {
     "name": "stdout",
     "output_type": "stream",
     "text": [
      "ga ur   av\n",
      "A\n",
      "B\n",
      "A\tB\n",
      "aa\b\n",
      "a\\b\n"
     ]
    }
   ],
   "source": [
    "# escape sequence: start with a slash \\\n",
    "print(\"ga ur   av\")\n",
    "print(\"A\\nB\") # new-line\n",
    "print(\"A\\tB\") # tab\n",
    "print(\"aa\\b\") # backspace\n",
    "print(\"a\\\\b\") # \\ escape"
   ]
  },
  {
   "cell_type": "code",
   "execution_count": 27,
   "metadata": {},
   "outputs": [
    {
     "name": "stdout",
     "output_type": "stream",
     "text": [
      "10 20#30 40\n"
     ]
    }
   ],
   "source": [
    "print(10,20, end='#')\n",
    "print(30,40)"
   ]
  },
  {
   "cell_type": "code",
   "execution_count": 33,
   "metadata": {},
   "outputs": [
    {
     "name": "stdout",
     "output_type": "stream",
     "text": [
      "10#20\n",
      "30,40,60,abcd@"
     ]
    }
   ],
   "source": [
    "# change print separator\n",
    "print(10,20, sep='#')\n",
    "print(30,40, 60, \"abcd\", end='@', sep=',')\n",
    "# sep = some int/ float / not a string\n",
    "# multiple sep : keyword args cannot be repeated\n",
    "# bigger separator"
   ]
  },
  {
   "cell_type": "code",
   "execution_count": 34,
   "metadata": {},
   "outputs": [
    {
     "ename": "SyntaxError",
     "evalue": "positional argument follows keyword argument (<ipython-input-34-6a2e4e10fdb6>, line 1)",
     "output_type": "error",
     "traceback": [
      "\u001b[1;36m  File \u001b[1;32m\"<ipython-input-34-6a2e4e10fdb6>\"\u001b[1;36m, line \u001b[1;32m1\u001b[0m\n\u001b[1;33m    print(end='abc', 10,20)\u001b[0m\n\u001b[1;37m                    ^\u001b[0m\n\u001b[1;31mSyntaxError\u001b[0m\u001b[1;31m:\u001b[0m positional argument follows keyword argument\n"
     ]
    }
   ],
   "source": [
    "print(end='abc', 10,20)"
   ]
  },
  {
   "cell_type": "code",
   "execution_count": 35,
   "metadata": {},
   "outputs": [
    {
     "name": "stdout",
     "output_type": "stream",
     "text": [
      "10aaaa20aaaa30#10aaaa20aaaa30#"
     ]
    }
   ],
   "source": [
    "print(10,20,30,sep='aaaa', end='#')\n",
    "print(10,20,30,end='#', sep='aaaa')"
   ]
  },
  {
   "cell_type": "code",
   "execution_count": 37,
   "metadata": {},
   "outputs": [
    {
     "name": "stdout",
     "output_type": "stream",
     "text": [
      "<class 'bool'> <class 'bool'>\n"
     ]
    }
   ],
   "source": [
    "# int, float, str, bool: True/False\n",
    "print(type(True), type(False))\n"
   ]
  },
  {
   "cell_type": "code",
   "execution_count": 47,
   "metadata": {},
   "outputs": [
    {
     "name": "stdout",
     "output_type": "stream",
     "text": [
      "True\n",
      "False\n",
      "True False True False True False\n",
      "True\n",
      "True\n",
      "False\n",
      "True\n"
     ]
    }
   ],
   "source": [
    "# relational operators\n",
    "print(10 < 20)\n",
    "print(10 > 20)\n",
    "print(10 <= 10, 10 < 10, 10 == 10, 10 == 20, 10 != 20, 10 != 10)\n",
    "print(10 < 10.5)\n",
    "#  print(10 < '10.5')\n",
    "print(\"A\" < \"B\")\n",
    "print(\"AA\" < \"A\")\n",
    "print(\"AA\" < \"B\")"
   ]
  },
  {
   "cell_type": "code",
   "execution_count": 50,
   "metadata": {},
   "outputs": [
    {
     "name": "stdout",
     "output_type": "stream",
     "text": [
      "110.0\n",
      "70.0\n",
      "24.0\n",
      "25.0\n",
      "0.625\n"
     ]
    }
   ],
   "source": [
    "# operator precedence\n",
    "x = 100 + 20/2\n",
    "print(x)\n",
    "x = 100/2 + 20\n",
    "print(x)\n",
    "x = (100 + 20)/5\n",
    "print(x)\n",
    "x = 10**2/4\n",
    "print(x)\n",
    "x = 10/4**2\n",
    "print(x)"
   ]
  },
  {
   "cell_type": "code",
   "execution_count": 56,
   "metadata": {},
   "outputs": [
    {
     "name": "stdout",
     "output_type": "stream",
     "text": [
      "1.0 1.25 0.75\n"
     ]
    }
   ],
   "source": [
    "x = 10/2%4\n",
    "y = 10%(7/4)\n",
    "z = 10%7/4\n",
    "print(x,y,z)"
   ]
  },
  {
   "cell_type": "code",
   "execution_count": 61,
   "metadata": {},
   "outputs": [
    {
     "name": "stdout",
     "output_type": "stream",
     "text": [
      "2\n",
      "3\n",
      "4\n",
      "7\n",
      "70\n"
     ]
    }
   ],
   "source": [
    "# assignment operators\n",
    "x = 1\n",
    "x = x + 1\n",
    "print(x)\n",
    "x = x + 1\n",
    "print(x)\n",
    "x += 1\n",
    "print(x)\n",
    "x += 3\n",
    "print(x)\n",
    "x *= 10\n",
    "print(x)"
   ]
  },
  {
   "cell_type": "code",
   "execution_count": null,
   "metadata": {},
   "outputs": [],
   "source": []
  }
 ],
 "metadata": {
  "kernelspec": {
   "display_name": "Python 3",
   "language": "python",
   "name": "python3"
  },
  "language_info": {
   "codemirror_mode": {
    "name": "ipython",
    "version": 3
   },
   "file_extension": ".py",
   "mimetype": "text/x-python",
   "name": "python",
   "nbconvert_exporter": "python",
   "pygments_lexer": "ipython3",
   "version": "3.7.4"
  }
 },
 "nbformat": 4,
 "nbformat_minor": 2
}
