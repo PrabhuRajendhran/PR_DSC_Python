{
 "cells": [
  {
   "cell_type": "markdown",
   "metadata": {},
   "source": [
    "## tuple\n",
    "- sequence\n",
    "- heterogeneous\n",
    "- immutable /not-mutable"
   ]
  },
  {
   "cell_type": "code",
   "execution_count": 1,
   "metadata": {},
   "outputs": [
    {
     "name": "stdout",
     "output_type": "stream",
     "text": [
      "1 <class 'int'>\n"
     ]
    }
   ],
   "source": [
    "r = (1)\n",
    "print(r, type(r))"
   ]
  },
  {
   "cell_type": "code",
   "execution_count": 2,
   "metadata": {},
   "outputs": [
    {
     "name": "stdout",
     "output_type": "stream",
     "text": [
      "() <class 'tuple'>\n"
     ]
    }
   ],
   "source": [
    "t = ()\n",
    "print(t, type(t))"
   ]
  },
  {
   "cell_type": "code",
   "execution_count": 7,
   "metadata": {},
   "outputs": [
    {
     "name": "stdout",
     "output_type": "stream",
     "text": [
      "(1, 2, True)\n",
      "3\n",
      "2 (2, True)\n",
      "True\n",
      "False\n",
      "True\n"
     ]
    }
   ],
   "source": [
    "t = 1,2,True\n",
    "print(t)\n",
    "print(len(t))\n",
    "print(t[1], t[1:])\n",
    "print(1 in t)\n",
    "print(10 in t)\n",
    "print(10 not in t)"
   ]
  },
  {
   "cell_type": "code",
   "execution_count": 6,
   "metadata": {},
   "outputs": [
    {
     "name": "stdout",
     "output_type": "stream",
     "text": [
      "['__add__', '__class__', '__contains__', '__delattr__', '__dir__', '__doc__', '__eq__', '__format__', '__ge__', '__getattribute__', '__getitem__', '__getnewargs__', '__gt__', '__hash__', '__init__', '__init_subclass__', '__iter__', '__le__', '__len__', '__lt__', '__mul__', '__ne__', '__new__', '__reduce__', '__reduce_ex__', '__repr__', '__rmul__', '__setattr__', '__sizeof__', '__str__', '__subclasshook__', 'count', 'index']\n"
     ]
    }
   ],
   "source": [
    "print(dir(tuple))"
   ]
  },
  {
   "cell_type": "code",
   "execution_count": 15,
   "metadata": {},
   "outputs": [
    {
     "name": "stdout",
     "output_type": "stream",
     "text": [
      "()\n",
      "(1, 3, 4)\n",
      "[1, 3, 4]\n",
      "\n",
      "('g', 'a', 'u', 'r', 'a', 'v')\n",
      "Help on method_descriptor:\n",
      "\n",
      "join(self, iterable, /)\n",
      "    Concatenate any number of strings.\n",
      "    \n",
      "    The string whose method is called is inserted in between each given string.\n",
      "    The result is returned as a new string.\n",
      "    \n",
      "    Example: '.'.join(['ab', 'pq', 'rs']) -> 'ab.pq.rs'\n",
      "\n",
      "None\n"
     ]
    }
   ],
   "source": [
    "t = tuple()\n",
    "print(t)\n",
    "t = tuple([1,3,4])\n",
    "print(t)\n",
    "\n",
    "print(list(t))\n",
    "\n",
    "print()\n",
    "print(tuple(\"gaurav\"))\n",
    "\n",
    "print(help(str.join))"
   ]
  },
  {
   "cell_type": "code",
   "execution_count": 16,
   "metadata": {},
   "outputs": [
    {
     "ename": "TypeError",
     "evalue": "'tuple' object does not support item assignment",
     "output_type": "error",
     "traceback": [
      "\u001b[1;31m---------------------------------------------------------------------------\u001b[0m",
      "\u001b[1;31mTypeError\u001b[0m                                 Traceback (most recent call last)",
      "\u001b[1;32m<ipython-input-16-740df80b4081>\u001b[0m in \u001b[0;36m<module>\u001b[1;34m\u001b[0m\n\u001b[0;32m      1\u001b[0m \u001b[1;31m# tuple is immutable\u001b[0m\u001b[1;33m\u001b[0m\u001b[1;33m\u001b[0m\u001b[1;33m\u001b[0m\u001b[0m\n\u001b[0;32m      2\u001b[0m \u001b[0mt\u001b[0m \u001b[1;33m=\u001b[0m \u001b[1;33m(\u001b[0m\u001b[1;36m1\u001b[0m\u001b[1;33m,\u001b[0m\u001b[1;36m2\u001b[0m\u001b[1;33m,\u001b[0m\u001b[1;36m3\u001b[0m\u001b[1;33m)\u001b[0m\u001b[1;33m\u001b[0m\u001b[1;33m\u001b[0m\u001b[0m\n\u001b[1;32m----> 3\u001b[1;33m \u001b[0mt\u001b[0m\u001b[1;33m[\u001b[0m\u001b[1;36m0\u001b[0m\u001b[1;33m]\u001b[0m \u001b[1;33m=\u001b[0m \u001b[1;36m10\u001b[0m\u001b[1;33m\u001b[0m\u001b[1;33m\u001b[0m\u001b[0m\n\u001b[0m",
      "\u001b[1;31mTypeError\u001b[0m: 'tuple' object does not support item assignment"
     ]
    }
   ],
   "source": [
    "# tuple is immutable\n",
    "t = (1,2,3)\n",
    "t[0] = 10"
   ]
  },
  {
   "cell_type": "code",
   "execution_count": 22,
   "metadata": {},
   "outputs": [
    {
     "name": "stdout",
     "output_type": "stream",
     "text": [
      "(10, 20, 100, 200) (10, 20) (100, 200)\n"
     ]
    }
   ],
   "source": [
    "t1 = (10,20,)\n",
    "t2 = (100,200)\n",
    "t3 = t1 + t2\n",
    "print(t3, t1, t2)"
   ]
  },
  {
   "cell_type": "code",
   "execution_count": 19,
   "metadata": {},
   "outputs": [
    {
     "name": "stdout",
     "output_type": "stream",
     "text": [
      "(1,)\n"
     ]
    }
   ],
   "source": [
    "t = 1,\n",
    "print(t)"
   ]
  },
  {
   "cell_type": "code",
   "execution_count": 29,
   "metadata": {},
   "outputs": [
    {
     "name": "stdout",
     "output_type": "stream",
     "text": [
      "(1,)\n",
      "(1)\n"
     ]
    }
   ],
   "source": [
    "t = (1,)\n",
    "print(t)\n",
    "print(str(t).replace(',',''))"
   ]
  },
  {
   "cell_type": "code",
   "execution_count": null,
   "metadata": {},
   "outputs": [],
   "source": [
    "l = [(1,), (10,20)]\n",
    "\n",
    "for t in l:\n",
    "    for e in t:\n",
    "        print(e)\n",
    "    print()"
   ]
  },
  {
   "cell_type": "code",
   "execution_count": 43,
   "metadata": {},
   "outputs": [
    {
     "name": "stdout",
     "output_type": "stream",
     "text": [
      "(10, 20)\n",
      "10 20\n",
      "10 30 20 40\n",
      "4\n"
     ]
    }
   ],
   "source": [
    "x = 10\n",
    "y = 20\n",
    "\n",
    "t = x,y # packing\n",
    "print(t)\n",
    "\n",
    "a,b = (10,20) # unpacking\n",
    "print(a,b)\n",
    "\n",
    "a, _, _, c = (10,20,30, 40) # unpacking\n",
    "print(a,_,b, c)\n",
    "\n",
    "a,a,a,a = 1,2,3,4\n",
    "print(a)"
   ]
  },
  {
   "cell_type": "code",
   "execution_count": 44,
   "metadata": {},
   "outputs": [
    {
     "name": "stdout",
     "output_type": "stream",
     "text": [
      "gaurav 10\n"
     ]
    }
   ],
   "source": [
    "# pythonic way of swapping\n",
    "x,y = 10,\"gaurav\"\n",
    "x,y = y,x\n",
    "print(x, y)"
   ]
  },
  {
   "cell_type": "markdown",
   "metadata": {},
   "source": [
    "### shallow and deep copy"
   ]
  },
  {
   "cell_type": "code",
   "execution_count": 45,
   "metadata": {},
   "outputs": [
    {
     "name": "stdout",
     "output_type": "stream",
     "text": [
      "[1, 2, 3]\n",
      "\n",
      "[1, 2, 3, 4]\n",
      "[1, 2, 3, 4]\n",
      "2269400015816 2269400015816\n"
     ]
    }
   ],
   "source": [
    "a1 = [1,2,3]\n",
    "print(a1)\n",
    "\n",
    "a2 = a1\n",
    "a1.append(4)\n",
    "print()\n",
    "print(a1)\n",
    "print(a2)\n",
    "print(id(a1), id(a2))"
   ]
  },
  {
   "cell_type": "code",
   "execution_count": 46,
   "metadata": {},
   "outputs": [
    {
     "name": "stdout",
     "output_type": "stream",
     "text": [
      "[1, 2, 3]\n",
      "\n",
      "[1, 2, 3, 4]\n",
      "[1, 2, 3]\n",
      "2269400014920 2269399046088\n"
     ]
    }
   ],
   "source": [
    "# create a copy\n",
    "a1 = [1,2,3]\n",
    "print(a1)\n",
    "\n",
    "a2 = a1[:] # a1.copy()\n",
    "a1.append(4)\n",
    "print()\n",
    "print(a1)\n",
    "print(a2)\n",
    "print(id(a1), id(a2))"
   ]
  },
  {
   "cell_type": "code",
   "execution_count": 47,
   "metadata": {},
   "outputs": [
    {
     "name": "stdout",
     "output_type": "stream",
     "text": [
      "[1, 2, 3, [10, 20]]\n",
      "\n",
      "[1, 2, 3, [10, 20, 30]]\n",
      "[1, 2, 3, [10, 20, 30]]\n",
      "2269398078856 2269398078856\n"
     ]
    }
   ],
   "source": [
    "# create a copy for nested list\n",
    "a1 = [1,2,3, [10,20]]\n",
    "print(a1)\n",
    "\n",
    "a2 = a1\n",
    "a1[3].append(30)\n",
    "print()\n",
    "print(a1)\n",
    "print(a2)\n",
    "print(id(a1), id(a2))"
   ]
  },
  {
   "cell_type": "code",
   "execution_count": 50,
   "metadata": {},
   "outputs": [
    {
     "name": "stdout",
     "output_type": "stream",
     "text": [
      "[1, 2, 3, [10, 20]]\n",
      "\n",
      "[1, 2, 3, [10, 20, 30]]\n",
      "[1, 2, 3, [10, 20, 30]]\n",
      "2269399221960 2269399221960\n"
     ]
    }
   ],
   "source": [
    "# create a copy for nested list\n",
    "# shallow copy\n",
    "a1 = [1,2,3, [10,20]]\n",
    "print(a1)\n",
    "\n",
    "# a1 100  = [1,2,3, addr(200) ]\n",
    "# addr(200) [10,20]  \n",
    "# a2 300  = [1,2,3, addr(200) ]\n",
    "\n",
    "a2 = a1[:]\n",
    "a1[3].append(30)\n",
    "print()\n",
    "print(a1)\n",
    "print(a2)\n",
    "print(id(a1[3]), id(a2[3]))"
   ]
  },
  {
   "cell_type": "code",
   "execution_count": 52,
   "metadata": {},
   "outputs": [
    {
     "name": "stdout",
     "output_type": "stream",
     "text": [
      "['Error', '__all__', '__builtins__', '__cached__', '__doc__', '__file__', '__loader__', '__name__', '__package__', '__spec__', '_copy_dispatch', '_copy_immutable', '_deepcopy_atomic', '_deepcopy_dict', '_deepcopy_dispatch', '_deepcopy_list', '_deepcopy_method', '_deepcopy_tuple', '_keep_alive', '_reconstruct', 'copy', 'deepcopy', 'dispatch_table', 'error']\n"
     ]
    }
   ],
   "source": [
    "import copy\n",
    "print(dir(copy))"
   ]
  },
  {
   "cell_type": "code",
   "execution_count": 53,
   "metadata": {},
   "outputs": [
    {
     "name": "stdout",
     "output_type": "stream",
     "text": [
      "[1, 2, 3, [10, 20]]\n",
      "\n",
      "[1, 2, 3, [10, 20, 30]]\n",
      "[1, 2, 3, [10, 20]]\n",
      "2269400700424 2269400700744\n"
     ]
    }
   ],
   "source": [
    "# deep copy\n",
    "# create a copy for nested list\n",
    "import copy\n",
    "a1 = [1,2,3, [10,20]]\n",
    "print(a1)\n",
    "\n",
    "# a1 100  = [1,2,3, addr(200) ]\n",
    "# addr(200) [10,20]  \n",
    "# a2 300  = [1,2,3, addr(200) ]\n",
    "\n",
    "a2 = copy.deepcopy(a1)\n",
    "a1[3].append(30)\n",
    "print()\n",
    "print(a1)\n",
    "print(a2)\n",
    "print(id(a1[3]), id(a2[3]))"
   ]
  },
  {
   "cell_type": "code",
   "execution_count": null,
   "metadata": {},
   "outputs": [],
   "source": [
    "# DIY\n",
    "# list in tuple\n",
    "# tuple in list"
   ]
  },
  {
   "cell_type": "code",
   "execution_count": null,
   "metadata": {},
   "outputs": [],
   "source": [
    "# format specifiers in string"
   ]
  },
  {
   "cell_type": "code",
   "execution_count": null,
   "metadata": {},
   "outputs": [],
   "source": [
    "# cmd line args"
   ]
  },
  {
   "cell_type": "code",
   "execution_count": null,
   "metadata": {},
   "outputs": [],
   "source": [
    "# modules"
   ]
  },
  {
   "cell_type": "code",
   "execution_count": null,
   "metadata": {},
   "outputs": [],
   "source": [
    "# __name__"
   ]
  },
  {
   "cell_type": "code",
   "execution_count": null,
   "metadata": {},
   "outputs": [],
   "source": []
  }
 ],
 "metadata": {
  "kernelspec": {
   "display_name": "Python 3",
   "language": "python",
   "name": "python3"
  },
  "language_info": {
   "codemirror_mode": {
    "name": "ipython",
    "version": 3
   },
   "file_extension": ".py",
   "mimetype": "text/x-python",
   "name": "python",
   "nbconvert_exporter": "python",
   "pygments_lexer": "ipython3",
   "version": "3.7.4"
  }
 },
 "nbformat": 4,
 "nbformat_minor": 2
}
