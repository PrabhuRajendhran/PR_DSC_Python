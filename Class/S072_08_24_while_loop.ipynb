{
 "cells": [
  {
   "cell_type": "markdown",
   "metadata": {},
   "source": [
    "# Loops"
   ]
  },
  {
   "cell_type": "code",
   "execution_count": 3,
   "metadata": {},
   "outputs": [
    {
     "name": "stdout",
     "output_type": "stream",
     "text": [
      "hello\n",
      "hello\n",
      "hello\n",
      "hello\n",
      "hello\n"
     ]
    }
   ],
   "source": [
    "# print hello 5 times\n",
    "print(\"hello\")\n",
    "print(\"hello\")\n",
    "print(\"hello\")\n",
    "print(\"hello\")\n",
    "print(\"hello\")"
   ]
  },
  {
   "cell_type": "code",
   "execution_count": null,
   "metadata": {},
   "outputs": [],
   "source": [
    "# print hello 100 times"
   ]
  },
  {
   "cell_type": "code",
   "execution_count": 2,
   "metadata": {},
   "outputs": [],
   "source": [
    "# WAP to input a no(n) from uses\n",
    "# print \"Hello\" n times"
   ]
  },
  {
   "cell_type": "code",
   "execution_count": null,
   "metadata": {},
   "outputs": [],
   "source": [
    "# start = 1\n",
    "# till start < 6\n",
    "#     do print(\"hello\")\n",
    "#     start = start + 1\n",
    "\n"
   ]
  },
  {
   "cell_type": "code",
   "execution_count": null,
   "metadata": {},
   "outputs": [],
   "source": [
    "# while loop\n",
    "\n",
    "# initialization\n",
    "# while <condition>:\n",
    "#     # operations\n",
    "#     # update"
   ]
  },
  {
   "cell_type": "code",
   "execution_count": 13,
   "metadata": {},
   "outputs": [
    {
     "name": "stdout",
     "output_type": "stream",
     "text": [
      "Enter a number:3\n",
      "hello\n",
      "hello\n",
      "hello\n",
      "end\n"
     ]
    }
   ],
   "source": [
    "# WAP to input a no(n) from uses\n",
    "# print \"Hello\" n times\n",
    "\n",
    "n = int(input(\"Enter a number:\"))\n",
    "\n",
    "i = 0\n",
    "while i < n:\n",
    "    print(\"hello\")\n",
    "    i = i + 1 # i+=1\n",
    "\n",
    "print(\"end\")\n",
    "# n = 0"
   ]
  },
  {
   "cell_type": "code",
   "execution_count": 14,
   "metadata": {},
   "outputs": [
    {
     "name": "stdout",
     "output_type": "stream",
     "text": [
      "Enter a number: 10\n",
      "10\n",
      "9\n",
      "8\n",
      "7\n",
      "6\n",
      "5\n",
      "4\n",
      "3\n",
      "2\n",
      "1\n"
     ]
    }
   ],
   "source": [
    "# WAP to print numbers from 1-n\n"
   ]
  },
  {
   "cell_type": "code",
   "execution_count": 16,
   "metadata": {},
   "outputs": [
    {
     "name": "stdout",
     "output_type": "stream",
     "text": [
      "Enter a number: 9\n",
      "9\n",
      "8\n",
      "7\n",
      "6\n",
      "5\n",
      "4\n",
      "3\n",
      "2\n",
      "1\n"
     ]
    }
   ],
   "source": [
    "# print in reverse order\n",
    "inp=int(input(\"Enter a number: \"))\n",
    "\n",
    "while inp > 0:\n",
    "    print(inp)\n",
    "    inp-=1 # inp = inp - 1"
   ]
  },
  {
   "cell_type": "code",
   "execution_count": 20,
   "metadata": {},
   "outputs": [
    {
     "name": "stdout",
     "output_type": "stream",
     "text": [
      "['abcd', 'ab', 'p', 'q']\n",
      "\n",
      "['a', 'cd a', ' p  q']\n"
     ]
    }
   ],
   "source": [
    "# split and join\n",
    "s = 'abcd ab p  q'\n",
    "r = s.split()\n",
    "print(r)\n",
    "\n",
    "print()\n",
    "s = 'abcd ab p  q'\n",
    "r = s.split('b')\n",
    "print(r)"
   ]
  },
  {
   "cell_type": "code",
   "execution_count": 34,
   "metadata": {},
   "outputs": [
    {
     "name": "stdout",
     "output_type": "stream",
     "text": [
      "ab#pq#123 <class 'str'>\n",
      "['ab', 'pq', '123']\n",
      "\n",
      "#ab#pq#123 <class 'str'>\n",
      "['ab', 'pq', '123']\n",
      "#ab#pq#123# <class 'str'>\n",
      "['', 'ab', 'pq', '123', '']\n"
     ]
    }
   ],
   "source": [
    "a = ['ab', 'pq', '123']\n",
    "r  = \"#\".join(a)\n",
    "print(r, type(r))\n",
    "print(a)\n",
    "\n",
    "print()\n",
    "r  = \"#\" + ( \"#\".join(a))\n",
    "print(r, type(r))\n",
    "print(a)\n",
    "\n",
    "a = ['', 'ab', 'pq', '123',  '']\n",
    "r  = \"#\".join(a)\n",
    "print(r, type(r))\n",
    "print(a)"
   ]
  },
  {
   "cell_type": "code",
   "execution_count": 45,
   "metadata": {},
   "outputs": [
    {
     "name": "stdout",
     "output_type": "stream",
     "text": [
      "1\n",
      "2\n",
      "\n",
      "3\n",
      "c\n",
      "abc\n",
      "\n",
      "11.5\n",
      "\n",
      "3\n"
     ]
    }
   ],
   "source": [
    "# min, max, sum\n",
    "print(min([1,2,3]))\n",
    "print(min([10,2,3]))\n",
    "\n",
    "print()\n",
    "print(max([1,2,3]))\n",
    "print(max(\"abcABC\"))\n",
    "print(max([\"abc\", \"ab\", \"AB\"]))\n",
    "\n",
    "print()\n",
    "print(sum([1,2,3, 5.5]))\n",
    "\n",
    "print()\n",
    "print(max(1,2,3 , -1))\n",
    "print(sum())"
   ]
  },
  {
   "cell_type": "code",
   "execution_count": 56,
   "metadata": {},
   "outputs": [
    {
     "name": "stdout",
     "output_type": "stream",
     "text": [
      "Enter:1 2 3\n",
      "['1', '2', '3']\n",
      "3\n",
      "1\n",
      "\n",
      "1\n",
      "2\n",
      "3\n",
      "[1, 2, 3]\n"
     ]
    }
   ],
   "source": [
    "s = input(\"Enter:\")\n",
    "r = s.split()\n",
    "print(r)\n",
    "print(max(r))\n",
    "print(min(r))\n",
    "\n",
    "\n",
    "print()\n",
    "i = 0\n",
    "while i < len(r):\n",
    "    print(int(r[i]))\n",
    "    r[i] =  int(r[i])\n",
    "    i += 1\n",
    "    \n",
    "print(r)\n",
    "# s = '1 2 3'\n",
    "# r  = ['1', '2', '3']\n",
    "# i 0              1               2          3\n",
    "# r [1, '2', '3']  [1, 2, '3']    [1, 2, 3]"
   ]
  },
  {
   "cell_type": "code",
   "execution_count": 62,
   "metadata": {},
   "outputs": [
    {
     "name": "stdout",
     "output_type": "stream",
     "text": [
      "Enter:65 7 11\n",
      "[65, 7, 11]\n",
      "83\n",
      "65\n"
     ]
    }
   ],
   "source": [
    "# WAP to input numbers separated by space and convert it to list of ints\n",
    "\n",
    "s = input(\"Enter:\")\n",
    "r = s.split()\n",
    "\n",
    "a = []\n",
    "i = 0\n",
    "while i < len(r):\n",
    "    a.append(int(r[i]))\n",
    "    i += 1\n",
    "    \n",
    "print(a)\n",
    "print()\n",
    "print(sum(a))\n",
    "print(max(a))\n",
    "# s = '1 2 3'\n",
    "# r  = ['1', '2', '3']\n",
    "# i     0     1         2          3\n",
    "# a []  [1]  [1, 2]    [1, 2, 3]"
   ]
  },
  {
   "cell_type": "code",
   "execution_count": 61,
   "metadata": {},
   "outputs": [
    {
     "name": "stdout",
     "output_type": "stream",
     "text": [
      "False\n",
      "True\n"
     ]
    }
   ],
   "source": [
    "print('65' > '7')\n",
    "print(65 > 7)"
   ]
  }
 ],
 "metadata": {
  "kernelspec": {
   "display_name": "Python 3",
   "language": "python",
   "name": "python3"
  },
  "language_info": {
   "codemirror_mode": {
    "name": "ipython",
    "version": 3
   },
   "file_extension": ".py",
   "mimetype": "text/x-python",
   "name": "python",
   "nbconvert_exporter": "python",
   "pygments_lexer": "ipython3",
   "version": "3.7.4"
  }
 },
 "nbformat": 4,
 "nbformat_minor": 2
}
