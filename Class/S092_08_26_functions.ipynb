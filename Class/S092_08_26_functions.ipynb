{
 "cells": [
  {
   "cell_type": "code",
   "execution_count": 2,
   "metadata": {},
   "outputs": [
    {
     "name": "stdout",
     "output_type": "stream",
     "text": [
      "10\n",
      "10 1\n",
      "11 1\n",
      "10\n"
     ]
    },
    {
     "ename": "NameError",
     "evalue": "name 'y' is not defined",
     "output_type": "error",
     "traceback": [
      "\u001b[1;31m---------------------------------------------------------------------------\u001b[0m",
      "\u001b[1;31mNameError\u001b[0m                                 Traceback (most recent call last)",
      "\u001b[1;32m<ipython-input-2-469839ff2b9e>\u001b[0m in \u001b[0;36m<module>\u001b[1;34m\u001b[0m\n\u001b[0;32m     10\u001b[0m \u001b[0mfunc\u001b[0m\u001b[1;33m(\u001b[0m\u001b[0mx\u001b[0m\u001b[1;33m)\u001b[0m\u001b[1;33m\u001b[0m\u001b[1;33m\u001b[0m\u001b[0m\n\u001b[0;32m     11\u001b[0m \u001b[0mprint\u001b[0m\u001b[1;33m(\u001b[0m\u001b[0mx\u001b[0m\u001b[1;33m)\u001b[0m\u001b[1;33m\u001b[0m\u001b[1;33m\u001b[0m\u001b[0m\n\u001b[1;32m---> 12\u001b[1;33m \u001b[0mprint\u001b[0m\u001b[1;33m(\u001b[0m\u001b[0my\u001b[0m\u001b[1;33m)\u001b[0m\u001b[1;33m\u001b[0m\u001b[1;33m\u001b[0m\u001b[0m\n\u001b[0m",
      "\u001b[1;31mNameError\u001b[0m: name 'y' is not defined"
     ]
    }
   ],
   "source": [
    "x = 10 # global scope\n",
    "\n",
    "def func(x): # function scope\n",
    "    y = 1 # function scope\n",
    "    print(x,y)\n",
    "    x = x + 1\n",
    "    print(x,y)\n",
    "    \n",
    "print(x)\n",
    "func(x)\n",
    "print(x)\n",
    "print(y)"
   ]
  },
  {
   "cell_type": "code",
   "execution_count": 5,
   "metadata": {},
   "outputs": [
    {
     "name": "stdout",
     "output_type": "stream",
     "text": [
      "10\n",
      "10 1\n",
      "10\n"
     ]
    }
   ],
   "source": [
    "x = 10 # global scope\n",
    "\n",
    "def func():\n",
    "    y = 1\n",
    "    print(x,y)\n",
    "    \n",
    "print(x)\n",
    "func()\n",
    "print(x)"
   ]
  },
  {
   "cell_type": "code",
   "execution_count": 6,
   "metadata": {},
   "outputs": [
    {
     "name": "stdout",
     "output_type": "stream",
     "text": [
      "10\n",
      "20 1\n",
      "10\n"
     ]
    }
   ],
   "source": [
    "x = 10 # global scope\n",
    "\n",
    "def func():\n",
    "    y = 1\n",
    "    x = 20\n",
    "    print(x,y)\n",
    "    \n",
    "print(x)\n",
    "func()\n",
    "print(x)"
   ]
  },
  {
   "cell_type": "code",
   "execution_count": 7,
   "metadata": {},
   "outputs": [
    {
     "name": "stdout",
     "output_type": "stream",
     "text": [
      "10\n"
     ]
    },
    {
     "ename": "UnboundLocalError",
     "evalue": "local variable 'x' referenced before assignment",
     "output_type": "error",
     "traceback": [
      "\u001b[1;31m---------------------------------------------------------------------------\u001b[0m",
      "\u001b[1;31mUnboundLocalError\u001b[0m                         Traceback (most recent call last)",
      "\u001b[1;32m<ipython-input-7-990965040abf>\u001b[0m in \u001b[0;36m<module>\u001b[1;34m\u001b[0m\n\u001b[0;32m      7\u001b[0m \u001b[1;33m\u001b[0m\u001b[0m\n\u001b[0;32m      8\u001b[0m \u001b[0mprint\u001b[0m\u001b[1;33m(\u001b[0m\u001b[0mx\u001b[0m\u001b[1;33m)\u001b[0m\u001b[1;33m\u001b[0m\u001b[1;33m\u001b[0m\u001b[0m\n\u001b[1;32m----> 9\u001b[1;33m \u001b[0mfunc\u001b[0m\u001b[1;33m(\u001b[0m\u001b[1;33m)\u001b[0m\u001b[1;33m\u001b[0m\u001b[1;33m\u001b[0m\u001b[0m\n\u001b[0m\u001b[0;32m     10\u001b[0m \u001b[0mprint\u001b[0m\u001b[1;33m(\u001b[0m\u001b[0mx\u001b[0m\u001b[1;33m)\u001b[0m\u001b[1;33m\u001b[0m\u001b[1;33m\u001b[0m\u001b[0m\n",
      "\u001b[1;32m<ipython-input-7-990965040abf>\u001b[0m in \u001b[0;36mfunc\u001b[1;34m()\u001b[0m\n\u001b[0;32m      3\u001b[0m \u001b[1;32mdef\u001b[0m \u001b[0mfunc\u001b[0m\u001b[1;33m(\u001b[0m\u001b[1;33m)\u001b[0m\u001b[1;33m:\u001b[0m\u001b[1;33m\u001b[0m\u001b[1;33m\u001b[0m\u001b[0m\n\u001b[0;32m      4\u001b[0m     \u001b[0my\u001b[0m \u001b[1;33m=\u001b[0m \u001b[1;36m1\u001b[0m\u001b[1;33m\u001b[0m\u001b[1;33m\u001b[0m\u001b[0m\n\u001b[1;32m----> 5\u001b[1;33m     \u001b[0mprint\u001b[0m\u001b[1;33m(\u001b[0m\u001b[0mx\u001b[0m\u001b[1;33m,\u001b[0m\u001b[0my\u001b[0m\u001b[1;33m)\u001b[0m\u001b[1;33m\u001b[0m\u001b[1;33m\u001b[0m\u001b[0m\n\u001b[0m\u001b[0;32m      6\u001b[0m     \u001b[0mx\u001b[0m \u001b[1;33m=\u001b[0m \u001b[1;36m20\u001b[0m\u001b[1;33m\u001b[0m\u001b[1;33m\u001b[0m\u001b[0m\n\u001b[0;32m      7\u001b[0m \u001b[1;33m\u001b[0m\u001b[0m\n",
      "\u001b[1;31mUnboundLocalError\u001b[0m: local variable 'x' referenced before assignment"
     ]
    }
   ],
   "source": [
    "x = 10 # global scope\n",
    "\n",
    "def func():\n",
    "    y = 1\n",
    "    print(x,y)\n",
    "    x = 20\n",
    "    \n",
    "print(x)\n",
    "func()\n",
    "print(x)"
   ]
  },
  {
   "cell_type": "code",
   "execution_count": 11,
   "metadata": {},
   "outputs": [
    {
     "name": "stdout",
     "output_type": "stream",
     "text": [
      "10 10\n",
      "10 20\n"
     ]
    }
   ],
   "source": [
    "# global keyword\n",
    "x = 10 # global scope\n",
    "\n",
    "def func(b):\n",
    "    global x\n",
    "    x = x + b\n",
    "    b = b + 10\n",
    "    \n",
    "a = 10\n",
    "print(a, x)\n",
    "func(a)\n",
    "print(a, x)"
   ]
  },
  {
   "cell_type": "code",
   "execution_count": 12,
   "metadata": {},
   "outputs": [
    {
     "name": "stdout",
     "output_type": "stream",
     "text": [
      "from funct [1, 2]\n",
      "from funct [10, 20]\n",
      "main [1, 2]\n"
     ]
    }
   ],
   "source": [
    "# pass a list to function\n",
    "\n",
    "def mutate(a):\n",
    "    print(\"from funct\",a)\n",
    "    a = [10,20] # re-assign to a new reference- doesn't get reflected back\n",
    "    print(\"from funct\",a)\n",
    "    \n",
    "b = [1,2]\n",
    "mutate(b)\n",
    "print(\"main\", b)"
   ]
  },
  {
   "cell_type": "code",
   "execution_count": 13,
   "metadata": {},
   "outputs": [
    {
     "name": "stdout",
     "output_type": "stream",
     "text": [
      "from funct [1, 2]\n",
      "from funct [1, 2, 100]\n",
      "main [1, 2, 100]\n"
     ]
    }
   ],
   "source": [
    "# pass a list to function\n",
    "\n",
    "def mutate(a):\n",
    "    print(\"from funct\",a)\n",
    "    a.append(100)\n",
    "    print(\"from funct\",a)\n",
    "    \n",
    "b = [1,2]\n",
    "mutate(b)\n",
    "print(\"main\", b)"
   ]
  },
  {
   "cell_type": "code",
   "execution_count": 15,
   "metadata": {},
   "outputs": [
    {
     "name": "stdout",
     "output_type": "stream",
     "text": [
      "from funct [1, 2]\n",
      "from funct [10, 20]\n",
      "main [10, 20]\n"
     ]
    }
   ],
   "source": [
    "# pass a list to function\n",
    "\n",
    "def mutate():\n",
    "    global b\n",
    "    print(\"from funct\",b)\n",
    "    b = [10,20] \n",
    "    print(\"from funct\",b)\n",
    "    \n",
    "b = [1,2]\n",
    "mutate()\n",
    "print(\"main\", b)"
   ]
  },
  {
   "cell_type": "code",
   "execution_count": null,
   "metadata": {},
   "outputs": [],
   "source": [
    "# doc string"
   ]
  },
  {
   "cell_type": "code",
   "execution_count": 21,
   "metadata": {},
   "outputs": [
    {
     "name": "stdout",
     "output_type": "stream",
     "text": [
      "\n",
      "p=100 r=10 t=2\n",
      "20.0\n",
      "\n",
      "p=100 r=10 t=1\n",
      "10.0\n"
     ]
    }
   ],
   "source": [
    "# default arguments\n",
    "\n",
    "def funct(p,r, t = 1): # p,r are positional arguments\n",
    "    print()\n",
    "    print(\"p={} r={} t={}\".format(p,r,t))\n",
    "    return p*r*t/100\n",
    "\n",
    "\n",
    "print(funct(100,10,2))\n",
    "print(funct(100,10))\n",
    "#  print(funct(100))\n",
    "\n"
   ]
  },
  {
   "cell_type": "code",
   "execution_count": 25,
   "metadata": {},
   "outputs": [
    {
     "name": "stdout",
     "output_type": "stream",
     "text": [
      "\n",
      "p=100 r=10 t=2\n",
      "20.0\n",
      "\n",
      "p=100 r=10 t=1\n",
      "10.0\n",
      "\n",
      "p=100 r=5 t=1\n",
      "5.0\n"
     ]
    }
   ],
   "source": [
    "# default arguments: if a parameter  has default default value\n",
    "# then all parameters on its right should also have a default value\n",
    "\n",
    "def funct(p,r = 5, t = 1): # p are positional arguments\n",
    "    print()\n",
    "    print(\"p={} r={} t={}\".format(p,r,t))\n",
    "    return p*r*t/100\n",
    "\n",
    "\n",
    "print(funct(100,10,2))\n",
    "print(funct(100,10))\n",
    "print(funct(100))\n",
    "#  print(funct(100))\n",
    "\n",
    "# this gives error  if unncommented\n",
    "#\n",
    "#def funct(p,r = 5, t): # p,r are positional arguments\n",
    "#    print()\n",
    "#    print(\"p={} r={} t={}\".format(p,r,t))\n",
    "#    return p*r*t/100"
   ]
  },
  {
   "cell_type": "code",
   "execution_count": 31,
   "metadata": {},
   "outputs": [
    {
     "name": "stdout",
     "output_type": "stream",
     "text": [
      "\n",
      "p=100 r=10 t=2\n",
      "20.0\n",
      "\n",
      "p=100 r=5 t=10\n",
      "50.0\n",
      "\n",
      "p=100 r=50 t=10\n",
      "500.0\n"
     ]
    }
   ],
   "source": [
    "\n",
    "def funct(p,r = 5, t = 1): # p are positional arguments\n",
    "    print()\n",
    "    print(\"p={} r={} t={}\".format(p,r,t))\n",
    "    return p*r*t/100\n",
    "\n",
    "\n",
    "print(funct(100,10,2))\n",
    "# set p = 100, t = 10, but use default for r\n",
    "print(funct(100,t=10)) # 100 goes as positional arg, t goes as keyword argument\n",
    "print(funct(r=50,p=100,t=10)) # everything goes as keyword argument\n",
    "#print(funct(100,t=20, 5)) # keyword argrument should only appear after positional arguments"
   ]
  }
 ],
 "metadata": {
  "kernelspec": {
   "display_name": "Python 3",
   "language": "python",
   "name": "python3"
  },
  "language_info": {
   "codemirror_mode": {
    "name": "ipython",
    "version": 3
   },
   "file_extension": ".py",
   "mimetype": "text/x-python",
   "name": "python",
   "nbconvert_exporter": "python",
   "pygments_lexer": "ipython3",
   "version": "3.7.4"
  }
 },
 "nbformat": 4,
 "nbformat_minor": 2
}
