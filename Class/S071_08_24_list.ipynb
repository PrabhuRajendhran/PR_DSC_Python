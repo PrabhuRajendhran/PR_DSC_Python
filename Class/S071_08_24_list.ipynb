{
 "cells": [
  {
   "cell_type": "markdown",
   "metadata": {},
   "source": [
    "## List\n",
    "- list is a sequence\n",
    "- list is mutable\n",
    "- list is heterogeneous"
   ]
  },
  {
   "cell_type": "code",
   "execution_count": 10,
   "metadata": {},
   "outputs": [
    {
     "name": "stdout",
     "output_type": "stream",
     "text": [
      "<class 'list'>\n",
      "['In', 'Out', '_', '__', '___', '__builtin__', '__builtins__', '__doc__', '__loader__', '__name__', '__package__', '__spec__', '_dh', '_i', '_i1', '_i10', '_i2', '_i3', '_i4', '_i5', '_i6', '_i7', '_i8', '_i9', '_ih', '_ii', '_iii', '_oh', 'a', 'exit', 'get_ipython', 'quit', 'r']\n",
      "33\n"
     ]
    }
   ],
   "source": [
    "r = dir()\n",
    "print(type(r))\n",
    "print(r)\n",
    "print(len(r))"
   ]
  },
  {
   "cell_type": "code",
   "execution_count": 4,
   "metadata": {},
   "outputs": [
    {
     "name": "stdout",
     "output_type": "stream",
     "text": [
      "[] <class 'list'> 0\n"
     ]
    }
   ],
   "source": [
    "a = []\n",
    "print(a, type(a), len(a))"
   ]
  },
  {
   "cell_type": "code",
   "execution_count": 13,
   "metadata": {},
   "outputs": [
    {
     "name": "stdout",
     "output_type": "stream",
     "text": [
      "[10, 20] 2\n"
     ]
    }
   ],
   "source": [
    "a = [10, 20]\n",
    "print(a, len(a))"
   ]
  },
  {
   "cell_type": "code",
   "execution_count": 14,
   "metadata": {},
   "outputs": [
    {
     "name": "stdout",
     "output_type": "stream",
     "text": [
      "[10, 20.0, True, 'abcd'] 4\n"
     ]
    }
   ],
   "source": [
    "# heterogeneous\n",
    "a = [10, 20.0, True, \"abcd\"]\n",
    "print(a, len(a))"
   ]
  },
  {
   "cell_type": "markdown",
   "metadata": {},
   "source": [
    "### creating a list"
   ]
  },
  {
   "cell_type": "code",
   "execution_count": 1,
   "metadata": {},
   "outputs": [
    {
     "name": "stdout",
     "output_type": "stream",
     "text": [
      "[]\n"
     ]
    }
   ],
   "source": [
    "a1 = list()\n",
    "print(a1)"
   ]
  },
  {
   "cell_type": "code",
   "execution_count": 5,
   "metadata": {},
   "outputs": [
    {
     "name": "stdout",
     "output_type": "stream",
     "text": [
      "['g', 'a', 'u', 'r', 'a', 'v']\n"
     ]
    }
   ],
   "source": [
    "a1 = list(\"gaurav\") # convert string to list\n",
    "print(a1)"
   ]
  },
  {
   "cell_type": "code",
   "execution_count": 4,
   "metadata": {},
   "outputs": [
    {
     "name": "stdout",
     "output_type": "stream",
     "text": [
      "['gaurav']\n"
     ]
    }
   ],
   "source": [
    "a1 = list( [\"gaurav\"] )\n",
    "print(a1)"
   ]
  },
  {
   "cell_type": "code",
   "execution_count": 7,
   "metadata": {},
   "outputs": [
    {
     "name": "stdout",
     "output_type": "stream",
     "text": [
      "10\n",
      "60\n",
      "<class 'int'>\n",
      "[20, 30, 40] <class 'list'>\n",
      "[10] <class 'list'>\n",
      "[] <class 'list'>\n"
     ]
    }
   ],
   "source": [
    "a1 = [10,20,30,40,50,60]\n",
    "#      0  1  2  3  4  5\n",
    "\n",
    "print(a1[0])\n",
    "print(a1[-1])\n",
    "\n",
    "print(type(a1[0]))\n",
    "print(a1[1:4], type(a1[1:4]))\n",
    "print(a1[:1], type(a1[:1]))\n",
    "print(a1[:0], type(a1[:1]))"
   ]
  },
  {
   "cell_type": "code",
   "execution_count": 9,
   "metadata": {},
   "outputs": [
    {
     "name": "stdout",
     "output_type": "stream",
     "text": [
      "[10, 20, 30]\n",
      "30\n",
      "[[10, 20, 30], 2, 1, 0]\n"
     ]
    }
   ],
   "source": [
    "# Nested list\n",
    "a1 =  [0,1,2, [10,20,30]]\n",
    "print(a1[3])\n",
    "print(a1[3][2])\n",
    "print(a1[::-1])"
   ]
  },
  {
   "cell_type": "code",
   "execution_count": 10,
   "metadata": {},
   "outputs": [
    {
     "name": "stdout",
     "output_type": "stream",
     "text": [
      "['__add__', '__class__', '__contains__', '__delattr__', '__delitem__', '__dir__', '__doc__', '__eq__', '__format__', '__ge__', '__getattribute__', '__getitem__', '__gt__', '__hash__', '__iadd__', '__imul__', '__init__', '__init_subclass__', '__iter__', '__le__', '__len__', '__lt__', '__mul__', '__ne__', '__new__', '__reduce__', '__reduce_ex__', '__repr__', '__reversed__', '__rmul__', '__setattr__', '__setitem__', '__sizeof__', '__str__', '__subclasshook__', 'append', 'clear', 'copy', 'count', 'extend', 'index', 'insert', 'pop', 'remove', 'reverse', 'sort']\n"
     ]
    }
   ],
   "source": [
    "print(dir(list))"
   ]
  },
  {
   "cell_type": "markdown",
   "metadata": {},
   "source": [
    "### list functions"
   ]
  },
  {
   "cell_type": "code",
   "execution_count": 20,
   "metadata": {},
   "outputs": [
    {
     "name": "stdout",
     "output_type": "stream",
     "text": [
      "[10, 20]\n",
      "[10, 20, 30]\n",
      "[10, 20, 30, 'gaurav']\n",
      "[10, 20, 30, 'gaurav', [50, 60]]\n",
      "[10, 20, 30, 'gaurav', [50, 60], ['g', 'a', 'u', 'r', 'a', 'v']]\n"
     ]
    }
   ],
   "source": [
    "a1 = [10, 20]\n",
    "print(a1)\n",
    "a1.append(30)\n",
    "print(a1)\n",
    "a1.append(\"gaurav\")\n",
    "print(a1)\n",
    "a1.append([50,60])\n",
    "print(a1)\n",
    "a1.append(list(\"gaurav\"))\n",
    "print(a1)"
   ]
  },
  {
   "cell_type": "code",
   "execution_count": 64,
   "metadata": {},
   "outputs": [
    {
     "name": "stdout",
     "output_type": "stream",
     "text": [
      "[10, 20]\n",
      "[10, 20, 30]\n",
      "[10, 20, 30, 'g', 'a', 'u', 'r', 'a', 'v']\n",
      "[10, 20, 30, 'g', 'a', 'u', 'r', 'a', 'v', 11, 22, 33]\n"
     ]
    }
   ],
   "source": [
    "a1 = [10, 20] # extend merges two sequences\n",
    "print(a1)\n",
    "a1.extend([30]) # always pass a sequence/iterable\n",
    "print(a1)\n",
    "a1.extend(\"gaurav\")\n",
    "print(a1)\n",
    "a1.extend([11,22,33])\n",
    "print(a1)"
   ]
  },
  {
   "cell_type": "code",
   "execution_count": 22,
   "metadata": {},
   "outputs": [
    {
     "data": {
      "text/plain": [
       "6"
      ]
     },
     "execution_count": 22,
     "metadata": {},
     "output_type": "execute_result"
    }
   ],
   "source": [
    "a1.__class__\n",
    "a1.__len__()"
   ]
  },
  {
   "cell_type": "code",
   "execution_count": 30,
   "metadata": {},
   "outputs": [
    {
     "name": "stdout",
     "output_type": "stream",
     "text": [
      "2\n",
      "0\n",
      "\n",
      "3\n",
      "0\n"
     ]
    },
    {
     "ename": "ValueError",
     "evalue": "1 is not in list",
     "output_type": "error",
     "traceback": [
      "\u001b[1;31m---------------------------------------------------------------------------\u001b[0m",
      "\u001b[1;31mValueError\u001b[0m                                Traceback (most recent call last)",
      "\u001b[1;32m<ipython-input-30-59cff23398af>\u001b[0m in \u001b[0;36m<module>\u001b[1;34m\u001b[0m\n\u001b[0;32m      7\u001b[0m \u001b[0mprint\u001b[0m\u001b[1;33m(\u001b[0m\u001b[0ma1\u001b[0m\u001b[1;33m.\u001b[0m\u001b[0mindex\u001b[0m\u001b[1;33m(\u001b[0m\u001b[1;36m1\u001b[0m\u001b[1;33m,\u001b[0m\u001b[1;36m2\u001b[0m\u001b[1;33m)\u001b[0m\u001b[1;33m)\u001b[0m\u001b[1;33m\u001b[0m\u001b[1;33m\u001b[0m\u001b[0m\n\u001b[0;32m      8\u001b[0m \u001b[0mprint\u001b[0m\u001b[1;33m(\u001b[0m\u001b[0ma1\u001b[0m\u001b[1;33m.\u001b[0m\u001b[0mindex\u001b[0m\u001b[1;33m(\u001b[0m\u001b[1;36m1\u001b[0m\u001b[1;33m)\u001b[0m\u001b[1;33m)\u001b[0m\u001b[1;33m\u001b[0m\u001b[1;33m\u001b[0m\u001b[0m\n\u001b[1;32m----> 9\u001b[1;33m \u001b[0mprint\u001b[0m\u001b[1;33m(\u001b[0m\u001b[0ma1\u001b[0m\u001b[1;33m.\u001b[0m\u001b[0mindex\u001b[0m\u001b[1;33m(\u001b[0m\u001b[1;36m1\u001b[0m\u001b[1;33m,\u001b[0m\u001b[1;36m1\u001b[0m\u001b[1;33m,\u001b[0m\u001b[1;36m3\u001b[0m\u001b[1;33m)\u001b[0m\u001b[1;33m)\u001b[0m\u001b[1;33m\u001b[0m\u001b[1;33m\u001b[0m\u001b[0m\n\u001b[0m",
      "\u001b[1;31mValueError\u001b[0m: 1 is not in list"
     ]
    }
   ],
   "source": [
    "a1 = [1,2,3,1,3,2,4]\n",
    "#     0 1 2 3 4 5 6\n",
    "print(a1.count(1))\n",
    "print(a1.count(10))\n",
    "\n",
    "print()\n",
    "print(a1.index(1,2))\n",
    "print(a1.index(1))\n",
    "print(a1.index(1,1,3)) # raises exception instead of giving -1"
   ]
  },
  {
   "cell_type": "code",
   "execution_count": 35,
   "metadata": {},
   "outputs": [
    {
     "name": "stdout",
     "output_type": "stream",
     "text": [
      "[]\n",
      "[10]\n",
      "[20, 10]\n",
      "[20, 10, 30]\n",
      "[20, 10, 40, 30]\n"
     ]
    }
   ],
   "source": [
    "a1 = []\n",
    "print(a1)\n",
    "a1.insert(0,10)\n",
    "print(a1)\n",
    "a1.insert(0,20)\n",
    "print(a1)\n",
    "a1.insert(5,30)\n",
    "print(a1)\n",
    "a1.insert(2,40)\n",
    "print(a1)"
   ]
  },
  {
   "cell_type": "code",
   "execution_count": 43,
   "metadata": {},
   "outputs": [
    {
     "name": "stdout",
     "output_type": "stream",
     "text": [
      "[1, 2]\n",
      "[1] 2\n",
      "[] 1\n",
      "Cannot pop\n"
     ]
    }
   ],
   "source": [
    "# stack data structure: append, pop => stack behavior\n",
    "a1 = [1,2,3]\n",
    "a1.pop()\n",
    "print(a1)\n",
    "r = a1.pop()\n",
    "print(a1, r)\n",
    "r = a1.pop()\n",
    "print(a1, r)\n",
    "\n",
    "if len(a1) != 0:\n",
    "    r = a1.pop()\n",
    "    print(a1, r)\n",
    "else:\n",
    "    print(\"Cannot pop\")"
   ]
  },
  {
   "cell_type": "code",
   "execution_count": 46,
   "metadata": {},
   "outputs": [
    {
     "name": "stdout",
     "output_type": "stream",
     "text": [
      "[1] 2\n",
      "[] 1\n",
      "Cannot pop\n",
      "Cannot pop\n"
     ]
    }
   ],
   "source": [
    "def pop_safe(seq):\n",
    "    if len(a1) != 0:\n",
    "        r = a1.pop()\n",
    "        print(a1, r)\n",
    "    else:\n",
    "        print(\"Cannot pop\")\n",
    "        \n",
    "a1 = [1,2]\n",
    "pop_safe(a1)\n",
    "pop_safe(a1)\n",
    "pop_safe(a1)\n",
    "pop_safe(a1)"
   ]
  },
  {
   "cell_type": "code",
   "execution_count": 47,
   "metadata": {},
   "outputs": [
    {
     "data": {
      "text/plain": [
       "1"
      ]
     },
     "execution_count": 47,
     "metadata": {},
     "output_type": "execute_result"
    }
   ],
   "source": [
    "# why python pop function raises exception and not return a default value\n",
    "def pop_safe(seq):\n",
    "    if len(seq) != 0:\n",
    "        return seq.pop()\n",
    "    else:\n",
    "        return []\n",
    "        \n",
    "a1 = [1,2, [], None]\n",
    "r = pop_safe(a1)\n",
    "pop_safe(a1)\n",
    "pop_safe(a1)\n",
    "pop_safe(a1)"
   ]
  },
  {
   "cell_type": "code",
   "execution_count": 49,
   "metadata": {},
   "outputs": [
    {
     "name": "stdout",
     "output_type": "stream",
     "text": [
      "3\n",
      "[1, 2]\n"
     ]
    }
   ],
   "source": [
    "a1 = [1,2,3]\n",
    "print(a1.pop(2))\n",
    "print(a1)"
   ]
  },
  {
   "cell_type": "code",
   "execution_count": 51,
   "metadata": {},
   "outputs": [
    {
     "name": "stdout",
     "output_type": "stream",
     "text": [
      "[3, 2, 1]\n",
      "[1, 2, 3]\n",
      "[3, 2, 1]\n"
     ]
    }
   ],
   "source": [
    "# reverse reverses a list in-place/ modifies original list\n",
    "# reverse slice creates a copy\n",
    "a1 = [1,2,3]\n",
    "a2 = [1,2,3]\n",
    "a1.reverse()\n",
    "r = a2[::-1]\n",
    "print(a1)\n",
    "print(a2)\n",
    "print(r)"
   ]
  },
  {
   "cell_type": "code",
   "execution_count": 53,
   "metadata": {},
   "outputs": [
    {
     "name": "stdout",
     "output_type": "stream",
     "text": [
      "[-1, 4, 10, 50]\n",
      "[50, 10, 4, -1]\n"
     ]
    }
   ],
   "source": [
    "a1 = [10,4,50,-1]\n",
    "a1.sort()\n",
    "print(a1)\n",
    "\n",
    "a1 = [10,4,50,-1]\n",
    "a1.sort(reverse=True)\n",
    "print(a1)"
   ]
  },
  {
   "cell_type": "code",
   "execution_count": 54,
   "metadata": {},
   "outputs": [
    {
     "name": "stdout",
     "output_type": "stream",
     "text": [
      "['Apple', 'Ball', 'Car', 'apple', 'ball', 'doll']\n"
     ]
    }
   ],
   "source": [
    "# WAE to use sort with list containing\n",
    "#  1. just strings\n",
    "#  2. both string and int\n",
    "lstStr=[\"Apple\",\"apple\", \"Car\",\"Ball\",\"doll\",\"ball\"]\n",
    "lstStr.sort()\n",
    "print(lstStr)\n"
   ]
  },
  {
   "cell_type": "code",
   "execution_count": 63,
   "metadata": {},
   "outputs": [
    {
     "name": "stdout",
     "output_type": "stream",
     "text": [
      "[True, 1, 2, 2, 3]\n",
      "[True, 'abcd', 2, 2, 3]\n"
     ]
    }
   ],
   "source": [
    "# list vs string mutablity\n",
    "# replace via indexing\n",
    "s  =  'abcd'\n",
    "#s[0] = 'A'\n",
    "a = [1,1,2,2,3]\n",
    "a[0] = True\n",
    "print(a)\n",
    "a[1] = \"abcd\"\n",
    "print(a)"
   ]
  },
  {
   "cell_type": "code",
   "execution_count": null,
   "metadata": {},
   "outputs": [],
   "source": [
    "# shallow and deep copy"
   ]
  }
 ],
 "metadata": {
  "kernelspec": {
   "display_name": "Python 3",
   "language": "python",
   "name": "python3"
  },
  "language_info": {
   "codemirror_mode": {
    "name": "ipython",
    "version": 3
   },
   "file_extension": ".py",
   "mimetype": "text/x-python",
   "name": "python",
   "nbconvert_exporter": "python",
   "pygments_lexer": "ipython3",
   "version": "3.7.4"
  }
 },
 "nbformat": 4,
 "nbformat_minor": 2
}
