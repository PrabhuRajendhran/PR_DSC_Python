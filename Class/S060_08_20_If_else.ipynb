{
 "cells": [
  {
   "cell_type": "code",
   "execution_count": 1,
   "metadata": {},
   "outputs": [
    {
     "name": "stdout",
     "output_type": "stream",
     "text": [
      "False\n"
     ]
    }
   ],
   "source": [
    "s = 'Ö'\n",
    "print(s.isascii())"
   ]
  },
  {
   "cell_type": "code",
   "execution_count": 9,
   "metadata": {},
   "outputs": [
    {
     "name": "stdout",
     "output_type": "stream",
     "text": [
      "True\n"
     ]
    }
   ],
   "source": [
    "s = ''\n",
    "print(s.isprintable())"
   ]
  },
  {
   "cell_type": "code",
   "execution_count": null,
   "metadata": {},
   "outputs": [],
   "source": [
    "s  = ''"
   ]
  },
  {
   "cell_type": "code",
   "execution_count": 14,
   "metadata": {},
   "outputs": [
    {
     "name": "stdout",
     "output_type": "stream",
     "text": [
      "aaaa\n",
      " a\n",
      " a\n",
      "\n",
      "ab\n",
      " cd \u000b",
      "pq\n"
     ]
    }
   ],
   "source": [
    "s = \"\"\"aaaa\\n a\\n a\"\"\"\n",
    "print(s)\n",
    "\n",
    "print()\n",
    "s = \"ab\\n cd \\vpq\"\n",
    "print(s)"
   ]
  },
  {
   "cell_type": "code",
   "execution_count": 15,
   "metadata": {},
   "outputs": [],
   "source": [
    "# flow-control\n",
    "# if-elif-else"
   ]
  },
  {
   "cell_type": "code",
   "execution_count": 17,
   "metadata": {},
   "outputs": [
    {
     "name": "stdout",
     "output_type": "stream",
     "text": [
      "False\n"
     ]
    }
   ],
   "source": [
    "# if a number is even or not\n",
    "n = 11\n",
    "print(n%2 == 0)"
   ]
  },
  {
   "cell_type": "code",
   "execution_count": 24,
   "metadata": {},
   "outputs": [
    {
     "name": "stdout",
     "output_type": "stream",
     "text": [
      "Enter a number: 5\n",
      "Cube:  125\n"
     ]
    }
   ],
   "source": [
    "# if a number is even print its square other wise print its cube\n",
    "n = int(input(\"Enter a number: \"))\n",
    "\n",
    "if n%2 == 0:\n",
    "    print(\"Square: \", n**2)\n",
    "else:\n",
    "    print(\"Cube: \", n**3)"
   ]
  },
  {
   "cell_type": "code",
   "execution_count": 30,
   "metadata": {},
   "outputs": [
    {
     "name": "stdout",
     "output_type": "stream",
     "text": [
      "After if\n"
     ]
    }
   ],
   "source": [
    "n = 1001\n",
    "\n",
    "if n%2 == 0:\n",
    "    print(\"Square: \", n**2)\n",
    "    print(\"inside if\")\n",
    "    \n",
    "print(\"After if\")"
   ]
  },
  {
   "cell_type": "code",
   "execution_count": 32,
   "metadata": {},
   "outputs": [
    {
     "name": "stdout",
     "output_type": "stream",
     "text": [
      "Enter a num: 11\n",
      "odd\n"
     ]
    }
   ],
   "source": [
    "# WAP to input a number and  print whether it's even or odd\n",
    "# 10 => even\n",
    "# 11 => odd\n",
    "n = int(input(\"Enter a num: \"))\n",
    "\n",
    "res  = \"odd\"\n",
    "if n  % 2 ==  0:\n",
    "    res = \"even\"\n",
    "    \n",
    "print(res)\n",
    "\n",
    "# res  n\n",
    "# odd  11"
   ]
  },
  {
   "cell_type": "code",
   "execution_count": 42,
   "metadata": {},
   "outputs": [
    {
     "name": "stdout",
     "output_type": "stream",
     "text": [
      "num12\n",
      "num22\n",
      "num2 greater\n"
     ]
    }
   ],
   "source": [
    "# WAP input 2 numbers and print larger one\n",
    "a=int(input(\"num1\"))\n",
    "b=int(input(\"num2\"))\n",
    "\n",
    "if a>b:\n",
    "    print(\"num1 greater\")\n",
    "elif b>a:\n",
    "    print(\"num2 greater\")  \n",
    "elif a  == b:\n",
    "    print(\"num2 greater\")"
   ]
  },
  {
   "cell_type": "code",
   "execution_count": null,
   "metadata": {},
   "outputs": [],
   "source": [
    "# Single line if-else\n",
    "# <exp1> if <condition> else <exp2>"
   ]
  },
  {
   "cell_type": "code",
   "execution_count": 43,
   "metadata": {},
   "outputs": [
    {
     "name": "stdout",
     "output_type": "stream",
     "text": [
      "True\n",
      "False\n",
      "False\n"
     ]
    }
   ],
   "source": [
    "# logical operators\n",
    "# and , or, not\n",
    "\n",
    "# and => everything should be true\n",
    "print(True and True)\n",
    "print(True and False)\n",
    "print(True and False and True)"
   ]
  },
  {
   "cell_type": "code",
   "execution_count": 45,
   "metadata": {},
   "outputs": [
    {
     "name": "stdout",
     "output_type": "stream",
     "text": [
      "True\n",
      "True\n",
      "True\n",
      "False\n"
     ]
    }
   ],
   "source": [
    "# or => anything can be true\n",
    "print(True or True)\n",
    "print(True or False)\n",
    "print(True or False or True)\n",
    "print(False or False or False)"
   ]
  },
  {
   "cell_type": "code",
   "execution_count": 47,
   "metadata": {},
   "outputs": [
    {
     "name": "stdout",
     "output_type": "stream",
     "text": [
      "False\n",
      "True\n"
     ]
    }
   ],
   "source": [
    "# not => unary operator\n",
    "print(not True)\n",
    "print(not False)"
   ]
  },
  {
   "cell_type": "code",
   "execution_count": 52,
   "metadata": {},
   "outputs": [
    {
     "name": "stdout",
     "output_type": "stream",
     "text": [
      "Please enter String : abA\n",
      "Aba\n",
      "Entered string is not Pallindrome\n"
     ]
    }
   ],
   "source": [
    "# WAP to input a string , reverse it, check if reverse is equal to original string => pallindrome\n",
    "# aba => aba => yes\n",
    "# abc => cba => no\n",
    "s1=input('Please enter String : ')\n",
    "s2=print(s1[::-1])\n",
    "\n",
    "if s1==s2:\n",
    "    print('Entered string is Pallindrome')\n",
    "else:\n",
    "    print('Entered string is not Pallindrome')"
   ]
  },
  {
   "cell_type": "code",
   "execution_count": null,
   "metadata": {},
   "outputs": [],
   "source": [
    "# WAP to input a number and tell whether it's a multiple of 3, or of 5 , or of both, or of none\n",
    "n=int(input(f'Please enter a number :'))\n",
    "\n",
    "if n%3==0 and n%5==0:\n",
    "    print(f'Number {n} is divisible by both')\n",
    "elif n%3==0:\n",
    "    print(f'Number {n} is divisible by 3')\n",
    "elif n%3!=0 and n%5==0:\n",
    "    print(f'Number {n} is divisible by 5')\n",
    "else:\n",
    "    print(f'Number {n} is not divisible by both')\n",
    "    \n",
    "    \n",
    "num = int(input(\"Enter a number : \"))\n",
    "if (num%3==0 and num%5==0):\n",
    "    print(\"Multiple of both 5 and 3\")\n",
    "elif (num%3==0):\n",
    "    print(\"Multiple of 3\")\n",
    "elif (num%5==0):\n",
    "    print(\"Multiple of 5\")\n",
    "else:\n",
    "    print(\"Not a multiple of 3 or 5\")\n",
    "    "
   ]
  },
  {
   "cell_type": "code",
   "execution_count": 60,
   "metadata": {},
   "outputs": [
    {
     "name": "stdout",
     "output_type": "stream",
     "text": [
      "enter a string:ac\n",
      "Not a vowel\n",
      "Not a vowel\n"
     ]
    }
   ],
   "source": [
    "# WAP to input a character and print whether it's a vowel or not\n",
    "a=input(\"enter a string:\" )\n",
    "\n",
    "a = a.lower()\n",
    "if a=='a' or a=='e' or a=='i' or a=='o' or a=='u':\n",
    "    print(\"Vowel\")\n",
    "else:\n",
    "    print(\"Not a vowel\")\n"
   ]
  },
  {
   "cell_type": "code",
   "execution_count": 67,
   "metadata": {},
   "outputs": [
    {
     "name": "stdout",
     "output_type": "stream",
     "text": [
      "enter a string:c\n",
      "Not a vowel\n"
     ]
    }
   ],
   "source": [
    "# check for len of string also\n",
    "s=input(\"enter a string:\" )\n",
    "s = s.lower()\n",
    "\n",
    "if len(s) != 1:\n",
    "    print(\"Please give valid input\")\n",
    "elif s in 'aeiou':\n",
    "    print(\"Vowel\")\n",
    "else:\n",
    "    print(\"Not a vowel\")"
   ]
  },
  {
   "cell_type": "code",
   "execution_count": 70,
   "metadata": {},
   "outputs": [
    {
     "name": "stdout",
     "output_type": "stream",
     "text": [
      "enter a string:c\n",
      "Not a vowel\n"
     ]
    }
   ],
   "source": [
    "# check for len of string also\n",
    "s=input(\"enter a string:\" )\n",
    "s = s.lower()\n",
    "\n",
    "if len(s) == 1:\n",
    "    if s in 'aeiou':\n",
    "        print(\"Vowel\")\n",
    "    else:\n",
    "        print(\"Not a vowel\")\n",
    "else:    \n",
    "    print(\"Please give valid input\")\n"
   ]
  },
  {
   "cell_type": "code",
   "execution_count": null,
   "metadata": {},
   "outputs": [],
   "source": [
    "# WAP to input 3 numbers and print larget number\n",
    "\n",
    "n1 = int(input(\"N1: \"))\n",
    "n2 = int(input(\"N2: \"))\n",
    "n3 = int(input(\"N3: \"))\n",
    "\n",
    "# using if-elif-else and 'and' operator\n",
    "if n1 > n2 and n1 > n3:\n",
    "    print(n1)\n",
    "elif n2 > n1 and n2 > n3:\n",
    "    print(n2)\n",
    "else:\n",
    "    print(n3)\n",
    "    \n",
    "# using nested if-else\n",
    "if n1 > n2:\n",
    "    if n1 > n3:\n",
    "        print(n1)\n",
    "    else:\n",
    "        print(n3)\n",
    "else:\n",
    "    if n2 > n3:\n",
    "        print(n2)\n",
    "    else:\n",
    "        print(n3)\n",
    "\n",
    "# using if conditions\n",
    "res = n1\n",
    "if n2 > res:\n",
    "    res = n2\n",
    "if n3 > res:\n",
    "    res = n3\n",
    "print(res)\n",
    "\n",
    "# n1 1\n",
    "# n2 20\n",
    "# n3 3\n",
    "# res 1 20 "
   ]
  },
  {
   "cell_type": "code",
   "execution_count": null,
   "metadata": {},
   "outputs": [],
   "source": [
    "# WAP to input a string print ascii value of first and last character\n",
    "# abc => 97 , 99\n",
    "# a => 97,97 \n",
    "# '' => error"
   ]
  },
  {
   "cell_type": "code",
   "execution_count": null,
   "metadata": {},
   "outputs": [],
   "source": [
    "# input a number. Check if it's actually a number\n",
    "# find number of digits in the number\n",
    "# if number of digits is even and last digit  is even  then print \"yes\"\n",
    "# otherwise print \"no\"\n",
    "num1=input(\"Enter a number\")\n",
    "\n",
    "if num1.isnumeric():\n",
    "    print (\"No of digit in the number is \" + str(len(num1)))\n",
    "    if int(num1) % 2 == 0 and len(num1) % 2 == 0:\n",
    "        print (\"Yes\")\n",
    "    else:\n",
    "        print (\"No\")\n",
    "else:\n",
    "    print (\"Enter only a numeric field\")"
   ]
  },
  {
   "cell_type": "code",
   "execution_count": 81,
   "metadata": {},
   "outputs": [
    {
     "name": "stdout",
     "output_type": "stream",
     "text": [
      "Enter a number:1144\n",
      "Yes\n"
     ]
    }
   ],
   "source": [
    "# input a number. Check if it's actually a number\n",
    "# find number of digits in the number\n",
    "# if number of digits is even and  number is even  or no. of digits is odd and number is also odd,\n",
    "    # then print \"Yes\"\n",
    "# otherwise print \"no\"\n",
    "\n",
    "n = input(\"Enter a number:\")\n",
    "\n",
    "if n.isdigit():\n",
    "    m = int(n)\n",
    "    l = len(n)\n",
    "    if (l%2 == 0 and m%2 == 0) or (l%2 == 1 and m%2 == 1): # (l%2 == m%2)\n",
    "        print(\"Yes\")\n",
    "    else:\n",
    "        print(\"no\")\n",
    "else:\n",
    "    print(\"Please enter only numbers\")\n",
    "\n",
    "# n  = '1244'\n",
    "# m     1244\n",
    "# l     4"
   ]
  },
  {
   "cell_type": "code",
   "execution_count": null,
   "metadata": {},
   "outputs": [],
   "source": [
    "# WAP to input number, check that it is alteast 2 digit  number\n",
    "# then check if second digit is even or odd"
   ]
  },
  {
   "cell_type": "code",
   "execution_count": null,
   "metadata": {},
   "outputs": [],
   "source": [
    "num1=input(\"Enter a number\")\n",
    "m=int(num1)\n",
    "print(type(num1))# str\n",
    "print(type(m))   # int"
   ]
  }
 ],
 "metadata": {
  "kernelspec": {
   "display_name": "Python 3",
   "language": "python",
   "name": "python3"
  },
  "language_info": {
   "codemirror_mode": {
    "name": "ipython",
    "version": 3
   },
   "file_extension": ".py",
   "mimetype": "text/x-python",
   "name": "python",
   "nbconvert_exporter": "python",
   "pygments_lexer": "ipython3",
   "version": "3.7.4"
  }
 },
 "nbformat": 4,
 "nbformat_minor": 2
}
