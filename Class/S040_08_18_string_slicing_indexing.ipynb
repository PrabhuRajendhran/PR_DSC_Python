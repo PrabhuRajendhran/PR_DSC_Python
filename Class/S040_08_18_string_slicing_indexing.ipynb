{
 "cells": [
  {
   "cell_type": "code",
   "execution_count": 1,
   "metadata": {},
   "outputs": [
    {
     "name": "stdout",
     "output_type": "stream",
     "text": [
      "abcd abcd\n"
     ]
    }
   ],
   "source": [
    "# Strings\n",
    "s1 = \"abcd\"\n",
    "s2 = 'abcd'\n",
    "print(s1, s2)"
   ]
  },
  {
   "cell_type": "code",
   "execution_count": 4,
   "metadata": {},
   "outputs": [
    {
     "name": "stdout",
     "output_type": "stream",
     "text": [
      "ab\"cd ab\"cd\n"
     ]
    }
   ],
   "source": [
    "# Strings\n",
    "s1 = \"ab\\\"cd\"\n",
    "s2 = 'ab\"cd'\n",
    "print(s1, s2)"
   ]
  },
  {
   "cell_type": "code",
   "execution_count": 6,
   "metadata": {},
   "outputs": [
    {
     "name": "stdout",
     "output_type": "stream",
     "text": [
      "ab'cd ab\"c'd\n"
     ]
    }
   ],
   "source": [
    "s1 = \"ab'cd\"\n",
    "s2 = 'ab\"c\\'d'\n",
    "print(s1, s2)"
   ]
  },
  {
   "cell_type": "code",
   "execution_count": 8,
   "metadata": {},
   "outputs": [
    {
     "name": "stdout",
     "output_type": "stream",
     "text": [
      "ABC\"D' pqr \n",
      "ABC\"D' pqr \n"
     ]
    }
   ],
   "source": [
    "# multiline string/ triple quoted string\n",
    "s1 = \"\"\"ABC\"D' pqr \"\"\"\n",
    "print(s1)\n",
    "s1 = '''ABC\"D' pqr '''\n",
    "print(s1)"
   ]
  },
  {
   "cell_type": "code",
   "execution_count": 9,
   "metadata": {},
   "outputs": [
    {
     "ename": "SyntaxError",
     "evalue": "EOL while scanning string literal (<ipython-input-9-7fc38876f80c>, line 1)",
     "output_type": "error",
     "traceback": [
      "\u001b[1;36m  File \u001b[1;32m\"<ipython-input-9-7fc38876f80c>\"\u001b[1;36m, line \u001b[1;32m1\u001b[0m\n\u001b[1;33m    s1 = \"ab\u001b[0m\n\u001b[1;37m            ^\u001b[0m\n\u001b[1;31mSyntaxError\u001b[0m\u001b[1;31m:\u001b[0m EOL while scanning string literal\n"
     ]
    }
   ],
   "source": [
    "s1 = \"ab\n",
    "cd\"\n",
    "print(s1)"
   ]
  },
  {
   "cell_type": "code",
   "execution_count": 10,
   "metadata": {},
   "outputs": [
    {
     "name": "stdout",
     "output_type": "stream",
     "text": [
      "abcd\n"
     ]
    }
   ],
   "source": [
    "s1 = \"ab\\\n",
    "cd\" # \\ is used to split single statement into multiple lines\n",
    "print(s1)"
   ]
  },
  {
   "cell_type": "code",
   "execution_count": 11,
   "metadata": {},
   "outputs": [
    {
     "name": "stdout",
     "output_type": "stream",
     "text": [
      "ab\n",
      "cd \t pq\n",
      "  Space\n"
     ]
    }
   ],
   "source": [
    "s1 = \"\"\"ab\n",
    "cd \\t pq\n",
    "  Space\"\"\"\n",
    "print(s1)"
   ]
  },
  {
   "cell_type": "code",
   "execution_count": 14,
   "metadata": {},
   "outputs": [
    {
     "name": "stdout",
     "output_type": "stream",
     "text": [
      "after comment\n"
     ]
    }
   ],
   "source": [
    "# this is comment\n",
    "# second line\n",
    "\"\"\"\n",
    "this is  a multi\n",
    "line comment\n",
    "using triple quotes\n",
    "\"\"\"\n",
    "print(\"after comment\")"
   ]
  },
  {
   "cell_type": "code",
   "execution_count": 23,
   "metadata": {},
   "outputs": [
    {
     "name": "stdout",
     "output_type": "stream",
     "text": [
      "65\n",
      "66\n",
      "A\n",
      "a\n",
      "10\n",
      "9\n"
     ]
    }
   ],
   "source": [
    "# ord and chr and ASCII/UNICODE\n",
    "print(ord('A'))# ordinal\n",
    "print(ord(\"B\"))\n",
    "\n",
    "print(chr(65))\n",
    "print(chr(97))\n",
    "\n",
    "print(ord('\\n'))\n",
    "print(ord('\\t'))"
   ]
  },
  {
   "cell_type": "code",
   "execution_count": null,
   "metadata": {},
   "outputs": [],
   "source": [
    "34 => 34/2 => 1010101"
   ]
  },
  {
   "cell_type": "code",
   "execution_count": 27,
   "metadata": {},
   "outputs": [
    {
     "name": "stdout",
     "output_type": "stream",
     "text": [
      "a\n",
      "d\n",
      "i\n",
      "9\n"
     ]
    },
    {
     "ename": "IndexError",
     "evalue": "string index out of range",
     "output_type": "error",
     "traceback": [
      "\u001b[1;31m---------------------------------------------------------------------------\u001b[0m",
      "\u001b[1;31mIndexError\u001b[0m                                Traceback (most recent call last)",
      "\u001b[1;32m<ipython-input-27-3266f1abb96a>\u001b[0m in \u001b[0;36m<module>\u001b[1;34m\u001b[0m\n\u001b[0;32m      9\u001b[0m \u001b[0mprint\u001b[0m\u001b[1;33m(\u001b[0m\u001b[0ms\u001b[0m\u001b[1;33m[\u001b[0m\u001b[1;36m8\u001b[0m\u001b[1;33m]\u001b[0m\u001b[1;33m)\u001b[0m\u001b[1;33m\u001b[0m\u001b[1;33m\u001b[0m\u001b[0m\n\u001b[0;32m     10\u001b[0m \u001b[0mprint\u001b[0m\u001b[1;33m(\u001b[0m\u001b[0mlen\u001b[0m\u001b[1;33m(\u001b[0m\u001b[0ms\u001b[0m\u001b[1;33m)\u001b[0m\u001b[1;33m)\u001b[0m\u001b[1;33m\u001b[0m\u001b[1;33m\u001b[0m\u001b[0m\n\u001b[1;32m---> 11\u001b[1;33m \u001b[0mprint\u001b[0m\u001b[1;33m(\u001b[0m\u001b[0ms\u001b[0m\u001b[1;33m[\u001b[0m\u001b[1;36m10\u001b[0m\u001b[1;33m]\u001b[0m\u001b[1;33m)\u001b[0m\u001b[1;33m\u001b[0m\u001b[1;33m\u001b[0m\u001b[0m\n\u001b[0m",
      "\u001b[1;31mIndexError\u001b[0m: string index out of range"
     ]
    }
   ],
   "source": [
    "# string indexing\n",
    "\n",
    "# sequence\n",
    "# immutable\n",
    "s = 'abcdefghi'\n",
    "   # 012345678 \n",
    "print(s[0]) \n",
    "print(s[3]) \n",
    "print(s[8]) \n",
    "print(len(s))\n",
    "print(s[10])"
   ]
  },
  {
   "cell_type": "code",
   "execution_count": 35,
   "metadata": {},
   "outputs": [
    {
     "name": "stdout",
     "output_type": "stream",
     "text": [
      "Enter some string:abcd\n",
      "d\n",
      "d\n"
     ]
    }
   ],
   "source": [
    "# WAP to input a string and print last character or string\n",
    "\n",
    "s = input(\"Enter some string:\")\n",
    "print( s[len(s)-1] )\n",
    "print(s[-1])"
   ]
  },
  {
   "cell_type": "code",
   "execution_count": 32,
   "metadata": {},
   "outputs": [
    {
     "name": "stdout",
     "output_type": "stream",
     "text": [
      "i\n",
      "g\n",
      "a\n"
     ]
    }
   ],
   "source": [
    "s = 'abcdefghi'\n",
    "   # 987654321\n",
    "print(s[-1])\n",
    "print(s[-3])\n",
    "print(s[-len(s)])"
   ]
  },
  {
   "cell_type": "code",
   "execution_count": 39,
   "metadata": {},
   "outputs": [
    {
     "name": "stdout",
     "output_type": "stream",
     "text": [
      "bcd\n",
      "bcdefghi\n",
      "abcd\n",
      "bdf\n"
     ]
    }
   ],
   "source": [
    "# slicing\n",
    "s = 'abcdefghi'\n",
    "   # 012345678 \n",
    "print(s[ 1:4 ])\n",
    "print(s[ 1: ])\n",
    "print(s[ :4 ])\n",
    "print(s[ 1:6:2 ])"
   ]
  },
  {
   "cell_type": "code",
   "execution_count": 49,
   "metadata": {},
   "outputs": [
    {
     "name": "stdout",
     "output_type": "stream",
     "text": [
      "1 \n",
      "2 fgh\n",
      "2 ihgf\n",
      "2 ihg\n",
      "2 ig\n",
      "igeca\n"
     ]
    }
   ],
   "source": [
    "# slicing\n",
    "s = 'abcdefghi'\n",
    "   # 012345678 \n",
    "   # 987654321\n",
    "print(1, s[ -1:4 ])\n",
    "print(2, s[ -4:-1 ])\n",
    "print(2, s[ -1:4:-1 ])\n",
    "print(2, s[ -1:-4:-1 ])\n",
    "print(2, s[ -1:-4:-2 ])\n",
    "print(s[::-2])"
   ]
  },
  {
   "cell_type": "code",
   "execution_count": 51,
   "metadata": {},
   "outputs": [
    {
     "name": "stdout",
     "output_type": "stream",
     "text": [
      "d\n"
     ]
    }
   ],
   "source": [
    "# reverse a string\n",
    "s = 'abcd'\n",
    "print(s[::-10])"
   ]
  },
  {
   "cell_type": "code",
   "execution_count": 54,
   "metadata": {},
   "outputs": [
    {
     "name": "stdout",
     "output_type": "stream",
     "text": [
      "''\n"
     ]
    }
   ],
   "source": [
    "s = 'abcd'\n",
    "r  = s[14:40]\n",
    "print(repr(r))"
   ]
  },
  {
   "cell_type": "code",
   "execution_count": null,
   "metadata": {},
   "outputs": [],
   "source": []
  }
 ],
 "metadata": {
  "kernelspec": {
   "display_name": "Python 3",
   "language": "python",
   "name": "python3"
  },
  "language_info": {
   "codemirror_mode": {
    "name": "ipython",
    "version": 3
   },
   "file_extension": ".py",
   "mimetype": "text/x-python",
   "name": "python",
   "nbconvert_exporter": "python",
   "pygments_lexer": "ipython3",
   "version": "3.7.4"
  }
 },
 "nbformat": 4,
 "nbformat_minor": 2
}
