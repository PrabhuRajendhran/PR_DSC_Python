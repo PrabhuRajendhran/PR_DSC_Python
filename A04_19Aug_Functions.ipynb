{
 "cells": [
  {
   "cell_type": "code",
   "execution_count": 2,
   "metadata": {},
   "outputs": [
    {
     "name": "stdout",
     "output_type": "stream",
     "text": [
      "Enter String1 : Prabhu\n",
      "Enter String2 : Hello\n",
      "Hello Prabhu\n"
     ]
    }
   ],
   "source": [
    "str1=input(\"Enter String1 : \")\n",
    "str2=input(\"Enter String2 : \")\n",
    "str1,str2=str2,str1\n",
    "print(str1,str2)"
   ]
  },
  {
   "cell_type": "code",
   "execution_count": 9,
   "metadata": {},
   "outputs": [
    {
     "name": "stdout",
     "output_type": "stream",
     "text": [
      "13.5\n"
     ]
    }
   ],
   "source": [
    "import random\n",
    "n1=random.randint(0,26)\n",
    "n2=random.randint(0,26)\n",
    "n3=random.randint(0,26)\n",
    "n4=random.randint(0,26)\n",
    "print((n1+n2+n3+n4)/4)"
   ]
  },
  {
   "cell_type": "code",
   "execution_count": 14,
   "metadata": {},
   "outputs": [
    {
     "name": "stdout",
     "output_type": "stream",
     "text": [
      "q\n"
     ]
    }
   ],
   "source": [
    "str1=\"abcdefghijklmnopqrstuvwxyzABCDEFGHIJKLMNOPQRSTUVWXYZ\"\n",
    "print(str1[random.randint(0,52)])"
   ]
  },
  {
   "cell_type": "code",
   "execution_count": 15,
   "metadata": {},
   "outputs": [
    {
     "name": "stdout",
     "output_type": "stream",
     "text": [
      "Enter Principal : 10000\n",
      "Enter Years : 5\n",
      "Enter Rate : 10\n"
     ]
    },
    {
     "data": {
      "text/plain": [
       "5000.0"
      ]
     },
     "execution_count": 15,
     "metadata": {},
     "output_type": "execute_result"
    }
   ],
   "source": [
    "def get_si(p,n,r):\n",
    "    si=((p*n*r)/100)\n",
    "    return si\n",
    "\n",
    "get_si(int(input(\"Enter Principal : \")),int(input(\"Enter Years : \")),float(input(\"Enter Rate : \")))"
   ]
  },
  {
   "cell_type": "code",
   "execution_count": 19,
   "metadata": {},
   "outputs": [
    {
     "name": "stdout",
     "output_type": "stream",
     "text": [
      "Enter Principal : 10000\n"
     ]
    },
    {
     "data": {
      "text/plain": [
       "11000.0"
      ]
     },
     "execution_count": 19,
     "metadata": {},
     "output_type": "execute_result"
    }
   ],
   "source": [
    "def get_si(p,n,r):\n",
    "    si=((p*n*r)/100)\n",
    "    return si\n",
    "\n",
    "def get_amount(p,n=1,r=10):\n",
    "    amnt=p+get_si(p,n,r)\n",
    "    return amnt\n",
    "\n",
    "get_amount(int(input(\"Enter Principal : \")))\n",
    "    "
   ]
  },
  {
   "cell_type": "code",
   "execution_count": 21,
   "metadata": {},
   "outputs": [
    {
     "name": "stdout",
     "output_type": "stream",
     "text": [
      "Enter Principal : 10000\n",
      "Enter Years : 2\n",
      "Enter Rate : 10\n"
     ]
    },
    {
     "data": {
      "text/plain": [
       "2100.000000000002"
      ]
     },
     "execution_count": 21,
     "metadata": {},
     "output_type": "execute_result"
    }
   ],
   "source": [
    "def get_ci(p,t,r):\n",
    "    r = r/100\n",
    "    return (p*(1+r)**t)-(p)\n",
    "\n",
    "get_ci(int(input(\"Enter Principal : \")),int(input(\"Enter Years : \")),float(input(\"Enter Rate : \")))"
   ]
  },
  {
   "cell_type": "code",
   "execution_count": 22,
   "metadata": {},
   "outputs": [
    {
     "name": "stdout",
     "output_type": "stream",
     "text": [
      "Enter Number1 : 100\n",
      "Enter Number2 : 2\n"
     ]
    },
    {
     "data": {
      "text/plain": [
       "(50.0, 0)"
      ]
     },
     "execution_count": 22,
     "metadata": {},
     "output_type": "execute_result"
    }
   ],
   "source": [
    "def get_q_r(n1,n2):\n",
    "    return (n1/n2,n1%n2)\n",
    "\n",
    "get_q_r(int(input(\"Enter Number1 : \")),int(input(\"Enter Number2 : \")))"
   ]
  },
  {
   "cell_type": "code",
   "execution_count": 23,
   "metadata": {},
   "outputs": [
    {
     "name": "stdout",
     "output_type": "stream",
     "text": [
      "Enter Height : 100\n",
      "Enter Width : 20\n"
     ]
    },
    {
     "data": {
      "text/plain": [
       "10400"
      ]
     },
     "execution_count": 23,
     "metadata": {},
     "output_type": "execute_result"
    }
   ],
   "source": [
    "def get_hypotenuse(h,w):\n",
    "    return (pow(h,2)+pow(w,2))\n",
    "\n",
    "get_hypotenuse(int(input(\"Enter Height : \")),int(input(\"Enter Width : \")))"
   ]
  },
  {
   "cell_type": "code",
   "execution_count": 41,
   "metadata": {},
   "outputs": [
    {
     "name": "stdout",
     "output_type": "stream",
     "text": [
      "Enter Number : 10000\n"
     ]
    },
    {
     "data": {
      "text/plain": [
       "'0 day 2 hour 46 minute 40 second '"
      ]
     },
     "execution_count": 41,
     "metadata": {},
     "output_type": "execute_result"
    }
   ],
   "source": [
    "import math\n",
    "def timestamp(n):\n",
    "    dq=n//(60*60*24)\n",
    "    dr=n%(60*60*24)\n",
    "    hq=dr//(60*60)\n",
    "    hr=dr%(60*60)\n",
    "    m=hr//(60)\n",
    "    s=hr%60\n",
    "    return str(dq)+' day '+str(hq)+' hour '+str(m)+' minute '+str(s)+' second '\n",
    "\n",
    "timestamp(int(input(\"Enter Number : \")))"
   ]
  },
  {
   "cell_type": "code",
   "execution_count": 44,
   "metadata": {},
   "outputs": [
    {
     "data": {
      "text/plain": [
       "'3.8.3'"
      ]
     },
     "execution_count": 44,
     "metadata": {},
     "output_type": "execute_result"
    }
   ],
   "source": [
    "import platform\n",
    "platform.python_version()"
   ]
  },
  {
   "cell_type": "code",
   "execution_count": 45,
   "metadata": {},
   "outputs": [
    {
     "name": "stdout",
     "output_type": "stream",
     "text": [
      "2 -2\n"
     ]
    }
   ],
   "source": [
    "x=2\n",
    "x*=3\n",
    "x%=4\n",
    "y=-x\n",
    "print(x,y) # 2 -2"
   ]
  },
  {
   "cell_type": "code",
   "execution_count": 46,
   "metadata": {},
   "outputs": [
    {
     "name": "stdout",
     "output_type": "stream",
     "text": [
      "None\n"
     ]
    }
   ],
   "source": [
    "def funct():\n",
    "    pass\n",
    "print(funct()) #None"
   ]
  },
  {
   "cell_type": "code",
   "execution_count": null,
   "metadata": {},
   "outputs": [],
   "source": []
  }
 ],
 "metadata": {
  "kernelspec": {
   "display_name": "Python 3",
   "language": "python",
   "name": "python3"
  },
  "language_info": {
   "codemirror_mode": {
    "name": "ipython",
    "version": 3
   },
   "file_extension": ".py",
   "mimetype": "text/x-python",
   "name": "python",
   "nbconvert_exporter": "python",
   "pygments_lexer": "ipython3",
   "version": "3.8.3"
  }
 },
 "nbformat": 4,
 "nbformat_minor": 4
}
