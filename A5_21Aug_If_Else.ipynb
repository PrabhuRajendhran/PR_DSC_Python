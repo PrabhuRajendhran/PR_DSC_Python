{
 "cells": [
  {
   "cell_type": "code",
   "execution_count": 1,
   "metadata": {},
   "outputs": [
    {
     "name": "stdout",
     "output_type": "stream",
     "text": [
      "Enter number : 10\n",
      "Enter number : 2\n",
      "True\n"
     ]
    }
   ],
   "source": [
    "n1=int(input(\"Enter number : \"))\n",
    "n2=int(input(\"Enter number : \"))\n",
    "if (n1%n2==0):\n",
    "    print(\"True\")\n",
    "else :\n",
    "    print(\"False\")"
   ]
  },
  {
   "cell_type": "code",
   "execution_count": 2,
   "metadata": {},
   "outputs": [
    {
     "name": "stdout",
     "output_type": "stream",
     "text": [
      "Enter String : Naman\n",
      "Palindrome\n"
     ]
    }
   ],
   "source": [
    "s1=input(\"Enter String : \")\n",
    "s1=s1.lower()\n",
    "s2=s1[::-1]\n",
    "if s1==s2:\n",
    "    print(\"Palindrome\")\n",
    "else : \n",
    "    print(\"Non-Palindrome\")"
   ]
  },
  {
   "cell_type": "code",
   "execution_count": 3,
   "metadata": {},
   "outputs": [
    {
     "name": "stdout",
     "output_type": "stream",
     "text": [
      "Enter number : 10\n",
      "Enter number : 10\n",
      "Enter number : 10\n",
      "Equilateral\n"
     ]
    }
   ],
   "source": [
    "n1=int(input(\"Enter number : \"))\n",
    "n2=int(input(\"Enter number : \"))\n",
    "n3=int(input(\"Enter number : \"))\n",
    "if n1==n2 and n2==n3 and n1==n3:\n",
    "    print(\"Equilateral\")\n",
    "elif n1==n2 or n2==n3 or n1==n3 :\n",
    "    print (\"Isoceles\")\n",
    "else : \n",
    "    print (\"Scalene\") "
   ]
  },
  {
   "cell_type": "code",
   "execution_count": 4,
   "metadata": {},
   "outputs": [
    {
     "name": "stdout",
     "output_type": "stream",
     "text": [
      "Enter number : 5\n",
      "Odd\n"
     ]
    }
   ],
   "source": [
    "n1=int(input(\"Enter number : \"))\n",
    "if n1%2==0:\n",
    "    print(\"Even\")\n",
    "else : \n",
    "    print(\"Odd\")"
   ]
  },
  {
   "cell_type": "code",
   "execution_count": 5,
   "metadata": {},
   "outputs": [
    {
     "name": "stdout",
     "output_type": "stream",
     "text": [
      "Enter your age : 101\n",
      "Congratulations\n"
     ]
    }
   ],
   "source": [
    "age= int(input(\"Enter your age : \"))\n",
    "if age>=0 :\n",
    "    if age in range(0,13):\n",
    "        print(\"Child\")\n",
    "    elif age in range(13,18):\n",
    "        print(\"Teen\")\n",
    "    elif age in range(18,51):\n",
    "        print(\"Adult\")\n",
    "    elif age in range(51,101):\n",
    "        print(\"Senior Citizen\")\n",
    "    else:\n",
    "        print(\"Congratulations\")\n",
    "else : \n",
    "    print(\"Enter Valid age\")"
   ]
  },
  {
   "cell_type": "code",
   "execution_count": 6,
   "metadata": {},
   "outputs": [
    {
     "name": "stdout",
     "output_type": "stream",
     "text": [
      "Enter year : 1996\n",
      "Leap Year\n"
     ]
    }
   ],
   "source": [
    "year= int(input(\"Enter year : \"))\n",
    "if year>999:\n",
    "    if year%4==0 :\n",
    "        if year%100==0 :\n",
    "            if year%400==0:\n",
    "                print(\"Leap Year\")\n",
    "            else : \n",
    "                print(\"Non Leap Year\")\n",
    "        else : \n",
    "            print(\"Leap Year\")\n",
    "    else : \n",
    "        print(\"Non Leap Year\")\n",
    "else : \n",
    "    print(\"Enter Valid Year\")"
   ]
  },
  {
   "cell_type": "code",
   "execution_count": 9,
   "metadata": {},
   "outputs": [
    {
     "name": "stdout",
     "output_type": "stream",
     "text": [
      "Enter String : Prabhu\n",
      "prabhu\n"
     ]
    }
   ],
   "source": [
    "s1= input(\"Enter String : \")\n",
    "length=len(s1)\n",
    "if length%2==0:\n",
    "    print(s1.lower())\n",
    "else : \n",
    "    print(s1.upper())"
   ]
  },
  {
   "cell_type": "code",
   "execution_count": 13,
   "metadata": {},
   "outputs": [
    {
     "name": "stdout",
     "output_type": "stream",
     "text": [
      "Enter String : eghyuyoygegg\n",
      "non veg\n"
     ]
    }
   ],
   "source": [
    "s1= input(\"Enter String : \")\n",
    "word=\"EgG\"\n",
    "if word.lower() not in s1.lower():\n",
    "    print(\"veg\")\n",
    "else : \n",
    "    print(\"non veg\")"
   ]
  },
  {
   "cell_type": "code",
   "execution_count": 18,
   "metadata": {},
   "outputs": [
    {
     "name": "stdout",
     "output_type": "stream",
     "text": [
      "True\n",
      "True\n",
      "weird\n",
      "[4, 3, 2, 1]\n"
     ]
    }
   ],
   "source": [
    "if not 1:\n",
    "    print(\"False\")\n",
    "else:\n",
    "    print(\"True\") \n",
    "#O/p = True\n",
    "\n",
    "if 1:\n",
    "    print(\"True\")\n",
    "else:\n",
    "    print(\"False\") \n",
    "#o/p = True\n",
    "\n",
    "if 'a'>'A':\n",
    "    print (\"weird\")\n",
    "else :\n",
    "    print(\"Makes Sense\")\n",
    "#o/p = Weird\n",
    "\n",
    "a=[1,2,3,4]\n",
    "if 1>1:\n",
    "    a=a[::-1]\n",
    "else :\n",
    "    a=a[-1::-1]\n",
    "\n",
    "print(a)\n",
    "#o/p = [4,3,2,1]"
   ]
  },
  {
   "cell_type": "code",
   "execution_count": 27,
   "metadata": {},
   "outputs": [
    {
     "name": "stdout",
     "output_type": "stream",
     "text": [
      "Enter Mark : 100\n",
      "Enter Mark : 86\n",
      "Enter Mark : 56\n",
      "Enter Mark : 78\n",
      "Enter Mark : 67\n",
      "77.4\n",
      "GradeC\n"
     ]
    }
   ],
   "source": [
    "m1=int(input(\"Enter Mark : \"))\n",
    "m2=int(input(\"Enter Mark : \"))\n",
    "m3=int(input(\"Enter Mark : \"))\n",
    "m4=int(input(\"Enter Mark : \"))\n",
    "m5=int(input(\"Enter Mark : \"))\n",
    "perc=((m1+m2+m3+m4+m5)/500)*100\n",
    "print(perc)\n",
    "\n",
    "if perc>90 and perc<100 :\n",
    "    print(\"GradeA\")\n",
    "elif perc>80 and perc<89 :\n",
    "    print(\"GradeB\")\n",
    "elif perc>60 and perc<79 :\n",
    "    print(\"GradeC\")\n",
    "else : \n",
    "    print(\"GradeF\")"
   ]
  },
  {
   "cell_type": "code",
   "execution_count": 35,
   "metadata": {},
   "outputs": [
    {
     "name": "stdout",
     "output_type": "stream",
     "text": [
      "Enter Age : 31\n",
      "Enter salary : 1600000\n",
      "152500.0\n"
     ]
    }
   ],
   "source": [
    "age = int(input(\"Enter Age : \"))\n",
    "salary = int(input(\"Enter salary : \"))\n",
    "tax=0\n",
    "if age>0 and age<60:\n",
    "    if salary>=0 and salary<=250000:\n",
    "        tax=(salary*0)\n",
    "    elif salary>=250001 and salary<=500000:\n",
    "        tax=(250000*0)+((salary-250000)*0.05)\n",
    "    elif salary>=500001 and salary<=1000000:\n",
    "        tax=(250000*0)+(250000*0.05)+((salary-500000)*0.10)\n",
    "    elif salary>=1000001:\n",
    "        tax=(250000*0)+(250000*0.05)+(500000*0.10)+((salary-1000000)*0.15)\n",
    "    else :\n",
    "        print(\"Enter Valid Salary\")\n",
    "elif age>=60:\n",
    "    if salary>=0 and salary<=250000:\n",
    "        tax=(salary*0)\n",
    "    elif salary>=250001 and salary<=500000:\n",
    "        tax=(250000*0)+((salary-250000)*0.03)\n",
    "    elif salary>=500001 and salary<=1000000:\n",
    "        tax=(250000*0)+(250000*0.03)+((salary-500000)*0.08)\n",
    "    elif salary>=1000001:\n",
    "        tax=(250000*0)+(250000*0.03)+(500000*0.08)+((salary-1000000)*0.12)\n",
    "    else :\n",
    "        print(\"Enter Valid Salary\")\n",
    "else:\n",
    "    print(\"Enter Valid Age\")\n",
    "\n",
    "print(tax)\n",
    "    "
   ]
  },
  {
   "cell_type": "code",
   "execution_count": 21,
   "metadata": {},
   "outputs": [
    {
     "name": "stdout",
     "output_type": "stream",
     "text": [
      "10\n",
      "10\n",
      "10\n",
      "OMG\n"
     ]
    }
   ],
   "source": [
    "print(20 if not 1==1 else 10) #10\n",
    "print(30 if not 1==1 else 20 if 'a' < 'A' else 10) #10\n",
    "print(40 if not 1==1 else 30 if 'a' < 'A' else 20 if '' else 10) #10\n",
    "print('No' if not 1==1 else ('No' if 'a' < 'A' else ('OMG' if 'oh!!' else 'No'))) #OMG"
   ]
  },
  {
   "cell_type": "code",
   "execution_count": 37,
   "metadata": {},
   "outputs": [
    {
     "name": "stdout",
     "output_type": "stream",
     "text": [
      "Enter weight : 70\n",
      "Enter height : 170\n",
      "Normal\n"
     ]
    }
   ],
   "source": [
    "def calc_bmi(weight,height):\n",
    "    return (weight/(height/100)**2)\n",
    "\n",
    "weight = int(input(\"Enter weight : \"))\n",
    "height = int(input(\"Enter height : \"))\n",
    "bmi = calc_bmi(weight,height)\n",
    "\n",
    "if bmi <= 18.5 :\n",
    "    print(\"underweight\")\n",
    "elif bmi>18.5 and bmi<=25 :\n",
    "    print(\"Normal\")\n",
    "elif bmi>25 and bmi<=30 :\n",
    "    print(\"Overweight\")\n",
    "elif bmi>30 :\n",
    "    print(\"obese\")\n",
    "else :\n",
    "    print(\"Invalid BMI Value\")\n"
   ]
  },
  {
   "cell_type": "code",
   "execution_count": 42,
   "metadata": {},
   "outputs": [
    {
     "name": "stdout",
     "output_type": "stream",
     "text": [
      "Enter age : 30\n",
      "Enter age : 20\n",
      "Enter age : 10\n",
      "User with 30 is oldest\n",
      "User with 10 is youngest\n"
     ]
    }
   ],
   "source": [
    "age1 = int(input(\"Enter age : \"))\n",
    "age2 = int(input(\"Enter age : \"))\n",
    "age3 = int(input(\"Enter age : \"))\n",
    "\n",
    "if age1>age2:\n",
    "    if age1>age3:\n",
    "        print(\"User with \" +str(age1) + \" is oldest\")   \n",
    "    else :\n",
    "        print(\"User with \" +str(age3) + \" is oldest\")\n",
    "    if age2<age3:\n",
    "        print(\"User with \" +str(age2) + \" is youngest\")\n",
    "    else :\n",
    "        print(\"User with \" +str(age3) + \" is youngest\")        \n",
    "else:\n",
    "    if age2>age3:\n",
    "        print(\"User with \" +str(age2) + \" is oldest\")\n",
    "    else :\n",
    "        print(\"User with \" +str(age3) + \" is oldest\")  \n",
    "    if age1<age3:\n",
    "        print(\"User with \" +str(age1) + \" is youngest\")\n",
    "    else :\n",
    "        print(\"User with \" +str(age3) + \" is youngest\")\n",
    "        "
   ]
  },
  {
   "cell_type": "code",
   "execution_count": 44,
   "metadata": {},
   "outputs": [
    {
     "name": "stdout",
     "output_type": "stream",
     "text": [
      "Enter number : 35\n",
      "Yes\n"
     ]
    }
   ],
   "source": [
    "n=int(input(\"Enter number : \"))\n",
    "if n%5==0 and n%7==0:\n",
    "    print(\"Yes\")"
   ]
  },
  {
   "cell_type": "code",
   "execution_count": null,
   "metadata": {},
   "outputs": [],
   "source": []
  }
 ],
 "metadata": {
  "kernelspec": {
   "display_name": "Python 3",
   "language": "python",
   "name": "python3"
  },
  "language_info": {
   "codemirror_mode": {
    "name": "ipython",
    "version": 3
   },
   "file_extension": ".py",
   "mimetype": "text/x-python",
   "name": "python",
   "nbconvert_exporter": "python",
   "pygments_lexer": "ipython3",
   "version": "3.8.3"
  }
 },
 "nbformat": 4,
 "nbformat_minor": 4
}
