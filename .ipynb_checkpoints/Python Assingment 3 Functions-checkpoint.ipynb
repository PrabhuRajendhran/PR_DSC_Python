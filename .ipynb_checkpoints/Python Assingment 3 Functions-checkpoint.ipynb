{
 "cells": [
  {
   "cell_type": "markdown",
   "metadata": {},
   "source": [
    "WAP"
   ]
  },
  {
   "cell_type": "markdown",
   "metadata": {},
   "source": [
    "* WAP to input 2 strings and swap the strings"
   ]
  },
  {
   "cell_type": "code",
   "execution_count": 1,
   "metadata": {},
   "outputs": [
    {
     "name": "stdout",
     "output_type": "stream",
     "text": [
      "Enter a string : s1\n",
      "Enter another string : s2\n",
      "st1 : s1 st2 : s2\n",
      "st1 : s2 st2 : s1\n"
     ]
    }
   ],
   "source": [
    "st1 = input(\"Enter a string : \")\n",
    "st2 = input(\"Enter another string : \")\n",
    "print(f\"st1 : {st1} st2 : {st2}\")\n",
    "st1,st2 = st2,st1\n",
    "print(f\"st1 : {st1} st2 : {st2}\")\n"
   ]
  },
  {
   "cell_type": "markdown",
   "metadata": {},
   "source": [
    "* WAP to generate 4 random numbers in the range 0-26 and print their average "
   ]
  },
  {
   "cell_type": "code",
   "execution_count": 5,
   "metadata": {},
   "outputs": [
    {
     "name": "stdout",
     "output_type": "stream",
     "text": [
      "Average of 4 numbers 15,1,16,1 : 8.25\n"
     ]
    }
   ],
   "source": [
    "from random import randint\n",
    "\n",
    "a1 = randint(0,26)\n",
    "a2 = randint(0,26)\n",
    "a3 = randint(0,26)\n",
    "a4 = randint(0,26)\n",
    "\n",
    "print(f\"Average of 4 numbers {a1},{a2},{a3},{a4} : {(a1+a2+a3+a4)/4}\")\n",
    "\n"
   ]
  },
  {
   "cell_type": "markdown",
   "metadata": {},
   "source": [
    "* WAP to generate and print a random uppercase or lowercase alphabet. Try these: \n",
    "    • Create a string containing all alphabets and then select a random alphabet. \n",
    "    • Check the module string\n"
   ]
  },
  {
   "cell_type": "code",
   "execution_count": 8,
   "metadata": {},
   "outputs": [
    {
     "name": "stdout",
     "output_type": "stream",
     "text": [
      "t\n"
     ]
    }
   ],
   "source": [
    "import random\n",
    "st = \"qwertyuiopasdfghjklzxcvbnmQWERTYUIOPASDFGHJKLZXCVBNM\"\n",
    "random_index = random.randint(0,52)\n",
    "print(st[random_index])"
   ]
  },
  {
   "cell_type": "code",
   "execution_count": 7,
   "metadata": {},
   "outputs": [
    {
     "name": "stdout",
     "output_type": "stream",
     "text": [
      "s\n"
     ]
    }
   ],
   "source": [
    "import string\n",
    "import random\n",
    "'''\n",
    "print(dir(string))\n",
    "print(string.ascii_letters)\n",
    "print(string.digits)\n",
    "'''\n",
    "random_index = random.randint(0,52)\n",
    "ascii_alpha = list(string.ascii_letters)\n",
    "print(ascii_alpha[random_index])"
   ]
  },
  {
   "cell_type": "markdown",
   "metadata": {},
   "source": [
    "* WAF get_si() that takes Principle, Rate and Time as arguments and returns the Simple Interest"
   ]
  },
  {
   "cell_type": "code",
   "execution_count": 17,
   "metadata": {},
   "outputs": [
    {
     "name": "stdout",
     "output_type": "stream",
     "text": [
      "Enter principal amount : 3000\n",
      "Enter the time period : 2\n",
      "Enter the rate of interest (in %p.a) : 2\n",
      "120.0\n"
     ]
    }
   ],
   "source": [
    "def get_si(p,t,r):\n",
    "    return (p*t*r)/100\n",
    "\n",
    "p = int(input(\"Enter principal amount : \"))\n",
    "t = int(input(\"Enter the time period : \"))\n",
    "r = int(input(\"Enter the rate of interest (in %p.a) : \"))\n",
    "\n",
    "print(get_si(p,t,r))"
   ]
  },
  {
   "cell_type": "markdown",
   "metadata": {},
   "source": [
    "* WAF get_amount() that takes Principle, Rate and Time as arguments and returns the Total amount using the get_si() function from above to calculate the SI. Also provide Rate = 10 and Time = 1 as default arguments"
   ]
  },
  {
   "cell_type": "code",
   "execution_count": 19,
   "metadata": {},
   "outputs": [
    {
     "name": "stdout",
     "output_type": "stream",
     "text": [
      "Enter principal amount : 1000\n",
      "Enter the time period : 2\n",
      "Enter the rate of interest (in %p.a) : 2\n",
      "1040.0\n"
     ]
    }
   ],
   "source": [
    "def get_amount(p,t=1,r=10):\n",
    "    return p+(p*t*r)/100\n",
    "\n",
    "p = int(input(\"Enter principal amount : \"))\n",
    "t = int(input(\"Enter the time period : \"))\n",
    "r = int(input(\"Enter the rate of interest (in %p.a) : \"))\n",
    "\n",
    "print(get_amount(p,t,r))"
   ]
  },
  {
   "cell_type": "markdown",
   "metadata": {},
   "source": [
    "*  WAP get_ci() that takes Principle, Rate and Time as arguments and returns the Compound Interest"
   ]
  },
  {
   "cell_type": "code",
   "execution_count": 22,
   "metadata": {},
   "outputs": [
    {
     "name": "stdout",
     "output_type": "stream",
     "text": [
      "Enter principal amount : 10000\n",
      "Enter the time period : 10\n",
      "Enter the rate of interest (in %p.a) : 2\n",
      "2189.944199947573\n"
     ]
    }
   ],
   "source": [
    "def get_ci(p,t,r):\n",
    "    r = r/100\n",
    "    return p*(1+r)**t - p\n",
    "\n",
    "p = int(input(\"Enter principal amount : \"))\n",
    "t = int(input(\"Enter the time period : \"))\n",
    "r = int(input(\"Enter the rate of interest (in %p.a) : \"))\n",
    "\n",
    "print(get_ci(p,t,r))"
   ]
  },
  {
   "cell_type": "markdown",
   "metadata": {},
   "source": [
    "*  WAP get_q_r() taking 2 numbers as parameters and returns the quotient and remainder in the form of a tuple"
   ]
  },
  {
   "cell_type": "code",
   "execution_count": 23,
   "metadata": {},
   "outputs": [
    {
     "name": "stdout",
     "output_type": "stream",
     "text": [
      "Enter a number : 13\n",
      "Enter another number : 2\n",
      "(6, 1)\n"
     ]
    }
   ],
   "source": [
    "def get_q_r(n,m):\n",
    "    return (n//m,n%m)\n",
    " \n",
    "n1 = int(input(\"Enter a number : \"))\n",
    "n2 = int(input(\"Enter another number : \"))\n",
    "\n",
    "print(get_q_r(n1,n2))\n",
    "\n",
    "    "
   ]
  },
  {
   "cell_type": "markdown",
   "metadata": {},
   "source": [
    "* WAP to find the length of hypotenuse of a right angled triangle, input the height and base from user. "
   ]
  },
  {
   "cell_type": "code",
   "execution_count": 24,
   "metadata": {},
   "outputs": [
    {
     "name": "stdout",
     "output_type": "stream",
     "text": [
      "Enter the height : 3\n",
      "Enter the base : 4\n",
      "5.0\n"
     ]
    }
   ],
   "source": [
    "import math\n",
    "def hyp_len(ht,bs):\n",
    "    return math.sqrt(ht**2+bs**2)\n",
    "\n",
    "ht = int(input(\"Enter the height : \"))\n",
    "bs = int(input(\"Enter the base : \"))\n",
    "print(hyp_len(ht,bs))"
   ]
  },
  {
   "cell_type": "markdown",
   "metadata": {},
   "source": [
    "* WAP to input number of seconds and print in days, hours, minutes and seconds ex: input = 10000       Output = 0 day 2 hour 46 minute 40 second "
   ]
  },
  {
   "cell_type": "code",
   "execution_count": 27,
   "metadata": {},
   "outputs": [
    {
     "name": "stdout",
     "output_type": "stream",
     "text": [
      "Enter seconds : 90000\n",
      "1 day 1 hour 0 minute 0 second\n"
     ]
    }
   ],
   "source": [
    "def sec_con(sec):\n",
    "    day = sec // 86400\n",
    "    sec = sec % 86400\n",
    "    hours = sec // 3600\n",
    "    sec = sec % 3600\n",
    "    mins = sec // 60\n",
    "    sec = sec % 60\n",
    "    return f\"{day} day {hours} hour {mins} minute {sec} second\"\n",
    "\n",
    "secs = int(input(\"Enter seconds : \"))\n",
    "print(sec_con(secs))"
   ]
  },
  {
   "cell_type": "markdown",
   "metadata": {},
   "source": [
    "* Check your version of python interpreter without opening the interpreter (Which command needs to be used on the command line). "
   ]
  },
  {
   "cell_type": "code",
   "execution_count": 33,
   "metadata": {},
   "outputs": [
    {
     "name": "stdout",
     "output_type": "stream",
     "text": [
      "3.7.0\n"
     ]
    }
   ],
   "source": [
    "from platform import python_version\n",
    "\n",
    "print(python_version())"
   ]
  },
  {
   "cell_type": "markdown",
   "metadata": {},
   "source": [
    "# Predict the output"
   ]
  },
  {
   "cell_type": "code",
   "execution_count": 34,
   "metadata": {},
   "outputs": [
    {
     "name": "stdout",
     "output_type": "stream",
     "text": [
      "2 -2\n"
     ]
    }
   ],
   "source": [
    "x = 2\n",
    "x *= 3\n",
    "x = x % 4\n",
    "y = -x\n",
    "print(x,y)"
   ]
  },
  {
   "cell_type": "code",
   "execution_count": 35,
   "metadata": {},
   "outputs": [
    {
     "name": "stdout",
     "output_type": "stream",
     "text": [
      "None\n"
     ]
    }
   ],
   "source": [
    "def fun():\n",
    "    pass\n",
    "\n",
    "print(fun())"
   ]
  }
 ],
 "metadata": {
  "kernelspec": {
   "display_name": "Python 3",
   "language": "python",
   "name": "python3"
  },
  "language_info": {
   "codemirror_mode": {
    "name": "ipython",
    "version": 3
   },
   "file_extension": ".py",
   "mimetype": "text/x-python",
   "name": "python",
   "nbconvert_exporter": "python",
   "pygments_lexer": "ipython3",
   "version": "3.8.3"
  }
 },
 "nbformat": 4,
 "nbformat_minor": 2
}
