{
 "cells": [
  {
   "cell_type": "markdown",
   "metadata": {},
   "source": [
    "## #1 Write lambdas to: a. Square a number x2 b. Inverse a number 1/x c. Negate a number "
   ]
  },
  {
   "cell_type": "code",
   "execution_count": 1,
   "metadata": {},
   "outputs": [
    {
     "name": "stdout",
     "output_type": "stream",
     "text": [
      "[1, 4, 9, 25]\n"
     ]
    }
   ],
   "source": [
    "lst = [1,2,3,5]\n",
    "sq = list(map(lambda x : x*x,lst))\n",
    "print(sq)"
   ]
  },
  {
   "cell_type": "code",
   "execution_count": 2,
   "metadata": {},
   "outputs": [
    {
     "name": "stdout",
     "output_type": "stream",
     "text": [
      "[1.0, 0.5, 0.3333333333333333, 0.2]\n"
     ]
    }
   ],
   "source": [
    "lst = [1,2,3,5]\n",
    "inv = list(map(lambda x : 1/x,lst))\n",
    "print(inv)"
   ]
  },
  {
   "cell_type": "code",
   "execution_count": 3,
   "metadata": {},
   "outputs": [
    {
     "name": "stdout",
     "output_type": "stream",
     "text": [
      "[-1, -2, -3, -5]\n"
     ]
    }
   ],
   "source": [
    "lst = [1,2,3,5]\n",
    "neg = list(map(lambda x : -x,lst))\n",
    "print(neg)"
   ]
  },
  {
   "cell_type": "markdown",
   "metadata": {},
   "source": [
    "## #2  Use reduce function and an appropriate lambda to find the maximum number in a list. "
   ]
  },
  {
   "cell_type": "code",
   "execution_count": 5,
   "metadata": {},
   "outputs": [
    {
     "name": "stdout",
     "output_type": "stream",
     "text": [
      "99\n"
     ]
    }
   ],
   "source": [
    "from functools import reduce\n",
    "lst = [1,2,3,5,99,10]\n",
    "largest = reduce(lambda x,y:x if x>y else y,lst )\n",
    "print(largest)"
   ]
  },
  {
   "cell_type": "markdown",
   "metadata": {},
   "source": [
    "## #3  Write a function map_multiple that takes a list of functions/lambdas as first argument and a sequence type as second argument.  The function picks first lambda from list, applies it to first element, then applies the second function to the result of first one and …. Similarly it does for each element and generates a mapping of input to output def map_multiple(functs, sequence):  # write definition here Ex: let list of lambdas be from question 1 and the list on numbers be [1,2,4]  So first function gives [1, 4, 16]  Second gives [1, 0.25, 0.0625]  Third gives [-1, -0.25, -0.0625]. Which is the final result?"
   ]
  },
  {
   "cell_type": "code",
   "execution_count": 6,
   "metadata": {},
   "outputs": [
    {
     "name": "stdout",
     "output_type": "stream",
     "text": [
      "[1, 4, 9, 16, 25, 9801, 100]\n",
      "[1.0, 0.5, 0.3333333333333333, 0.25, 0.2, 0.010101010101010102, 0.1]\n",
      "[-1, -2, -3, -4, -5, -99, -10]\n"
     ]
    }
   ],
   "source": [
    "def sq(lst):\n",
    "    return list(map(lambda x:x*x,lst))\n",
    "\n",
    "def inv(lst):\n",
    "    return list(map(lambda x:1/x,lst))\n",
    "\n",
    "def neg(lst):\n",
    "    return list(map(lambda x:-x,lst))\n",
    "    \n",
    "def map_multiple(func,lst):\n",
    "    return func(lst)\n",
    "\n",
    "lt = [1,2,3,4,5,99,10]\n",
    "print(map_multiple(sq,lt))\n",
    "print(map_multiple(inv,lt))\n",
    "print(map_multiple(neg,lt))\n"
   ]
  },
  {
   "cell_type": "markdown",
   "metadata": {},
   "source": [
    "## #6 Use filter function to filter a list of numbers and strings such that the result contains only numbers. (Hint : Use isinstance method)  \n",
    " "
   ]
  },
  {
   "cell_type": "code",
   "execution_count": 17,
   "metadata": {},
   "outputs": [
    {
     "name": "stdout",
     "output_type": "stream",
     "text": [
      "Enter a string : test16yvs\n",
      "['1', '6']\n"
     ]
    }
   ],
   "source": [
    "lst = input(\"Enter a string : \")\n",
    "num = list(filter(lambda x:str.isnumeric(x),lst))\n",
    "print(num)"
   ]
  },
  {
   "cell_type": "markdown",
   "metadata": {},
   "source": [
    "## #7 Assume a list containing heights ft and inches in the form of a list of string Example : l = [‘5ft10in’, ‘5ft’, ….] Write a function to convert the heights to meter. Use map function along with your function to convert everything to m."
   ]
  },
  {
   "cell_type": "markdown",
   "metadata": {},
   "source": [
    "`1 feet = 0.3048m 1 inch = 0.0254m`"
   ]
  },
  {
   "cell_type": "code",
   "execution_count": 21,
   "metadata": {},
   "outputs": [
    {
     "name": "stdout",
     "output_type": "stream",
     "text": [
      "[1.778, 1.7526, 0.3048, 0.0254]\n"
     ]
    }
   ],
   "source": [
    "def con(st):\n",
    "    if 'ft'in st and 'in' in st:\n",
    "        ft = st[:st.find('ft')]\n",
    "        inc = st[st.find('ft')+2:st.find('in')]\n",
    "    elif 'ft'in st and 'in' not in st:\n",
    "        ft = st[:st.find('ft')]\n",
    "        inc = 0\n",
    "    elif 'ft'not in st and 'in' in st:\n",
    "        ft = 0\n",
    "        inc = st[:st.find('in')]\n",
    "    else:\n",
    "        ft = 0\n",
    "        inc = 0\n",
    "    m = float(ft)*0.3048 + float(inc)*0.0254\n",
    "    return m\n",
    "\n",
    "l = ['5ft10in','5ft9in','1ft','1in']\n",
    "l_in_m = list(map(con,l))\n",
    "print(l_in_m)"
   ]
  },
  {
   "cell_type": "markdown",
   "metadata": {},
   "source": [
    "## #8 Write the implementation for the map function yourself by the name my_map() "
   ]
  },
  {
   "cell_type": "code",
   "execution_count": 23,
   "metadata": {},
   "outputs": [
    {
     "name": "stdout",
     "output_type": "stream",
     "text": [
      "[24, 6, 8, 10]\n"
     ]
    }
   ],
   "source": [
    "def my_map(f1,seq):\n",
    "    lst = []\n",
    "    for k in seq:\n",
    "        lst.append(f1(k))\n",
    "    return lst\n",
    "\n",
    "lt = [12,3,4,5]\n",
    "print(my_map(lambda x:x*2,lt))"
   ]
  },
  {
   "cell_type": "markdown",
   "metadata": {},
   "source": [
    "## Predict the output"
   ]
  },
  {
   "cell_type": "markdown",
   "metadata": {},
   "source": [
    "#5"
   ]
  },
  {
   "cell_type": "code",
   "execution_count": 24,
   "metadata": {},
   "outputs": [
    {
     "name": "stdout",
     "output_type": "stream",
     "text": [
      "[1.0, 0.25, 0.0625, 0.015625]\n"
     ]
    }
   ],
   "source": [
    "functs = [lambda x:x**0.5,lambda x:1/x]\n",
    "lt = [1,4,16,64]\n",
    "ans = []\n",
    "for n in lt:\n",
    "    res = n\n",
    "    for ft in functs:\n",
    "        res = ft(n)\n",
    "    ans.append(res)\n",
    "print(ans)\n"
   ]
  }
 ],
 "metadata": {
  "kernelspec": {
   "display_name": "Python 3",
   "language": "python",
   "name": "python3"
  },
  "language_info": {
   "codemirror_mode": {
    "name": "ipython",
    "version": 3
   },
   "file_extension": ".py",
   "mimetype": "text/x-python",
   "name": "python",
   "nbconvert_exporter": "python",
   "pygments_lexer": "ipython3",
   "version": "3.8.3"
  }
 },
 "nbformat": 4,
 "nbformat_minor": 2
}
