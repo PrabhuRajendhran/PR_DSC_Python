{
 "cells": [
  {
   "cell_type": "code",
   "execution_count": 5,
   "metadata": {},
   "outputs": [
    {
     "name": "stdout",
     "output_type": "stream",
     "text": [
      "Enter String :10\n",
      "even\n"
     ]
    }
   ],
   "source": [
    "n = int(input(\"Enter String :\"))\n",
    "if n%2 == 0:\n",
    "    print(\"even\")\n",
    "else :\n",
    "    print(\"odd\")"
   ]
  },
  {
   "cell_type": "code",
   "execution_count": 6,
   "metadata": {},
   "outputs": [
    {
     "name": "stdout",
     "output_type": "stream",
     "text": [
      "Enter String :10\n",
      "Enter String :11\n",
      "11\n"
     ]
    }
   ],
   "source": [
    "n1 = int(input(\"Enter String :\"))\n",
    "n2 = int(input(\"Enter String :\"))\n",
    "if n2>n1:\n",
    "    print(n2)\n",
    "else :\n",
    "    print(n1)"
   ]
  },
  {
   "cell_type": "code",
   "execution_count": 9,
   "metadata": {},
   "outputs": [
    {
     "name": "stdout",
     "output_type": "stream",
     "text": [
      "Enter String :10\n",
      "Enter String :20\n",
      "Enter String :30\n",
      "30is larger\n"
     ]
    }
   ],
   "source": [
    "n1 = int(input(\"Enter String :\"))\n",
    "n2 = int(input(\"Enter String :\"))\n",
    "n3 = int(input(\"Enter String :\"))\n",
    "if n2>n1 and n2>n3:\n",
    "    print(str(n2)+\" is larger\")\n",
    "elif n3>n1 and n3>n2:\n",
    "    print(str(n3)+\" is larger\")\n",
    "elif n1>n3 and n1>n2:\n",
    "    print(str(n1)+\" is larger\")\n",
    "else :\n",
    "    print(\"all are equal\")"
   ]
  },
  {
   "cell_type": "code",
   "execution_count": 12,
   "metadata": {},
   "outputs": [
    {
     "name": "stdout",
     "output_type": "stream",
     "text": [
      "Enter String :aba\n",
      "Palindrome\n"
     ]
    }
   ],
   "source": [
    "s = (input(\"Enter String :\"))\n",
    "s1 = s[::-1]\n",
    "\n",
    "if s.lower() == s1.lower():\n",
    "    print(\"Palindrome\")\n",
    "else :\n",
    "    print(\"Not palindrome\")"
   ]
  },
  {
   "cell_type": "code",
   "execution_count": 16,
   "metadata": {},
   "outputs": [
    {
     "name": "stdout",
     "output_type": "stream",
     "text": [
      "Enter String :2\n",
      "Multiple of None\n"
     ]
    }
   ],
   "source": [
    "n1 = int(input(\"Enter String :\"))\n",
    "\n",
    "if n1%3==0 and n1%5==0:\n",
    "    print(\"Multiple of both\")\n",
    "elif n1%3==0 and n1%5!=0:\n",
    "    print(\"Multiple of 3\")\n",
    "elif n1%3!=0 and n1%5==0:\n",
    "    print(\"Multiple of 5\")\n",
    "else :\n",
    "    print(\"Multiple of None\")"
   ]
  },
  {
   "cell_type": "code",
   "execution_count": 18,
   "metadata": {},
   "outputs": [
    {
     "name": "stdout",
     "output_type": "stream",
     "text": [
      "Enter String :a\n",
      "Vowel\n"
     ]
    }
   ],
   "source": [
    "n1 = (input(\"Enter String :\"))\n",
    "\n",
    "if n1.lower() in ('a','e','i','o','u'):\n",
    "    print(\"Vowel\")\n",
    "else :\n",
    "    print(\"Consonant\")\n",
    "    \n",
    "1. https://www.python.org/dev/peps/pep-0008/#naming-conventions\n",
    "    2.Birtual environment\n",
    "    3.ASCII & Unicode\n",
    "    4.Code Modularity"
   ]
  },
  {
   "cell_type": "code",
   "execution_count": 24,
   "metadata": {},
   "outputs": [
    {
     "name": "stdout",
     "output_type": "stream",
     "text": [
      "Enter String :\n",
      "Enter valid input\n"
     ]
    }
   ],
   "source": [
    "n1 = (input(\"Enter String :\"))\n",
    "n2=n1[::-1]\n",
    "if len(n1)==0:\n",
    "    print(\"Enter valid input\")\n",
    "else :\n",
    "    print(ord(n1[0]))\n",
    "    print(ord(n2[0]))"
   ]
  },
  {
   "cell_type": "code",
   "execution_count": 40,
   "metadata": {},
   "outputs": [
    {
     "name": "stdout",
     "output_type": "stream",
     "text": [
      "Enter any number: 123\n",
      "The number of digits in the given number are: 3\n",
      "No\n"
     ]
    }
   ],
   "source": [
    "input_num = (input('Enter any number: '))\n",
    "\n",
    "count = 0\n",
    "if input_num.isnumeric():\n",
    "    input_num1 = int(input_num)\n",
    "    while input_num1 > 0:\n",
    "        count += 1\n",
    "        input_num1 //= 10\n",
    "    print(\"The number of digits in the given number are:\", count)\n",
    "    if (count%2==input_num1%2):\n",
    "        print(\"Yes\")\n",
    "    else :\n",
    "        print(\"No\")\n",
    "else :\n",
    "    print(\"Enter only numbers\")\n"
   ]
  },
  {
   "cell_type": "code",
   "execution_count": 50,
   "metadata": {},
   "outputs": [
    {
     "name": "stdout",
     "output_type": "stream",
     "text": [
      "Enter any number: 1\n",
      "Enter only numbers or no.of digits should be atleast 2\n"
     ]
    }
   ],
   "source": [
    "input_num = (input('Enter any number: '))\n",
    "count=len(input_num)\n",
    "\n",
    "if input_num.isnumeric() and count>2:\n",
    "    print(\"The number of digits in the given number are:\", count)\n",
    "    if (int(input_num[1])%2==0):\n",
    "        print(\"Even\")\n",
    "    else :\n",
    "        print(\"Odd\")\n",
    "else :\n",
    "    print(\"Enter only numbers or no.of digits should be atleast 2\")"
   ]
  },
  {
   "cell_type": "code",
   "execution_count": null,
   "metadata": {},
   "outputs": [],
   "source": []
  },
  {
   "cell_type": "code",
   "execution_count": null,
   "metadata": {},
   "outputs": [],
   "source": []
  }
 ],
 "metadata": {
  "kernelspec": {
   "display_name": "Python 3",
   "language": "python",
   "name": "python3"
  },
  "language_info": {
   "codemirror_mode": {
    "name": "ipython",
    "version": 3
   },
   "file_extension": ".py",
   "mimetype": "text/x-python",
   "name": "python",
   "nbconvert_exporter": "python",
   "pygments_lexer": "ipython3",
   "version": "3.8.3"
  }
 },
 "nbformat": 4,
 "nbformat_minor": 4
}
