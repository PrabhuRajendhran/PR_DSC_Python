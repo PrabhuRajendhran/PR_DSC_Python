{
 "cells": [
  {
   "cell_type": "code",
   "execution_count": 10,
   "metadata": {},
   "outputs": [
    {
     "name": "stdout",
     "output_type": "stream",
     "text": [
      "Enter limit10\n",
      "1\n",
      "2\n",
      "3\n",
      "4\n",
      "5\n",
      "6\n",
      "7\n",
      "8\n",
      "9\n",
      "10\n"
     ]
    }
   ],
   "source": [
    "#print n natural numbers\n",
    "\n",
    "n = int(input(\"Enter limit\"))\n",
    "for i in range(1,n+1):\n",
    "    print(i)\n"
   ]
  },
  {
   "cell_type": "code",
   "execution_count": 12,
   "metadata": {},
   "outputs": [
    {
     "name": "stdout",
     "output_type": "stream",
     "text": [
      "Enter limit10\n",
      "55\n"
     ]
    }
   ],
   "source": [
    "#print sum of n natural numbers \n",
    "\n",
    "n = int(input(\"Enter limit\"))\n",
    "s=0\n",
    "for i in range(1,n+1):\n",
    "    s+=i\n",
    "print(s)\n"
   ]
  },
  {
   "cell_type": "code",
   "execution_count": 14,
   "metadata": {},
   "outputs": [
    {
     "name": "stdout",
     "output_type": "stream",
     "text": [
      "Enter limit10\n",
      "10\n",
      "9\n",
      "8\n",
      "7\n",
      "6\n",
      "5\n",
      "4\n",
      "3\n",
      "2\n",
      "1\n"
     ]
    }
   ],
   "source": [
    "#print n natural numbers in reverse\n",
    "\n",
    "n = int(input(\"Enter limit\"))\n",
    "for i in range(1,n+1):\n",
    "    print((n+1)-i)"
   ]
  },
  {
   "cell_type": "code",
   "execution_count": 22,
   "metadata": {},
   "outputs": [
    {
     "name": "stdout",
     "output_type": "stream",
     "text": [
      "Enter Number : 2\n"
     ]
    },
    {
     "data": {
      "text/plain": [
       "2"
      ]
     },
     "execution_count": 22,
     "metadata": {},
     "output_type": "execute_result"
    }
   ],
   "source": [
    "#Factorial - Using Function : \n",
    "\n",
    "def fact(n):\n",
    "    if n==0 or n==1:\n",
    "        return 1\n",
    "    return n*fact(n-1)\n",
    "\n",
    "fact(int(input(\"Enter Number : \")))"
   ]
  },
  {
   "cell_type": "code",
   "execution_count": 25,
   "metadata": {},
   "outputs": [
    {
     "name": "stdout",
     "output_type": "stream",
     "text": [
      "Enter Number : 5\n",
      "120\n"
     ]
    }
   ],
   "source": [
    "# Factorial - Using Loops\n",
    "n=int(input(\"Enter Number : \"))\n",
    "fact=1\n",
    "for i in range(n+1):\n",
    "    if i==0 or i==1:\n",
    "        fact*=1\n",
    "    else :\n",
    "        fact*=i\n",
    "\n",
    "print(fact)"
   ]
  },
  {
   "cell_type": "code",
   "execution_count": 70,
   "metadata": {},
   "outputs": [
    {
     "name": "stdout",
     "output_type": "stream",
     "text": [
      "Enter Number : 10\n",
      "0\n",
      "1\n",
      "1\n",
      "2\n",
      "3\n",
      "5\n",
      "8\n",
      "13\n",
      "21\n",
      "34\n"
     ]
    }
   ],
   "source": [
    "#Fibo till n - Using Loops\n",
    "\n",
    "n=int(input(\"Enter Number : \"))\n",
    "n1,n2=0,1\n",
    "for i in range(n):\n",
    "    if i==0:\n",
    "        sum_res=0\n",
    "    elif i==1:\n",
    "        sum_res=1\n",
    "    else :\n",
    "        sum_res=n1+n2\n",
    "        n1=n2\n",
    "        n2=sum_res\n",
    "    print(sum_res)\n"
   ]
  },
  {
   "cell_type": "code",
   "execution_count": 74,
   "metadata": {},
   "outputs": [
    {
     "name": "stdout",
     "output_type": "stream",
     "text": [
      "Enter Number : 5\n",
      "0\n",
      "1\n",
      "1\n",
      "2\n",
      "3\n"
     ]
    }
   ],
   "source": [
    "#Fibo till n - Using functions\n",
    "\n",
    "def fibo(n):\n",
    "    if n==0 :\n",
    "        return 0\n",
    "    elif n==1:\n",
    "        return 1\n",
    "    else :\n",
    "        return fibo(n-2)+fibo(n-1)\n",
    "\n",
    "n=int(input(\"Enter Number : \"))\n",
    "for i in range(n):\n",
    "    print(fibo(i))"
   ]
  },
  {
   "cell_type": "code",
   "execution_count": 43,
   "metadata": {},
   "outputs": [
    {
     "name": "stdout",
     "output_type": "stream",
     "text": [
      "Enter Number : 12345\n",
      "1\n",
      "2\n",
      "3\n",
      "4\n",
      "5\n"
     ]
    }
   ],
   "source": [
    "#WAP to print all digits of a number input from user. \n",
    "\n",
    "n=list(input(\"Enter Number : \"))\n",
    "for i in n:\n",
    "    print(i)"
   ]
  },
  {
   "cell_type": "code",
   "execution_count": 42,
   "metadata": {},
   "outputs": [
    {
     "name": "stdout",
     "output_type": "stream",
     "text": [
      "Enter Number : 123\n",
      "6\n"
     ]
    }
   ],
   "source": [
    "#WAP to print sum of all digits of a number input from user. \n",
    "\n",
    "n=list(input(\"Enter Number : \"))\n",
    "sum=0\n",
    "for i in n:\n",
    "    sum+=int(i)\n",
    "print(sum)"
   ]
  },
  {
   "cell_type": "code",
   "execution_count": 93,
   "metadata": {},
   "outputs": [
    {
     "name": "stdout",
     "output_type": "stream",
     "text": [
      "Enter Number : 10\n",
      "1!+2!+3!+4!+5!+6!+7!+8!+9!+10!+\n",
      "4037913\n"
     ]
    }
   ],
   "source": [
    "# to find sum of following series given n as input from user 1! + 2! + 3! + 4! + 5! + ….n!\n",
    "\n",
    "def fact(n):\n",
    "    if n==0 or n==1:\n",
    "        return 1\n",
    "    return n*fact(n-1)\n",
    "\n",
    "n=int(input(\"Enter Number : \"))\n",
    "sum=0\n",
    "for i in range(1,n+1):\n",
    "    print(str(i)+\"!\",end=\"+\")\n",
    "    sum+=fact(i)\n",
    "print()\n",
    "print(sum)"
   ]
  },
  {
   "cell_type": "code",
   "execution_count": 99,
   "metadata": {},
   "outputs": [
    {
     "name": "stdout",
     "output_type": "stream",
     "text": [
      "Enter Base : 5\n",
      "Enter Exponent : 4\n",
      "625\n"
     ]
    }
   ],
   "source": [
    "#WAP to input base and exponent and print result without using inbuilt function pow(use for or while loop). \n",
    "\n",
    "base=int(input(\"Enter Base : \"))\n",
    "exp=int(input(\"Enter Exponent : \"))\n",
    "res=1\n",
    "\n",
    "for i in range(1,exp+1):\n",
    "    res*=base\n",
    "print(res)"
   ]
  },
  {
   "cell_type": "code",
   "execution_count": 125,
   "metadata": {},
   "outputs": [
    {
     "name": "stdout",
     "output_type": "stream",
     "text": [
      "Enter number : 5\n",
      "*    \n",
      "**   \n",
      "***  \n",
      "**** \n",
      "*****\n"
     ]
    }
   ],
   "source": [
    "#Print following patterns: \n",
    "\n",
    "'''\n",
    "0,0 0,1 0,2 0,3 0,4\n",
    "1,0 1,1 1,2 1,3 1,4\n",
    "2,0 2,1 2,2 2,3 2,4\n",
    "3,0 3,1 3,2 3,3 3,4\n",
    "4,0 4,1 4,2 4,3 4,4\n",
    "''' \n",
    "\n",
    "n=int(input(\"Enter number : \"))\n",
    "for i in range(n):\n",
    "    for j in range(n):\n",
    "        if (i>=j) :\n",
    "            print(\"*\", end=\"\")\n",
    "        else :\n",
    "            print(\" \", end=\"\")\n",
    "        \n",
    "    print()"
   ]
  },
  {
   "cell_type": "code",
   "execution_count": 126,
   "metadata": {},
   "outputs": [
    {
     "name": "stdout",
     "output_type": "stream",
     "text": [
      "Enter number : 5\n",
      "*****\n",
      " ****\n",
      "  ***\n",
      "   **\n",
      "    *\n"
     ]
    }
   ],
   "source": [
    "n=int(input(\"Enter number : \"))\n",
    "for i in range(n):\n",
    "    for j in range(n):\n",
    "        if (i<=j) :\n",
    "            print(\"*\", end=\"\")\n",
    "        else :\n",
    "            print(\" \", end=\"\")\n",
    "    print()\n"
   ]
  },
  {
   "cell_type": "code",
   "execution_count": 124,
   "metadata": {},
   "outputs": [
    {
     "name": "stdout",
     "output_type": "stream",
     "text": [
      "Enter number : 5\n",
      "*    \n",
      " *   \n",
      "  *  \n",
      "   * \n",
      "    *\n"
     ]
    }
   ],
   "source": [
    "n=int(input(\"Enter number : \"))\n",
    "for i in range(n):\n",
    "    for j in range(n):\n",
    "        if (i==j) :\n",
    "            print(\"*\", end=\"\")\n",
    "        else : \n",
    "            print(\" \", end=\"\")\n",
    "    print()"
   ]
  },
  {
   "cell_type": "code",
   "execution_count": 127,
   "metadata": {},
   "outputs": [
    {
     "name": "stdout",
     "output_type": "stream",
     "text": [
      "Enter number : 5\n",
      "    *\n",
      "   * \n",
      "  *  \n",
      " *   \n",
      "*    \n"
     ]
    }
   ],
   "source": [
    "n=int(input(\"Enter number : \"))\n",
    "for i in range(n):\n",
    "    for j in range(n):\n",
    "        if (i+j==n-1) :\n",
    "            print(\"*\", end=\"\")\n",
    "        else : \n",
    "            print(\" \", end=\"\")\n",
    "    print()"
   ]
  },
  {
   "cell_type": "code",
   "execution_count": 128,
   "metadata": {},
   "outputs": [
    {
     "name": "stdout",
     "output_type": "stream",
     "text": [
      "Enter number : 5\n",
      "*   *\n",
      " * * \n",
      "  *  \n",
      " * * \n",
      "*   *\n"
     ]
    }
   ],
   "source": [
    "n=int(input(\"Enter number : \"))\n",
    "for i in range(n):\n",
    "    for j in range(n):\n",
    "        if (i+j==n-1) or (i==j) :\n",
    "            print(\"*\", end=\"\")\n",
    "        else : \n",
    "            print(\" \", end=\"\")\n",
    "    print()"
   ]
  },
  {
   "cell_type": "code",
   "execution_count": 133,
   "metadata": {},
   "outputs": [
    {
     "name": "stdout",
     "output_type": "stream",
     "text": [
      "Enter number : 5\n",
      "    *\n",
      "   **\n",
      "  ***\n",
      " ****\n",
      "*****\n"
     ]
    }
   ],
   "source": [
    "n=int(input(\"Enter number : \"))\n",
    "for i in range(n):\n",
    "    for j in range(n):\n",
    "        if (i+j>=n-1) :\n",
    "            print(\"*\", end=\"\")\n",
    "        else : \n",
    "            print(\" \", end=\"\")\n",
    "    print()"
   ]
  },
  {
   "cell_type": "code",
   "execution_count": 134,
   "metadata": {},
   "outputs": [
    {
     "name": "stdout",
     "output_type": "stream",
     "text": [
      "Enter number : 5\n",
      "*****\n",
      "**** \n",
      "***  \n",
      "**   \n",
      "*    \n"
     ]
    }
   ],
   "source": [
    "n=int(input(\"Enter number : \"))\n",
    "for i in range(n):\n",
    "    for j in range(n):\n",
    "        if (i+j<=n-1) :\n",
    "            print(\"*\", end=\"\")\n",
    "        else : \n",
    "            print(\" \", end=\"\")\n",
    "    print()"
   ]
  },
  {
   "cell_type": "code",
   "execution_count": 136,
   "metadata": {},
   "outputs": [
    {
     "name": "stdout",
     "output_type": "stream",
     "text": [
      "Enter number : 5\n",
      "  *  \n",
      "  *  \n",
      "*****\n",
      "  *  \n",
      "  *  \n"
     ]
    }
   ],
   "source": [
    "n=int(input(\"Enter number : \"))\n",
    "for i in range(n):\n",
    "    for j in range(n):\n",
    "        if (i==2 or j==2) :\n",
    "            print(\"*\", end=\"\")\n",
    "        else : \n",
    "            print(\" \", end=\"\")\n",
    "    print()"
   ]
  },
  {
   "cell_type": "code",
   "execution_count": 137,
   "metadata": {},
   "outputs": [
    {
     "name": "stdout",
     "output_type": "stream",
     "text": [
      "Enter number : 5\n",
      "* * *\n",
      " *** \n",
      "*****\n",
      " *** \n",
      "* * *\n"
     ]
    }
   ],
   "source": [
    "n=int(input(\"Enter number : \"))\n",
    "for i in range(n):\n",
    "    for j in range(n):\n",
    "        if (i==2 or j==2 or i+j==n-1 or i==j) :\n",
    "            print(\"*\", end=\"\")\n",
    "        else : \n",
    "            print(\" \", end=\"\")\n",
    "    print()"
   ]
  },
  {
   "cell_type": "code",
   "execution_count": 138,
   "metadata": {},
   "outputs": [
    {
     "name": "stdout",
     "output_type": "stream",
     "text": [
      "Enter number : 5\n",
      "*****\n",
      "*   *\n",
      "*   *\n",
      "*   *\n",
      "*****\n"
     ]
    }
   ],
   "source": [
    "n=int(input(\"Enter number : \"))\n",
    "for i in range(n):\n",
    "    for j in range(n):\n",
    "        if (i==0 or j==0 or i==n-1 or j==n-1) :\n",
    "            print(\"*\", end=\"\")\n",
    "        else : \n",
    "            print(\" \", end=\"\")\n",
    "    print()"
   ]
  },
  {
   "cell_type": "code",
   "execution_count": 17,
   "metadata": {},
   "outputs": [
    {
     "name": "stdout",
     "output_type": "stream",
     "text": [
      "Enter number : 5\n",
      "     \n",
      "     \n",
      "  *  \n",
      " *** \n",
      "*****\n"
     ]
    }
   ],
   "source": [
    "n=int(input(\"Enter number : \"))\n",
    "for i in range(n):\n",
    "    for j in range(n):\n",
    "        if (i+j>=n-1) and (i>=j) :\n",
    "            print(\"*\", end=\"\")\n",
    "        else : \n",
    "            print(\" \", end=\"\")\n",
    "    print()"
   ]
  },
  {
   "cell_type": "code",
   "execution_count": 19,
   "metadata": {},
   "outputs": [
    {
     "name": "stdout",
     "output_type": "stream",
     "text": [
      "Enter number : 5\n",
      "     \n",
      "*     \n",
      "* *    \n",
      "* * *   \n",
      "* * * *  \n"
     ]
    }
   ],
   "source": [
    "n=int(input(\"Enter number : \"))\n",
    "for i in range(n):\n",
    "    for j in range(i):\n",
    "        print(\"*\", end=\" \")\n",
    "    for j in range(5-i):\n",
    "        print(\" \", end=\"\")\n",
    "            \n",
    "    print()"
   ]
  },
  {
   "cell_type": "code",
   "execution_count": 20,
   "metadata": {},
   "outputs": [
    {
     "name": "stdout",
     "output_type": "stream",
     "text": [
      "Enter number : 5\n",
      "     \n",
      "    * \n",
      "   * * \n",
      "  * * * \n",
      " * * * * \n"
     ]
    }
   ],
   "source": [
    "n=int(input(\"Enter number : \"))\n",
    "for i in range(n):\n",
    "    for j in range(5-i):\n",
    "        print(\" \", end=\"\")\n",
    "    for j in range(i):\n",
    "        print(\"*\", end=\" \")\n",
    "      \n",
    "    print()"
   ]
  },
  {
   "cell_type": "code",
   "execution_count": 146,
   "metadata": {},
   "outputs": [
    {
     "name": "stdout",
     "output_type": "stream",
     "text": [
      "Enter number : 5\n",
      "*    \n",
      "**   \n",
      "***  \n",
      "**   \n",
      "*    \n"
     ]
    }
   ],
   "source": [
    "n=int(input(\"Enter number : \"))\n",
    "for i in range(n):\n",
    "    for j in range(n):\n",
    "        if (i+j<=n-1) and (i>=j) :\n",
    "            print(\"*\", end=\"\")\n",
    "        else : \n",
    "            print(\" \", end=\"\")\n",
    "    print()"
   ]
  },
  {
   "cell_type": "code",
   "execution_count": 147,
   "metadata": {},
   "outputs": [
    {
     "name": "stdout",
     "output_type": "stream",
     "text": [
      "Enter number : 5\n",
      "*****\n",
      " *** \n",
      "  *  \n",
      "     \n",
      "     \n"
     ]
    }
   ],
   "source": [
    "n=int(input(\"Enter number : \"))\n",
    "for i in range(n):\n",
    "    for j in range(n):\n",
    "        if (i+j<=n-1) and (i<=j) :\n",
    "            print(\"*\", end=\"\")\n",
    "        else : \n",
    "            print(\" \", end=\"\")\n",
    "    print()"
   ]
  },
  {
   "cell_type": "code",
   "execution_count": 148,
   "metadata": {},
   "outputs": [
    {
     "name": "stdout",
     "output_type": "stream",
     "text": [
      "Enter number : 5\n",
      "    *\n",
      "   **\n",
      "  ***\n",
      "   **\n",
      "    *\n"
     ]
    }
   ],
   "source": [
    "n=int(input(\"Enter number : \"))\n",
    "for i in range(n):\n",
    "    for j in range(n):\n",
    "        if (i+j>=n-1) and (i<=j) :\n",
    "            print(\"*\", end=\"\")\n",
    "        else : \n",
    "            print(\" \", end=\"\")\n",
    "    print()"
   ]
  },
  {
   "cell_type": "code",
   "execution_count": 152,
   "metadata": {},
   "outputs": [
    {
     "name": "stdout",
     "output_type": "stream",
     "text": [
      "Enter number : 5\n",
      "1    \n",
      "22   \n",
      "333  \n",
      "4444 \n",
      "55555\n"
     ]
    }
   ],
   "source": [
    "#Print number patterns: \n",
    "\n",
    "n=int(input(\"Enter number : \"))\n",
    "for i in range(1,n+1):\n",
    "    for j in range(1,n+1):\n",
    "        if (i>=j) :\n",
    "            print(i, end=\"\")\n",
    "        else :\n",
    "            print(\" \", end=\"\")\n",
    "        \n",
    "    print()"
   ]
  },
  {
   "cell_type": "code",
   "execution_count": 153,
   "metadata": {},
   "outputs": [
    {
     "name": "stdout",
     "output_type": "stream",
     "text": [
      "Enter number : 5\n",
      "1    \n",
      "12   \n",
      "123  \n",
      "1234 \n",
      "12345\n"
     ]
    }
   ],
   "source": [
    "n=int(input(\"Enter number : \"))\n",
    "for i in range(1,n+1):\n",
    "    for j in range(1,n+1):\n",
    "        if (i>=j) :\n",
    "            print(j, end=\"\")\n",
    "        else :\n",
    "            print(\" \", end=\"\")\n",
    "        \n",
    "    print()"
   ]
  },
  {
   "cell_type": "code",
   "execution_count": 157,
   "metadata": {},
   "outputs": [
    {
     "name": "stdout",
     "output_type": "stream",
     "text": [
      "Enter number : 5\n",
      "5    \n",
      "44   \n",
      "333  \n",
      "2222 \n",
      "11111\n"
     ]
    }
   ],
   "source": [
    "#Print following patterns: \n",
    "\n",
    "n=int(input(\"Enter number : \"))\n",
    "for i in range(1,n+1):\n",
    "    for j in range(1,n+1):\n",
    "        if (i>=j) :\n",
    "            print(n-i+1, end=\"\")\n",
    "        else :\n",
    "            print(\" \", end=\"\")\n",
    "        \n",
    "    print()"
   ]
  },
  {
   "cell_type": "code",
   "execution_count": 160,
   "metadata": {},
   "outputs": [
    {
     "name": "stdout",
     "output_type": "stream",
     "text": [
      "Enter number : 5\n",
      "    1\n",
      "   22\n",
      "  333\n",
      " 4444\n",
      "55555\n"
     ]
    }
   ],
   "source": [
    "n=int(input(\"Enter number : \"))\n",
    "for i in range(n):\n",
    "    for j in range(n):\n",
    "        if (i+j>=n-1) :\n",
    "            print(i+1, end=\"\")\n",
    "        else : \n",
    "            print(\" \", end=\"\")\n",
    "    print()"
   ]
  },
  {
   "cell_type": "code",
   "execution_count": 168,
   "metadata": {},
   "outputs": [
    {
     "name": "stdout",
     "output_type": "stream",
     "text": [
      "Enter number : 5\n",
      "A    \n",
      "BB   \n",
      "CCC  \n",
      "DDDD \n",
      "EEEEE\n"
     ]
    }
   ],
   "source": [
    "#print char patterns\n",
    "\n",
    "n=int(input(\"Enter number : \"))\n",
    "for i in range(0,n):\n",
    "    for j in range(0,n):\n",
    "        if (i>=j) :\n",
    "            print(chr(65+i), end=\"\")\n",
    "        else :\n",
    "            print(\" \", end=\"\")\n",
    "        \n",
    "    print()"
   ]
  },
  {
   "cell_type": "code",
   "execution_count": 169,
   "metadata": {},
   "outputs": [
    {
     "name": "stdout",
     "output_type": "stream",
     "text": [
      "Enter number : 5\n",
      "A    \n",
      "AB   \n",
      "ABC  \n",
      "ABCD \n",
      "ABCDE\n"
     ]
    }
   ],
   "source": [
    "n=int(input(\"Enter number : \"))\n",
    "for i in range(0,n):\n",
    "    for j in range(0,n):\n",
    "        if (i>=j) :\n",
    "            print(chr(65+j), end=\"\")\n",
    "        else :\n",
    "            print(\" \", end=\"\")\n",
    "        \n",
    "    print()"
   ]
  },
  {
   "cell_type": "code",
   "execution_count": 179,
   "metadata": {},
   "outputs": [
    {
     "name": "stdout",
     "output_type": "stream",
     "text": [
      "Enter number : 5\n",
      "A    \n",
      "BD   \n",
      "CEG  \n",
      "DFHJ \n",
      "EGIKM\n"
     ]
    }
   ],
   "source": [
    "n=int(input(\"Enter number : \"))\n",
    "for i in range(0,n):\n",
    "    for j in range(0,n):\n",
    "        if (i>=j) :\n",
    "            print(chr(65+(i+(j*2))), end=\"\")\n",
    "        else :\n",
    "            print(\" \", end=\"\")\n",
    "    \n",
    "    print()"
   ]
  },
  {
   "cell_type": "code",
   "execution_count": 180,
   "metadata": {},
   "outputs": [
    {
     "name": "stdout",
     "output_type": "stream",
     "text": [
      "Enter number : 5\n",
      "A    \n",
      "CD   \n",
      "EFG  \n",
      "GHIJ \n",
      "IJKLM\n"
     ]
    }
   ],
   "source": [
    "n=int(input(\"Enter number : \"))\n",
    "for i in range(0,n):\n",
    "    for j in range(0,n):\n",
    "        if (i>=j) :\n",
    "            print(chr(65+((i*2)+(j))), end=\"\")\n",
    "        else :\n",
    "            print(\" \", end=\"\")\n",
    "    \n",
    "    print()"
   ]
  },
  {
   "cell_type": "code",
   "execution_count": 181,
   "metadata": {},
   "outputs": [
    {
     "name": "stdout",
     "output_type": "stream",
     "text": [
      "Enter number : 5\n",
      "A    \n",
      "CE   \n",
      "EGI  \n",
      "GIKM \n",
      "IKMOQ\n"
     ]
    }
   ],
   "source": [
    "n=int(input(\"Enter number : \"))\n",
    "for i in range(0,n):\n",
    "    for j in range(0,n):\n",
    "        if (i>=j) :\n",
    "            print(chr(65+((i*2)+(j*2))), end=\"\")\n",
    "        else :\n",
    "            print(\" \", end=\"\")\n",
    "    \n",
    "    print()"
   ]
  },
  {
   "cell_type": "code",
   "execution_count": 182,
   "metadata": {},
   "outputs": [
    {
     "name": "stdout",
     "output_type": "stream",
     "text": [
      "Enter number : 5\n",
      "A    \n",
      "BC   \n",
      "CDE  \n",
      "DEFG \n",
      "EFGHI\n"
     ]
    }
   ],
   "source": [
    "n=int(input(\"Enter number : \"))\n",
    "for i in range(0,n):\n",
    "    for j in range(0,n):\n",
    "        if (i>=j) :\n",
    "            print(chr(65+(i+j)), end=\"\")\n",
    "        else :\n",
    "            print(\" \", end=\"\")\n",
    "    \n",
    "    print()"
   ]
  },
  {
   "cell_type": "code",
   "execution_count": 196,
   "metadata": {},
   "outputs": [
    {
     "name": "stdout",
     "output_type": "stream",
     "text": [
      "Enter number : 5\n",
      "B    \n",
      "CC   \n",
      "EEE  \n",
      "IIII \n",
      "QQQQQ\n"
     ]
    }
   ],
   "source": [
    "n=int(input(\"Enter number : \"))\n",
    "for i in range(0,n):\n",
    "    for j in range(0,n):\n",
    "        if (i>=j) :\n",
    "            print(chr(65+(2**i)), end=\"\")\n",
    "        else :\n",
    "            print(\" \", end=\"\")\n",
    "    \n",
    "    print()"
   ]
  },
  {
   "cell_type": "code",
   "execution_count": 204,
   "metadata": {},
   "outputs": [
    {
     "name": "stdout",
     "output_type": "stream",
     "text": [
      "Enter number : 5\n",
      "A    \n",
      "BC   \n",
      "CEG  \n",
      "DGJM \n",
      "EIMQU\n"
     ]
    }
   ],
   "source": [
    "n=int(input(\"Enter number : \"))\n",
    "for i in range(0,n):\n",
    "    for j in range(0,n):\n",
    "        if (i>=j) :\n",
    "            print(chr(65+(j+1)*i), end=\"\")\n",
    "        else :\n",
    "            print(\" \", end=\"\")\n",
    "    \n",
    "    print()"
   ]
  },
  {
   "cell_type": "code",
   "execution_count": 210,
   "metadata": {},
   "outputs": [
    {
     "name": "stdout",
     "output_type": "stream",
     "text": [
      "Enter number : 9\n",
      "         \n",
      "         \n",
      "         \n",
      "         \n",
      "    A    \n",
      "   CBA   \n",
      "  EDCBA  \n",
      " GFEDCBA \n",
      "IHGFEDCBA\n"
     ]
    }
   ],
   "source": [
    "n=int(input(\"Enter number : \"))\n",
    "for i in range(n):\n",
    "    for j in range(n):\n",
    "        if (i+j>=n-1) and (i>=j) :\n",
    "            print(chr(65+i-j), end=\"\")\n",
    "        else : \n",
    "            print(\" \", end=\"\")\n",
    "    print()"
   ]
  },
  {
   "cell_type": "code",
   "execution_count": 3,
   "metadata": {},
   "outputs": [
    {
     "name": "stdout",
     "output_type": "stream",
     "text": [
      "Enter number : 5\n",
      "A    \n",
      "BC   \n",
      "DEF  \n",
      "GHIJ \n",
      "KLMNO\n"
     ]
    }
   ],
   "source": [
    "n=int(input(\"Enter number : \"))\n",
    "k=0\n",
    "for i in range(0,n):\n",
    "    for j in range(0,n):\n",
    "        if (i>=j) :\n",
    "            print(chr(65+k), end=\"\")\n",
    "            k+=1\n",
    "        else :\n",
    "            print(\" \", end=\"\")\n",
    "        \n",
    "    print()"
   ]
  },
  {
   "cell_type": "code",
   "execution_count": 33,
   "metadata": {},
   "outputs": [
    {
     "name": "stdout",
     "output_type": "stream",
     "text": [
      "Enter number : 7\n",
      "       \n",
      "       \n",
      "       \n",
      "   D   \n",
      "  CDE  \n",
      " BCDEF \n",
      "ABCDEFG\n"
     ]
    }
   ],
   "source": [
    "n=int(input(\"Enter number : \"))\n",
    "k=0\n",
    "for i in range(n):\n",
    "    for j in range(n):\n",
    "        if (i+j>=n-1) and (i>=j) :\n",
    "            print(chr(65+j-k), end=\"\")\n",
    "        else : \n",
    "            print(\" \", end=\"\")\n",
    "    print()"
   ]
  },
  {
   "cell_type": "code",
   "execution_count": 88,
   "metadata": {},
   "outputs": [
    {
     "name": "stdout",
     "output_type": "stream",
     "text": [
      "Enter number : 7\n",
      "       \n",
      "       \n",
      "       \n",
      "   A   \n",
      "  ABA  \n",
      " ABABA \n",
      "ABABABA\n"
     ]
    }
   ],
   "source": [
    "n=int(input(\"Enter number : \"))\n",
    "for i in range(n):\n",
    "    for j in range(n):\n",
    "        if (i+j>=n-1) and (i>=j) :\n",
    "            print(chr(65+(i-j)%2), end=\"\")\n",
    "        else : \n",
    "            print(\" \", end=\"\")\n",
    "    \n",
    "    print()"
   ]
  },
  {
   "cell_type": "code",
   "execution_count": 131,
   "metadata": {},
   "outputs": [
    {
     "name": "stdout",
     "output_type": "stream",
     "text": [
      "Enter number : 5\n",
      "    A\n",
      "   ABA\n",
      "  ABCBA\n",
      " ABCDCBA\n",
      "ABCDEDCBA\n"
     ]
    }
   ],
   "source": [
    "rows=int(input(\"Enter number : \"))\n",
    "ch = 'A'\n",
    "\n",
    "# outer loop for ith rows\n",
    "for i in range (1,rows+1):\n",
    "    for space in range(rows-i):\n",
    "        print(' ',end='')\n",
    "\n",
    "    for j in range(1, i+1):\n",
    "        print(ch,end=\"\")\n",
    "        ch=ord(ch)+1\n",
    "        ch = chr(ch)\n",
    "    ch=ord(ch)-1\n",
    "    ch = chr(ch)\n",
    "       \n",
    "    for k in range(1, i):\n",
    "        ch=ord(ch)-1\n",
    "        ch = chr(ch)\n",
    "        print(ch,end=\"\")    \n",
    "        \n",
    "    print()\n",
    "    ch='A'\n",
    "    \n",
    "    \n",
    "    "
   ]
  },
  {
   "cell_type": "code",
   "execution_count": 152,
   "metadata": {},
   "outputs": [
    {
     "name": "stdout",
     "output_type": "stream",
     "text": [
      "Enter number : 5\n",
      "    A\n",
      "   ABA\n",
      "  ABCBA\n",
      " ABCDCBA\n",
      "ABCDEDCBA\n"
     ]
    }
   ],
   "source": [
    "rows=int(input(\"Enter number : \"))\n",
    "\n",
    "\n",
    "# outer loop for ith rows\n",
    "for i in range (1,rows+1):\n",
    "    for space in range(rows-i):\n",
    "        print(' ',end='')\n",
    "\n",
    "    for j in range(0, i):\n",
    "        ch=65+j\n",
    "        print(chr(ch),end=\"\")\n",
    "    \n",
    "    for k in range(1, i):\n",
    "        ch = ch-1\n",
    "        print(chr(ch),end=\"\")    \n",
    "        \n",
    "    print()\n",
    "    \n",
    "    \n",
    "    "
   ]
  }
 ],
 "metadata": {
  "kernelspec": {
   "display_name": "Python 3",
   "language": "python",
   "name": "python3"
  },
  "language_info": {
   "codemirror_mode": {
    "name": "ipython",
    "version": 3
   },
   "file_extension": ".py",
   "mimetype": "text/x-python",
   "name": "python",
   "nbconvert_exporter": "python",
   "pygments_lexer": "ipython3",
   "version": "3.8.3"
  }
 },
 "nbformat": 4,
 "nbformat_minor": 4
}
