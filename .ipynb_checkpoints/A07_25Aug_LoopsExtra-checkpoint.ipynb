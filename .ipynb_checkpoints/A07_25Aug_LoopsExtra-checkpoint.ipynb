{
 "cells": [
  {
   "cell_type": "code",
   "execution_count": 1,
   "metadata": {},
   "outputs": [
    {
     "name": "stdout",
     "output_type": "stream",
     "text": [
      "Enter String : prabhu\n",
      "p\n",
      "r\n",
      "a\n",
      "b\n",
      "h\n",
      "u\n"
     ]
    }
   ],
   "source": [
    "#To input a string and print individual characters in the string using for loop.\n",
    "\n",
    "s=input(\"Enter String : \")\n",
    "for i in s:\n",
    "    print(i)"
   ]
  },
  {
   "cell_type": "code",
   "execution_count": 2,
   "metadata": {},
   "outputs": [
    {
     "name": "stdout",
     "output_type": "stream",
     "text": [
      "Enter String : prabhu\n",
      "112\n",
      "114\n",
      "97\n",
      "98\n",
      "104\n",
      "117\n"
     ]
    }
   ],
   "source": [
    "#To input a string and print individual characters in the string using for loop.\n",
    "\n",
    "s=input(\"Enter String : \")\n",
    "for i in s:\n",
    "    print(ord(i))"
   ]
  },
  {
   "cell_type": "code",
   "execution_count": 2,
   "metadata": {},
   "outputs": [
    {
     "name": "stdout",
     "output_type": "stream",
     "text": [
      "9\n"
     ]
    }
   ],
   "source": [
    "# WAF that takes a list of numbers from user as argument and returns the sum of only odd numbers\n",
    "# Using for and if loop\n",
    "\n",
    "def sum_odd(l):\n",
    "    sum=0\n",
    "    for i in l:\n",
    "        if i%2 != 0:\n",
    "            sum+=i        \n",
    "    return sum\n",
    "\n",
    "l=[1,2,3,4,5]\n",
    "print(sum_odd(l))\n",
    "\n",
    "    \n",
    "\n"
   ]
  },
  {
   "cell_type": "code",
   "execution_count": 6,
   "metadata": {},
   "outputs": [
    {
     "name": "stdout",
     "output_type": "stream",
     "text": [
      "25\n"
     ]
    }
   ],
   "source": [
    "# WAF that takes a list of numbers from user as argument and returns the sum of only odd numbers\n",
    "# Using only for loop\n",
    "\n",
    "def sum_odd(l):\n",
    "    sum=0\n",
    "    for i in l:\n",
    "        sum+=i*(i%2)      \n",
    "    return sum\n",
    "\n",
    "l=[1,2,3,4,5,6,7,9,8,10,12]\n",
    "print(sum_odd(l))"
   ]
  },
  {
   "cell_type": "code",
   "execution_count": 3,
   "metadata": {},
   "outputs": [
    {
     "name": "stdout",
     "output_type": "stream",
     "text": [
      "[1, 2, 3, 4, 5, 6, 7, 7]\n",
      "(1, 2, 3, 4, 5, 6, 7)\n",
      "6\n"
     ]
    }
   ],
   "source": [
    "#WAF that takes a list of numbers from user as argument and returns the index of another number\n",
    "\n",
    "lst = [1,2,3,4,5,6,7]\n",
    "t= tuple(lst)\n",
    "lst.append(7)\n",
    "print(lst)\n",
    "print(t)\n",
    "print(t.index(7))"
   ]
  },
  {
   "cell_type": "code",
   "execution_count": 58,
   "metadata": {},
   "outputs": [
    {
     "name": "stdout",
     "output_type": "stream",
     "text": [
      "[99, 18, 25, 89, 42, 50, 35, 73, 57, 72]\n",
      "560\n",
      "56.0\n",
      "[99, 25, 42, 35, 57]\n"
     ]
    }
   ],
   "source": [
    "#Create a list of 10 random numbers and then print the list, sum of all numbers and average. Use a for loop. Also print elements at only even indexes in the list. \n",
    "\n",
    "import random\n",
    "lst=[]\n",
    "lst_evn=[]\n",
    "sum=0\n",
    "for i in range(10):\n",
    "    rand_num=random.randint(1,100)\n",
    "    lst.append(rand_num)\n",
    "    sum+=rand_num\n",
    "    if i%2==0:\n",
    "        lst_evn.append(rand_num)\n",
    "        \n",
    "print(lst)\n",
    "print(sum)\n",
    "print(sum/10)\n",
    "print(lst_evn)\n",
    "\n"
   ]
  },
  {
   "cell_type": "code",
   "execution_count": 57,
   "metadata": {},
   "outputs": [
    {
     "name": "stdout",
     "output_type": "stream",
     "text": [
      "Enter Number : 1\n",
      "Enter Number : 2\n",
      "Enter Number : 3\n",
      "Enter Number : 4\n",
      "Enter Number : 5\n",
      "Enter Number : 6\n",
      "Enter Number : 7\n",
      "Enter Number : 8\n",
      "Enter Number : 9\n",
      "Enter Number : 10\n",
      "[1, 2, 3, 4, 5, 6, 7, 8, 9, 10]\n",
      "55\n"
     ]
    }
   ],
   "source": [
    "#WAP to input 10 numbers repeatedly (using range based for loop) and store them in a list. Print the list and sum of numbers in the list. \n",
    "\n",
    "lst=[]\n",
    "sum=0\n",
    "for i in range(10):\n",
    "    n=int(input(\"Enter Number : \"))\n",
    "    lst.append(n)\n",
    "    sum+=n\n",
    "    \n",
    "print(lst)\n",
    "print(sum)"
   ]
  },
  {
   "cell_type": "code",
   "execution_count": 40,
   "metadata": {},
   "outputs": [
    {
     "name": "stdout",
     "output_type": "stream",
     "text": [
      "Enter a number : 7\n",
      "7 * 1 = 7\n",
      "7 * 2 = 14\n",
      "7 * 3 = 21\n",
      "7 * 4 = 28\n",
      "7 * 5 = 35\n",
      "7 * 6 = 42\n",
      "7 * 7 = 49\n",
      "7 * 8 = 56\n",
      "7 * 9 = 63\n",
      "7 * 10 = 70\n"
     ]
    }
   ],
   "source": [
    "#WAP to input a number and print its table\n",
    "\n",
    "n=int(input(\"Enter a number : \"))\n",
    "for i in range(1,11):\n",
    "    print(str(n)+\" * \"+str(i)+\" = \"+str(n*i))"
   ]
  },
  {
   "cell_type": "code",
   "execution_count": 44,
   "metadata": {},
   "outputs": [
    {
     "name": "stdout",
     "output_type": "stream",
     "text": [
      "Enter string : a b c\n",
      "2\n"
     ]
    }
   ],
   "source": [
    "#WAP to print total number of spaces in a string (Use for loop to iterate over the string. Don’t use count function). \n",
    "\n",
    "s=input(\"Enter string : \")\n",
    "count_space=0\n",
    "for i in s : \n",
    "    if i.isspace():\n",
    "        count_space+=1\n",
    "print(count_space)"
   ]
  },
  {
   "cell_type": "code",
   "execution_count": 45,
   "metadata": {},
   "outputs": [
    {
     "name": "stdout",
     "output_type": "stream",
     "text": [
      "Enter string : abcdefghijklmnopqrstuvwxyz\n",
      "5\n"
     ]
    }
   ],
   "source": [
    "#WAP to input a string and count number of vowels in the string. [Note: it should work for both capital and small alphabets] \n",
    "\n",
    "s=input(\"Enter string : \")\n",
    "s=s.lower()\n",
    "count_vowel=0\n",
    "for i in s : \n",
    "    if i.isalpha() and i in (\"a\",\"e\",\"i\",\"o\",\"u\"):\n",
    "        count_vowel+=1\n",
    "print(count_vowel)"
   ]
  },
  {
   "cell_type": "code",
   "execution_count": 49,
   "metadata": {},
   "outputs": [
    {
     "name": "stdout",
     "output_type": "stream",
     "text": [
      "Enter string : abcdef\n",
      "['_', 'b', 'c', 'd', '_', 'f']\n",
      "_bcd_f\n"
     ]
    }
   ],
   "source": [
    "#WAP to input a string and replace all vowels with ‘_’. \n",
    "#[Hint: Convert string to list. Remember!! Strings are immutable. Replace in the list and then join\n",
    "\n",
    "s=input(\"Enter string : \")\n",
    "lst=list(s)\n",
    "\n",
    "for i in lst : \n",
    "    if i.isalpha() and i in (\"a\",\"e\",\"i\",\"o\",\"u\"):\n",
    "        lst[lst.index(i)]=\"_\"\n",
    "print(lst)\n",
    "s=\"\".join(lst)\n",
    "print(s)"
   ]
  },
  {
   "cell_type": "code",
   "execution_count": 60,
   "metadata": {},
   "outputs": [
    {
     "name": "stdout",
     "output_type": "stream",
     "text": [
      "0\n",
      "Loop ends\n"
     ]
    }
   ],
   "source": [
    "#Find Output\n",
    "\n",
    "#0 and Loop ends\n",
    "\n",
    "\n",
    "for num in range(10):\n",
    "    print(num)\n",
    "    if num%4==0:\n",
    "        break\n",
    "print(\"Loop ends\")"
   ]
  },
  {
   "cell_type": "code",
   "execution_count": 62,
   "metadata": {},
   "outputs": [
    {
     "name": "stdout",
     "output_type": "stream",
     "text": [
      "0\n"
     ]
    },
    {
     "ename": "SystemExit",
     "evalue": "",
     "output_type": "error",
     "traceback": [
      "An exception has occurred, use %tb to see the full traceback.\n",
      "\u001b[1;31mSystemExit\u001b[0m\n"
     ]
    }
   ],
   "source": [
    "#Find Output\n",
    "\n",
    "#0 and SystemExit Exception\n",
    "\n",
    "import sys\n",
    "for num in range(10):\n",
    "    print(num)\n",
    "    if num%4==0:\n",
    "        sys.exit()\n",
    "print(\"Loop ends\")"
   ]
  },
  {
   "cell_type": "code",
   "execution_count": 63,
   "metadata": {},
   "outputs": [
    {
     "name": "stdout",
     "output_type": "stream",
     "text": [
      "*****\n",
      "*****\n",
      "*****\n",
      "*****\n",
      "*****\n"
     ]
    }
   ],
   "source": [
    "#Find output\n",
    "\n",
    "'''\n",
    "*****\n",
    "*****\n",
    "*****\n",
    "*****\n",
    "*****\n",
    "'''\n",
    "\n",
    "for i1 in range(1,6):\n",
    "    for i2 in range(5):\n",
    "        print(\"*\", end=\"\")\n",
    "    print()  "
   ]
  },
  {
   "cell_type": "code",
   "execution_count": 64,
   "metadata": {},
   "outputs": [
    {
     "name": "stdout",
     "output_type": "stream",
     "text": [
      "1\n",
      "22\n",
      "333\n",
      "4444\n",
      "55555\n"
     ]
    }
   ],
   "source": [
    "#Find output\n",
    "\n",
    "'''\n",
    "1\n",
    "22\n",
    "333\n",
    "4444\n",
    "55555\n",
    "'''\n",
    "\n",
    "for i1 in range(1,6):\n",
    "    for i2 in range(i1):\n",
    "        print(i1, end=\"\")\n",
    "    print()  "
   ]
  },
  {
   "cell_type": "code",
   "execution_count": 68,
   "metadata": {},
   "outputs": [
    {
     "name": "stdout",
     "output_type": "stream",
     "text": [
      "1\n",
      "22\n",
      "333\n",
      "4444\n",
      "55555\n"
     ]
    }
   ],
   "source": [
    "#Find output\n",
    "\n",
    "'''\n",
    "1\n",
    "22\n",
    "333\n",
    "4444\n",
    "55555\n",
    "'''\n",
    "\n",
    "for i1 in range(1,6):\n",
    "    print(str(i1)*i1) "
   ]
  },
  {
   "cell_type": "code",
   "execution_count": 69,
   "metadata": {},
   "outputs": [
    {
     "name": "stdout",
     "output_type": "stream",
     "text": [
      "**\n",
      "***\n",
      "****\n",
      "*****\n",
      "******\n"
     ]
    }
   ],
   "source": [
    "#Find output\n",
    "\n",
    "'''\n",
    "**\n",
    "***\n",
    "****\n",
    "*****\n",
    "******\n",
    "'''\n",
    "\n",
    "for i1 in range(1,6):\n",
    "    for i2 in range(i1+1):\n",
    "        print(\"*\", end=\"\")\n",
    "    print()  "
   ]
  },
  {
   "cell_type": "code",
   "execution_count": null,
   "metadata": {},
   "outputs": [],
   "source": []
  }
 ],
 "metadata": {
  "kernelspec": {
   "display_name": "Python 3",
   "language": "python",
   "name": "python3"
  },
  "language_info": {
   "codemirror_mode": {
    "name": "ipython",
    "version": 3
   },
   "file_extension": ".py",
   "mimetype": "text/x-python",
   "name": "python",
   "nbconvert_exporter": "python",
   "pygments_lexer": "ipython3",
   "version": "3.8.3"
  }
 },
 "nbformat": 4,
 "nbformat_minor": 4
}
