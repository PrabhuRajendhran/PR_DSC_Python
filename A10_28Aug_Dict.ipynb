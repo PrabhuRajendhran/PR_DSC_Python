{
 "cells": [
  {
   "cell_type": "code",
   "execution_count": 64,
   "metadata": {},
   "outputs": [
    {
     "name": "stdout",
     "output_type": "stream",
     "text": [
      "Enter limit : 5\n",
      "{1: -1, 2: -2, 3: -3, 4: -4, 5: -5}\n",
      "Enter limit : 1 2 3 4 5\n",
      "{1: -1, 2: -2, 3: -3, 4: -4, 5: -5}\n"
     ]
    }
   ],
   "source": [
    "#  WAP to create a dictionary of numbers mapped to their negative value for numbers from 1-5. \n",
    "# The dictionary should contain something like this: Do with both with and without range based for loop. {1:-1,2:-2,3:-3….} \n",
    "\n",
    "d1={}\n",
    "n=int(input(\"Enter limit : \"))\n",
    "for i in range(1,n+1):\n",
    "    d1[i]=(-1)*i\n",
    "print(d1)\n",
    "\n",
    "d2={}\n",
    "m= list(input(\"Enter limit : \").split())\n",
    "for i in m :\n",
    "    d2[int(i)]=(-1)*int(i)\n",
    "    #d2[int(i)]=(-1)*int(m[m.index(i)])\n",
    "\n",
    "print(d2)\n",
    "\n",
    "\n"
   ]
  },
  {
   "cell_type": "code",
   "execution_count": 41,
   "metadata": {},
   "outputs": [],
   "source": [
    "# Check which of the following declarations will work \n",
    "\n",
    "#1. d={1=2,2=3}  #No\n",
    "#2. d={1:2,2:3}  #yes\n",
    "#3. d={1,2 ; 2,3} #No\n",
    "#4. d={(1,2),(2,3)} #yes\n",
    "#5. d={'a':'A', 'b':1,'c':[1234]} #yes\n",
    "#6. d={'a':'A', 'b':1, c:[1234]} #no\n",
    "#7. d= dict([(1,2),(2,3)]) #yes\n",
    "#8. d= dict(((1,2),(2,3))) #yes\n",
    "#9. d= dict((1,2),(2,3)) #no\n",
    "#10. d=dict(x=2, y=3) #yes\n",
    "#11. d=dict('x'=2,'y'=3) #no\n",
    "#12. d=dict(1=2,2=3) #no"
   ]
  },
  {
   "cell_type": "code",
   "execution_count": 54,
   "metadata": {},
   "outputs": [
    {
     "name": "stdout",
     "output_type": "stream",
     "text": [
      "{1: 10, 2: 20, 3: 30, 4: 40}\n"
     ]
    }
   ],
   "source": [
    "#Read help for zip and write a program that has two lists l1 = [1,2,3,4] l2 = [10,20,30,40] \n",
    "#And converts them to a dictionary d containing { 1:10,2:20 …….} \n",
    "\n",
    "l1 = [1,2,3,4] \n",
    "l2 = [10,20,30,40] \n",
    "\n",
    "d={}\n",
    "for k,v in zip(l1,l2):\n",
    "    #print(k,v)\n",
    "    d[k]=v\n",
    "print(d)\n",
    "    "
   ]
  },
  {
   "cell_type": "code",
   "execution_count": 55,
   "metadata": {},
   "outputs": [
    {
     "name": "stdout",
     "output_type": "stream",
     "text": [
      "{'A': 65, 'B': 66, 'C': 67, 'D': 68, 'E': 69, 'F': 70, 'G': 71, 'H': 72, 'I': 73, 'J': 74, 'K': 75, 'L': 76, 'M': 77, 'N': 78, 'O': 79, 'P': 80, 'Q': 81, 'R': 82, 'S': 83, 'T': 84, 'U': 85, 'V': 86, 'W': 87, 'X': 88, 'Y': 89, 'Z': 90}\n"
     ]
    }
   ],
   "source": [
    "#Use range based for loop to store all upper case alphabets and their corresponding ASCII values in the dictionary d. \n",
    "#The result should be  d = {‘A’: 65, ‘B’:66,…..} \n",
    "\n",
    "d={}\n",
    "for i in range(0,26):\n",
    "    d[chr(65+i)]= 65+i\n",
    "print(d)\n",
    "    "
   ]
  },
  {
   "cell_type": "code",
   "execution_count": 98,
   "metadata": {},
   "outputs": [
    {
     "name": "stdout",
     "output_type": "stream",
     "text": [
      "Enter number : 4\n",
      "Corresponding Value for specified key 4 is : FOUR\n",
      "[0, 1, 2, 3, 4, 5, 6, 7, 8, 9]\n",
      "['ZERO', 'ONE', 'TWO', 'THREE', 'FOUR', 'FIVE', 'SIX', 'SEVEN', 'EIGHT', 'NINE']\n",
      "[(0, 'ZERO'), (1, 'ONE'), (2, 'TWO'), (3, 'THREE'), (4, 'FOUR'), (5, 'FIVE'), (6, 'SIX'), (7, 'SEVEN'), (8, 'EIGHT'), (9, 'NINE')]\n"
     ]
    }
   ],
   "source": [
    "#Create a mapping of number to word from 0-9. (0:’zero’……) \n",
    "#• Ask user for a single digit number and print the corresponding word format. \n",
    "#• Print all keys of above dictionary \n",
    "#• Print all Values of a dictionary \n",
    "#• Print all Key and Value pairs of above dictionary \n",
    "\n",
    "l1 = [0,1,2,3,4,5,6,7,8,9] \n",
    "l2 = ['ZERO','ONE','TWO','THREE','FOUR','FIVE','SIX','SEVEN','EIGHT','NINE'] \n",
    "\n",
    "n=int(input(\"Enter number : \"))\n",
    "d={}\n",
    "\n",
    "for k,v in zip(l1,l2):\n",
    "    d[k]=v    \n",
    "\n",
    "print(f\"Corresponding Value for specified key {n} is : {d.get(n)}\")\n",
    "print(list(d.keys()))\n",
    "print(list(d.values()))\n",
    "print(list(d.items()))\n"
   ]
  },
  {
   "cell_type": "code",
   "execution_count": 69,
   "metadata": {},
   "outputs": [
    {
     "name": "stdout",
     "output_type": "stream",
     "text": [
      "{'A': 'Apple', 'B': 'Ball', 'C': 'Cat', 'D': 'Dog'}\n",
      "{'A': 'Apple', 'C': 'Cat'}\n"
     ]
    }
   ],
   "source": [
    "#Predict Output of: \n",
    "\n",
    "l1=['A','B','C','D']\n",
    "l2=['Apple','Ball','Cat','Dog']\n",
    "\n",
    "d1=dict(zip(l1,l2))\n",
    "print(d1) # {'A':'Apple','B':'Ball','C':'Cat','D':'Dog'}\n",
    "\n",
    "d2=dict(list(d1.items())[::2])\n",
    "\n",
    "print(d2) #{'A':'Apple','C':'Cat'}"
   ]
  },
  {
   "cell_type": "code",
   "execution_count": 97,
   "metadata": {},
   "outputs": [
    {
     "name": "stdout",
     "output_type": "stream",
     "text": [
      "Enter String : beautiful day\n",
      "{'a': 2, 'e': 1, 'i': 1, 'o': 0, 'u': 2}\n",
      "\n",
      "a : 2\n",
      "e : 1\n",
      "i : 1\n",
      "o : 0\n",
      "u : 2\n"
     ]
    }
   ],
   "source": [
    "#WAP to input a string and count occurrence of each vowel in a string. \n",
    "#Ex: if user enters:  “Beautiful Day” Output should Be:  a:2  e:1  I :1  o:0  u:2 \n",
    " \n",
    "lst=list((input(\"Enter String : \").lower()))\n",
    "\n",
    "d={'a':0,'e':0,'i':0,'o':0,'u':0}\n",
    "\n",
    "for i in lst:\n",
    "    if i in list(d.keys()):\n",
    "        d[i]=d.get(i)+1\n",
    "\n",
    "print(d)\n",
    "print()\n",
    "\n",
    "for k,v in d.items():\n",
    "    print(k,\":\",v)"
   ]
  },
  {
   "cell_type": "code",
   "execution_count": 106,
   "metadata": {},
   "outputs": [
    {
     "name": "stdout",
     "output_type": "stream",
     "text": [
      "Enter String : beautiful day\n",
      "{'b': 1, 'e': 1, 'a': 2, 'u': 2, 't': 1, 'i': 1, 'f': 1, 'l': 1, ' ': 1, 'd': 1, 'y': 1}\n",
      "b : 1\n",
      "e : 1\n",
      "a : 2\n",
      "u : 2\n",
      "t : 1\n",
      "i : 1\n",
      "f : 1\n",
      "l : 1\n",
      "  : 1\n",
      "d : 1\n",
      "y : 1\n"
     ]
    }
   ],
   "source": [
    "# Update above program to print frequency of each alphabet present in string\n",
    " \n",
    "lst=list((input(\"Enter String : \").lower()))\n",
    "\n",
    "d={}\n",
    "\n",
    "for i in lst:\n",
    "    if d.get(i) is None:\n",
    "        d[i]=1\n",
    "    else :\n",
    "        d[i]=d.get(i)+1\n",
    "\n",
    "print(d)\n",
    "\n",
    "for k,v in d.items():\n",
    "    print(k,\":\",v)"
   ]
  },
  {
   "cell_type": "code",
   "execution_count": 107,
   "metadata": {},
   "outputs": [
    {
     "name": "stdout",
     "output_type": "stream",
     "text": [
      "Enter String : count the words in the sentence in\n",
      "{'count': 1, 'the': 2, 'words': 1, 'in': 2, 'sentence': 1}\n",
      "count : 1\n",
      "the : 2\n",
      "words : 1\n",
      "in : 2\n",
      "sentence : 1\n"
     ]
    }
   ],
   "source": [
    "# WAP that takes a string as input and prints frequency of each word. \n",
    "#Ex: if input is “count the words in the sentence in” \n",
    "#Output: count: 1 the: 2 words: 1 in: 2 sentence: 1 \n",
    " \n",
    "lst=list(input(\"Enter String : \").lower().split())\n",
    "\n",
    "d={}\n",
    "\n",
    "for i in lst:\n",
    "    if d.get(i) is None:\n",
    "        d[i]=1\n",
    "    else :\n",
    "        d[i]=d.get(i)+1\n",
    "\n",
    "print(d)\n",
    "\n",
    "for k,v in d.items():\n",
    "    print(k,\":\",v)\n",
    " "
   ]
  },
  {
   "cell_type": "code",
   "execution_count": null,
   "metadata": {},
   "outputs": [],
   "source": []
  }
 ],
 "metadata": {
  "kernelspec": {
   "display_name": "Python 3",
   "language": "python",
   "name": "python3"
  },
  "language_info": {
   "codemirror_mode": {
    "name": "ipython",
    "version": 3
   },
   "file_extension": ".py",
   "mimetype": "text/x-python",
   "name": "python",
   "nbconvert_exporter": "python",
   "pygments_lexer": "ipython3",
   "version": "3.8.3"
  }
 },
 "nbformat": 4,
 "nbformat_minor": 4
}
