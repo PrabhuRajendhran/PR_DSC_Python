{
 "cells": [
  {
   "cell_type": "code",
   "execution_count": 14,
   "metadata": {},
   "outputs": [
    {
     "name": "stdout",
     "output_type": "stream",
     "text": [
      "Enter the String : abcdef\n",
      "['a', 'b', 'c', 'd', 'e', 'f']\n",
      "['f', 'e', 'd', 'c', 'b', 'a']\n"
     ]
    }
   ],
   "source": [
    "# WAF: reverse_list() that takes a list as argument and reverses the elements of the list in place (use indexing operations, not any function or slicing) \n",
    "\n",
    "def reverse_list(lst):\n",
    "    n=len(lst)\n",
    "    for i in range(0,int(n//2)):\n",
    "        lst[i],lst[n-i-1]=lst[n-i-1],lst[i]\n",
    "    return lst\n",
    "\n",
    "lst = list(input(\"Enter the String : \"))\n",
    "print(lst)\n",
    "\n",
    "print(reverse_list(lst))"
   ]
  },
  {
   "cell_type": "code",
   "execution_count": 17,
   "metadata": {},
   "outputs": [
    {
     "name": "stdout",
     "output_type": "stream",
     "text": [
      "Enter the String : abcde\n",
      "['a', 'b', 'c', 'd', 'e']\n",
      "['e', 'd', 'c', 'b', 'a']\n"
     ]
    }
   ],
   "source": [
    "#Reversing Using builtin function :\n",
    "\n",
    "lst = list(input(\"Enter the String : \"))\n",
    "print(lst)\n",
    "lst1=[]\n",
    "for i in reversed(lst):\n",
    "    lst1.append(i)\n",
    "print(lst1)"
   ]
  },
  {
   "cell_type": "code",
   "execution_count": 18,
   "metadata": {},
   "outputs": [
    {
     "name": "stdout",
     "output_type": "stream",
     "text": [
      "Enter the String : abcde\n",
      "['a', 'b', 'c', 'd', 'e']\n",
      "['e', 'd', 'c', 'b', 'a']\n"
     ]
    }
   ],
   "source": [
    "#reversing using slicing\n",
    "\n",
    "lst = list(input(\"Enter the String : \"))\n",
    "print(lst)\n",
    "print(lst[::-1])"
   ]
  },
  {
   "cell_type": "code",
   "execution_count": 25,
   "metadata": {},
   "outputs": [
    {
     "name": "stdout",
     "output_type": "stream",
     "text": [
      "Enter the String : 1234567\n",
      "['1', '2', '3', '4', '5', '6', '7']\n",
      "No.of. Even numbers in given list are 3 & No.of. Odd numbers in given list are 4\n"
     ]
    }
   ],
   "source": [
    "#  WAF: count_even_odd() that counts and returns how many numbers are even and how many are odd in a list of numbers passed as argument. \n",
    "\n",
    "def count_even_odd(lst):\n",
    "    n=len(lst)\n",
    "    even_cnt=0\n",
    "    odd_cnt=0\n",
    "    for i in range(0,n):\n",
    "        if int(lst[i])%2 == 0 :\n",
    "            even_cnt+=1\n",
    "        else :\n",
    "            odd_cnt+=1\n",
    "    return even_cnt, odd_cnt\n",
    "\n",
    "lst = list(input(\"Enter the String : \"))\n",
    "print(lst)\n",
    "\n",
    "cnt=count_even_odd(lst)\n",
    "\n",
    "print(f\"No.of. Even numbers in given list are {cnt[0]} & No.of. Odd numbers in given list are {cnt[1]}\")"
   ]
  },
  {
   "cell_type": "code",
   "execution_count": 27,
   "metadata": {},
   "outputs": [
    {
     "name": "stdout",
     "output_type": "stream",
     "text": [
      "Enter the String : 123459876\n",
      "['1', '2', '3', '4', '5', '9', '8', '7', '6']\n",
      "Max number in given list is 9\n"
     ]
    }
   ],
   "source": [
    "# WAF: maximum() to return the largest number in a list of numbers (do not use max function). Function takes a list or tuple of numbers as argument. \n",
    "\n",
    "def maximum(lst):\n",
    "    n=len(lst)\n",
    "    max_num=0\n",
    "    for i in range(0,n):\n",
    "        if int(lst[i])>max_num:\n",
    "            max_num=int(lst[i])\n",
    "    return max_num\n",
    "\n",
    "lst = list(input(\"Enter the String : \"))\n",
    "print(lst)\n",
    "\n",
    "\n",
    "print(f\"Max number in given list is {maximum(lst)}\")"
   ]
  },
  {
   "cell_type": "code",
   "execution_count": 31,
   "metadata": {},
   "outputs": [
    {
     "name": "stdout",
     "output_type": "stream",
     "text": [
      "Enter the String : 12345\n",
      "['1', '2', '3', '4', '5']\n",
      "Second Max number in given list is 4\n"
     ]
    }
   ],
   "source": [
    "# WAF: second_maximum() Create a new version of above code to return the second largest number. \n",
    "\n",
    "def second_maximum(lst):\n",
    "    n=len(lst)\n",
    "    max_num=0\n",
    "    second_max_num=0\n",
    "    for i in range(0,n):\n",
    "        if int(lst[i])>max_num:\n",
    "            second_max_num=max_num\n",
    "            max_num=int(lst[i])\n",
    "    return max_num,second_max_num\n",
    "\n",
    "lst = list(input(\"Enter the String : \"))\n",
    "print(lst)\n",
    "\n",
    "num=second_maximum(lst)\n",
    "\n",
    "print(f\"Second Max number in given list is {num[1]}\")"
   ]
  },
  {
   "cell_type": "code",
   "execution_count": 32,
   "metadata": {},
   "outputs": [
    {
     "name": "stdout",
     "output_type": "stream",
     "text": [
      "Enter the String : 123456789\n",
      "['1', '2', '3', '4', '5', '6', '7', '8', '9']\n",
      "Mean of numbers in given list is 5.0\n"
     ]
    }
   ],
   "source": [
    "# WAF: mean() that returns the mean of list of numbers passed to the function as argument.  \n",
    "\n",
    "def mean(lst):\n",
    "    n=len(lst)\n",
    "    sum_lst=0\n",
    "    for i in range(0,n):\n",
    "        sum_lst+=int(lst[i])\n",
    "    mean_lst=sum_lst/n\n",
    "    return mean_lst\n",
    "\n",
    "lst = list(input(\"Enter the String : \"))\n",
    "print(lst)\n",
    "\n",
    "print(f\"Mean of numbers in given list is {mean(lst)}\")"
   ]
  },
  {
   "cell_type": "code",
   "execution_count": 37,
   "metadata": {},
   "outputs": [
    {
     "name": "stdout",
     "output_type": "stream",
     "text": [
      "Enter the String : 123456789\n",
      "Enter the Start num : 5\n",
      "Enter the End num : 9\n",
      "['1', '2', '3', '4', '5', '6', '7', '8', '9']\n",
      " Subset of list in the given range are ['5', '6', '7', '8', '9']\n"
     ]
    }
   ],
   "source": [
    "# WAF: find_in_range() that takes a three arguments: a list of numbers, start, end \n",
    "\n",
    "\n",
    "def find_in_range(lst,start,end):\n",
    "    n=len(lst)\n",
    "    sub_lst=[]\n",
    "    for i in range(0,n):\n",
    "        if (int(lst[i]))>=start and (int(lst[i]))<=end:\n",
    "            sub_lst.append(lst[i])\n",
    "    return sub_lst\n",
    "\n",
    "lst = list(input(\"Enter the String : \"))\n",
    "start = int(input(\"Enter the Start num : \"))\n",
    "end = int(input(\"Enter the End num : \"))\n",
    "print(lst)\n",
    "\n",
    "print(f\" Subset of list in the given range are {find_in_range(lst,start,end)}\")"
   ]
  },
  {
   "cell_type": "code",
   "execution_count": null,
   "metadata": {},
   "outputs": [],
   "source": []
  }
 ],
 "metadata": {
  "kernelspec": {
   "display_name": "Python 3",
   "language": "python",
   "name": "python3"
  },
  "language_info": {
   "codemirror_mode": {
    "name": "ipython",
    "version": 3
   },
   "file_extension": ".py",
   "mimetype": "text/x-python",
   "name": "python",
   "nbconvert_exporter": "python",
   "pygments_lexer": "ipython3",
   "version": "3.8.3"
  }
 },
 "nbformat": 4,
 "nbformat_minor": 4
}
