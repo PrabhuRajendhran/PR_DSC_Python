{
 "cells": [
  {
   "cell_type": "code",
   "execution_count": 3,
   "metadata": {},
   "outputs": [
    {
     "name": "stdout",
     "output_type": "stream",
     "text": [
      "Enter the Temperatur in Farenheit : 100\n",
      "Corresponding Temperature in Celsius for 100.0 :37.77777777777778\n"
     ]
    }
   ],
   "source": [
    "temp = float(input(\"Enter the Temperatur in Farenheit : \"))\n",
    "print(f\"Corresponding Temperature in Celsius for {temp} :\" + str((temp-32)*5/9))"
   ]
  },
  {
   "cell_type": "code",
   "execution_count": 4,
   "metadata": {},
   "outputs": [
    {
     "name": "stdout",
     "output_type": "stream",
     "text": [
      "Enter number : 10\n",
      "100\n",
      "1000\n"
     ]
    }
   ],
   "source": [
    "num = int(input(\"Enter number : \"))\n",
    "print (num**2)\n",
    "print (num**3)"
   ]
  },
  {
   "cell_type": "code",
   "execution_count": 6,
   "metadata": {},
   "outputs": [
    {
     "name": "stdout",
     "output_type": "stream",
     "text": [
      "Enter number1 : 10\n",
      "Enter number2 : 10\n",
      "200\n",
      "200\n"
     ]
    }
   ],
   "source": [
    "n = int(input(\"Enter number1 : \"))\n",
    "m = int(input(\"Enter number2 : \"))\n",
    "print ((n**2)+(m**2))\n",
    "print (pow(n,2)+pow(m,2))"
   ]
  },
  {
   "cell_type": "code",
   "execution_count": 7,
   "metadata": {},
   "outputs": [
    {
     "name": "stdout",
     "output_type": "stream",
     "text": [
      "Enter number1 : 1000\n",
      "Enter number2 : 2\n",
      "Enter number3 : 10\n",
      "200.0\n"
     ]
    }
   ],
   "source": [
    "p = float(input(\"Enter number1 : \"))\n",
    "n = float(input(\"Enter number2 : \"))\n",
    "r = float(input(\"Enter number3 : \"))\n",
    "print((p*n*r)/100)"
   ]
  },
  {
   "cell_type": "code",
   "execution_count": 26,
   "metadata": {},
   "outputs": [
    {
     "name": "stdout",
     "output_type": "stream",
     "text": [
      "Enter number1 : 1000\n",
      "Enter number2 : 1\n",
      "Enter number3 : 10\n",
      "Enter number3 : 2\n",
      "1210.0000000000002\n",
      "210.00000000000023\n"
     ]
    }
   ],
   "source": [
    "p = float(input(\"Enter number1 : \"))\n",
    "n = float(input(\"Enter number2 : \"))\n",
    "r = float(input(\"Enter number3 : \"))\n",
    "t = float(input(\"Enter number3 : \"))\n",
    "Amount = p*((1+(r/100))**t)\n",
    "print(Amount)\n",
    "print(Amount-p)"
   ]
  },
  {
   "cell_type": "code",
   "execution_count": 24,
   "metadata": {},
   "outputs": [
    {
     "name": "stdout",
     "output_type": "stream",
     "text": [
      "Enter number : 10\n",
      "55\n"
     ]
    }
   ],
   "source": [
    "n = int(input(\"Enter number : \"))\n",
    "sum = 0\n",
    "for i in range(n+1):\n",
    "    sum +=i\n",
    "print(sum)"
   ]
  },
  {
   "cell_type": "code",
   "execution_count": 36,
   "metadata": {},
   "outputs": [
    {
     "name": "stdout",
     "output_type": "stream",
     "text": [
      "Enter number : 10\n",
      "55\n"
     ]
    }
   ],
   "source": [
    "n = int(input(\"Enter number : \"))\n",
    "sum = 0\n",
    "while n > 0 :\n",
    "    sum +=n\n",
    "    n-=1\n",
    "print(sum)"
   ]
  },
  {
   "cell_type": "code",
   "execution_count": 25,
   "metadata": {},
   "outputs": [
    {
     "name": "stdout",
     "output_type": "stream",
     "text": [
      "Enter number1 : 10\n",
      "Enter number2 : 20\n",
      "20 10\n"
     ]
    }
   ],
   "source": [
    "a = int(input(\"Enter number1 : \"))\n",
    "b = int(input(\"Enter number2 : \"))\n",
    "c=a\n",
    "a=b\n",
    "b=c\n",
    "print(a,b)"
   ]
  },
  {
   "cell_type": "code",
   "execution_count": 27,
   "metadata": {},
   "outputs": [
    {
     "name": "stdout",
     "output_type": "stream",
     "text": [
      "Enter number1 : 10\n",
      "Enter number2 : 20\n",
      "20 10\n"
     ]
    }
   ],
   "source": [
    "a = int(input(\"Enter number1 : \"))\n",
    "b = int(input(\"Enter number2 : \"))\n",
    "a,b = b,a\n",
    "print(a,b)"
   ]
  },
  {
   "cell_type": "code",
   "execution_count": 42,
   "metadata": {},
   "outputs": [
    {
     "name": "stdout",
     "output_type": "stream",
     "text": [
      " \n",
      "32\n",
      "\t\n",
      "9\n",
      "\n",
      "\n",
      "10\n",
      "\r\n",
      "13\n",
      "\u000b",
      "\n",
      "11\n",
      "\f",
      "\n",
      "12\n"
     ]
    }
   ],
   "source": [
    "import string\n",
    "a = string.whitespace\n",
    "for i in a :\n",
    "    print(i)\n",
    "    print(ord(i))"
   ]
  },
  {
   "cell_type": "code",
   "execution_count": 39,
   "metadata": {},
   "outputs": [
    {
     "name": "stdout",
     "output_type": "stream",
     "text": [
      "Enter char : A\n",
      "65\n"
     ]
    }
   ],
   "source": [
    "a = input(\"Enter char : \")\n",
    "print(ord(a))"
   ]
  },
  {
   "cell_type": "code",
   "execution_count": 38,
   "metadata": {},
   "outputs": [
    {
     "name": "stdout",
     "output_type": "stream",
     "text": [
      "Enter area : 100\n",
      "5.643326479831003\n",
      "35.440090293338706\n"
     ]
    }
   ],
   "source": [
    "import math\n",
    "a = float(input(\"Enter area : \"))\n",
    "r=math.sqrt(a/(3.14))\n",
    "c=2*(3.14)*r\n",
    "print(r)\n",
    "print(c)"
   ]
  },
  {
   "cell_type": "code",
   "execution_count": 33,
   "metadata": {},
   "outputs": [
    {
     "name": "stdout",
     "output_type": "stream",
     "text": [
      "Enter mark1 : 90\n",
      "Enter mark2 : 90\n",
      "Enter mark3 : 90\n",
      "Enter mark4 : 90\n",
      "Enter mark5 : 90\n",
      "90.0%\n"
     ]
    }
   ],
   "source": [
    "m1=float(input(\"Enter mark1 : \"))\n",
    "m2=float(input(\"Enter mark2 : \"))\n",
    "m3=float(input(\"Enter mark3 : \"))\n",
    "m4=float(input(\"Enter mark4 : \"))\n",
    "m5=float(input(\"Enter mark5 : \"))\n",
    "sum=m1+m2+m3+m4+m5\n",
    "TOTAL=500\n",
    "perc=(sum/TOTAL)*100\n",
    "print(str(perc)+'%')"
   ]
  }
 ],
 "metadata": {
  "kernelspec": {
   "display_name": "Python 3",
   "language": "python",
   "name": "python3"
  },
  "language_info": {
   "codemirror_mode": {
    "name": "ipython",
    "version": 3
   },
   "file_extension": ".py",
   "mimetype": "text/x-python",
   "name": "python",
   "nbconvert_exporter": "python",
   "pygments_lexer": "ipython3",
   "version": "3.8.3"
  }
 },
 "nbformat": 4,
 "nbformat_minor": 4
}
