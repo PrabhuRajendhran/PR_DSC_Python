{
 "cells": [
  {
   "cell_type": "code",
   "execution_count": 1,
   "metadata": {},
   "outputs": [
    {
     "name": "stdout",
     "output_type": "stream",
     "text": [
      "Enter limit : 10\n",
      "55\n"
     ]
    }
   ],
   "source": [
    "#print n numbers and summ it\n",
    "n=int(input(\"Enter limit : \"))\n",
    "i=1\n",
    "s=0\n",
    "while i<=n:\n",
    "    s+=i\n",
    "    i+=1\n",
    "print(s)"
   ]
  },
  {
   "cell_type": "code",
   "execution_count": 10,
   "metadata": {},
   "outputs": [
    {
     "name": "stdout",
     "output_type": "stream",
     "text": [
      "Enter number : 4\n",
      "Enter number : 2\n",
      "Enter number : 3\n",
      "Enter number : -1\n",
      "64\n"
     ]
    }
   ],
   "source": [
    "#input numbers and keep adding it; Stop only negative number is passed\n",
    "\n",
    "\n",
    "i=0\n",
    "while True:\n",
    "    n=int(input(\"Enter number : \"))\n",
    "    if n<0:\n",
    "        break\n",
    "    s+=n\n",
    "print(s)"
   ]
  },
  {
   "cell_type": "code",
   "execution_count": 5,
   "metadata": {},
   "outputs": [
    {
     "name": "stdout",
     "output_type": "stream",
     "text": [
      "Enter number : 5\n",
      "2\n",
      "4\n"
     ]
    }
   ],
   "source": [
    "n=int(input(\"Enter number : \"))\n",
    "i=2\n",
    "while i<=n:\n",
    "    print(i)\n",
    "    i+=2"
   ]
  },
  {
   "cell_type": "code",
   "execution_count": 9,
   "metadata": {},
   "outputs": [
    {
     "name": "stdout",
     "output_type": "stream",
     "text": [
      "148\n",
      "827\n",
      "630\n",
      "912\n",
      "681\n"
     ]
    }
   ],
   "source": [
    "import random\n",
    "i=1\n",
    "while i<=5:\n",
    "    print(random.randrange(100,1000))\n",
    "    i+=1\n",
    "    \n"
   ]
  },
  {
   "cell_type": "code",
   "execution_count": 11,
   "metadata": {},
   "outputs": [
    {
     "name": "stdout",
     "output_type": "stream",
     "text": [
      "enter string : my name is prabhu\n",
      "my 2\n",
      "name 4\n",
      "is 2\n",
      "prabhu 6\n"
     ]
    }
   ],
   "source": [
    "s=input(\"enter string : \")\n",
    "words=s.split()\n",
    "\n",
    "for i in words :\n",
    "    print(i,len(i))"
   ]
  },
  {
   "cell_type": "code",
   "execution_count": 12,
   "metadata": {},
   "outputs": [
    {
     "name": "stdout",
     "output_type": "stream",
     "text": [
      "enter string : prabhu\n",
      "u\n",
      "h\n",
      "b\n",
      "a\n",
      "r\n",
      "p\n"
     ]
    }
   ],
   "source": [
    "s=input(\"enter string : \")\n",
    "s=s[::-1]\n",
    "\n",
    "for i in s :\n",
    "    print(i)"
   ]
  },
  {
   "cell_type": "code",
   "execution_count": 14,
   "metadata": {},
   "outputs": [
    {
     "name": "stdout",
     "output_type": "stream",
     "text": [
      "enter string : 1\n",
      "enter string : 2\n",
      "enter string : 3\n",
      "enter string : 4\n",
      "enter string : 5\n",
      "15\n"
     ]
    }
   ],
   "source": [
    "i=1\n",
    "s=0\n",
    "while i<=5 :\n",
    "    s+=int(input(\"enter string : \"))\n",
    "    i+=1\n",
    "print(s)"
   ]
  },
  {
   "cell_type": "code",
   "execution_count": 20,
   "metadata": {},
   "outputs": [
    {
     "name": "stdout",
     "output_type": "stream",
     "text": [
      "24\n"
     ]
    }
   ],
   "source": [
    "m=1\n",
    "for i in range(1,5,1):\n",
    "    m*=i\n",
    "print(m)"
   ]
  },
  {
   "cell_type": "code",
   "execution_count": 30,
   "metadata": {},
   "outputs": [
    {
     "name": "stdout",
     "output_type": "stream",
     "text": [
      "Enter number : 1\n",
      "Enter number : 2\n",
      "Enter number : 3\n",
      "Enter number : 4\n",
      "Enter number : 5\n",
      "5\n"
     ]
    }
   ],
   "source": [
    "max_num= None\n",
    "\n",
    "for i in range(5):\n",
    "    num=int(input(\"Enter number : \"))\n",
    "    if max_num is None:\n",
    "        max_num=num\n",
    "    elif num>max_num:\n",
    "        max_num=num\n",
    "        \n",
    "print(max_num)"
   ]
  },
  {
   "cell_type": "code",
   "execution_count": 36,
   "metadata": {},
   "outputs": [
    {
     "name": "stdout",
     "output_type": "stream",
     "text": [
      "['h', 't', 'n', 'a', 'm', 'e', 'h', 'a', 'b', 'c', 'd', 'e']\n"
     ]
    }
   ],
   "source": [
    "l = ['a','b','c','d','e']\n",
    "r = l[::-1]\n",
    "r.extend('hemanth')\n",
    "s = r[::-1]\n",
    "print(s)"
   ]
  },
  {
   "cell_type": "code",
   "execution_count": null,
   "metadata": {},
   "outputs": [],
   "source": []
  }
 ],
 "metadata": {
  "kernelspec": {
   "display_name": "Python 3",
   "language": "python",
   "name": "python3"
  },
  "language_info": {
   "codemirror_mode": {
    "name": "ipython",
    "version": 3
   },
   "file_extension": ".py",
   "mimetype": "text/x-python",
   "name": "python",
   "nbconvert_exporter": "python",
   "pygments_lexer": "ipython3",
   "version": "3.8.3"
  }
 },
 "nbformat": 4,
 "nbformat_minor": 4
}
