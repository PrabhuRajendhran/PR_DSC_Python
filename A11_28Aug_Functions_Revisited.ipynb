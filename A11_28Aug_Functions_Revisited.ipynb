{
 "cells": [
  {
   "cell_type": "code",
   "execution_count": 7,
   "metadata": {},
   "outputs": [
    {
     "name": "stdout",
     "output_type": "stream",
     "text": [
      "Enter String : 5\n",
      "25\n",
      "Enter String : 4\n",
      "0.25\n",
      "Enter String : 6\n",
      "-6\n"
     ]
    }
   ],
   "source": [
    "#Write lambdas to: a. Square a number x2 b. Inverse a number 1/x c. Negate a number\n",
    "\n",
    "x = lambda x : x**2\n",
    "y = lambda y : 1/y\n",
    "z = lambda z : -z\n",
    "\n",
    "print(x(int(input(\"Enter String : \"))))\n",
    "print(y(int(input(\"Enter String : \"))))\n",
    "print(z(int(input(\"Enter String : \"))))\n",
    "\n"
   ]
  },
  {
   "cell_type": "code",
   "execution_count": 21,
   "metadata": {},
   "outputs": [
    {
     "name": "stdout",
     "output_type": "stream",
     "text": [
      "Enter the numbers : 1 2 3 4 5 6 7 8 9\n",
      "['1', '2', '3', '4', '5', '6', '7', '8', '9']\n",
      "9\n",
      "9\n",
      "9\n"
     ]
    }
   ],
   "source": [
    "#Use reduce function and an appropriate lambda to find the maximum number in a list. \n",
    "\n",
    "from functools import reduce\n",
    "\n",
    "lst = list(input(\"Enter the numbers : \").split())\n",
    "print(lst)\n",
    "\n",
    "lmb=lambda x : max(x)\n",
    "print(lmb(lst))\n",
    "\n",
    "max_num=reduce((lambda x,y : max(x,y)),lst)\n",
    "print(max_num)\n",
    "\n",
    "max_num=reduce((lambda x,y : x if x>y else y),lst)\n",
    "print(max_num)"
   ]
  },
  {
   "cell_type": "code",
   "execution_count": 18,
   "metadata": {},
   "outputs": [
    {
     "name": "stdout",
     "output_type": "stream",
     "text": [
      "[1, 4, 9, 16, 25]\n",
      "[1.0, 0.5, 0.3333333333333333, 0.25, 0.2]\n",
      "[-1, -2, -3, -4, -5]\n",
      "\n",
      "[-1.0, -0.25, -0.1111111111111111, -0.0625, -0.04]\n"
     ]
    }
   ],
   "source": [
    "# Write a function map_multiple that takes a list of functions/lambdas as first argument and a sequence type as second argument.  \n",
    "# The function picks first lambda from list, applies it to first element, \n",
    "# then applies the second function to the result of first one and …. \n",
    "# Similarly it does for each element and generates a mapping of input to output def map_multiple(functs, sequence):  \n",
    "# write definition here Ex: let list of lambdas be from question 1 and the list on numbers be [1,2,4]  \n",
    "# So first function gives [1, 4, 16]  Second gives [1, 0.25, 0.0625]  Third gives [-1, -0.25, -0.0625]. \n",
    "# Which is the final result.\n",
    "\n",
    "x=lambda x : x**2\n",
    "y=lambda y : 1/y\n",
    "z=lambda z : -z\n",
    "\n",
    "lst = [1,2,3,4,5]\n",
    "\n",
    "def map_multiple(func,seq):\n",
    "    return list(map(func,seq))\n",
    "\n",
    "print(map_multiple(x,lst))\n",
    "print(map_multiple(y,lst))\n",
    "print(map_multiple(z,lst))\n",
    "\n",
    "print()\n",
    "\n",
    "print(map_multiple(z,map_multiple(y,map_multiple(x,lst))))"
   ]
  },
  {
   "cell_type": "code",
   "execution_count": 65,
   "metadata": {},
   "outputs": [
    {
     "name": "stdout",
     "output_type": "stream",
     "text": [
      "[-1.0, -0.25, -0.1111111111111111, -0.0625, -0.04]\n"
     ]
    }
   ],
   "source": [
    "# Write a function map_multiple that takes a list of functions/lambdas as first argument and a sequence type as second argument.  \n",
    "# Another method\n",
    "\n",
    "lst = [1,2,3,4,5]\n",
    "functs=[lambda x : x**2,lambda y : 1/y,lambda z : -z]\n",
    "ans_lst=[]\n",
    "\n",
    "def map_multiple(functs,seq):\n",
    "    for num in seq :\n",
    "        for funct in functs:\n",
    "            num=funct(num)\n",
    "        ans_lst.append(num)\n",
    "    return ans_lst\n",
    "\n",
    "print(map_multiple(functs,lst))"
   ]
  },
  {
   "cell_type": "code",
   "execution_count": 33,
   "metadata": {},
   "outputs": [
    {
     "name": "stdout",
     "output_type": "stream",
     "text": [
      "50\n"
     ]
    }
   ],
   "source": [
    "# Predict the output of following code: \n",
    "\n",
    "from functools import reduce\n",
    "f= lambda x,y : x if x>y else y\n",
    "\n",
    "l=[10,30,50,30,10]\n",
    "\n",
    "num=reduce(f,l)\n",
    "print(num) #50\n"
   ]
  },
  {
   "cell_type": "code",
   "execution_count": 73,
   "metadata": {},
   "outputs": [
    {
     "name": "stdout",
     "output_type": "stream",
     "text": [
      "[1.0, 0.5, 0.25, 0.125]\n"
     ]
    }
   ],
   "source": [
    "# Find output of following: \n",
    "\n",
    "functs= [lambda x : x**0.5, lambda x : 1/x]\n",
    "l=[1,4,16,64]\n",
    "\n",
    "ans=[]\n",
    "\n",
    "for num in l:\n",
    "    res=num\n",
    "    for funct in functs : \n",
    "        res=funct(res)\n",
    "    ans.append(res)\n",
    "print(ans)\n",
    "\n",
    "\n"
   ]
  },
  {
   "cell_type": "code",
   "execution_count": 28,
   "metadata": {},
   "outputs": [
    {
     "name": "stdout",
     "output_type": "stream",
     "text": [
      "Enter Stringa c f e 1 2 3 4 5 6 7\n",
      "1 2 3 4 5 6 7 \n",
      "1 2 3 4 5 "
     ]
    }
   ],
   "source": [
    "# Use filter function to filter a list of numbers and strings such that the result contains only numbers.\n",
    "# (Hint : Use isinstance method)\n",
    "\n",
    "lst = list(input(\"Enter String\").split())\n",
    "lst1=['a','b','c',1,2,3,4,5]\n",
    "\n",
    "res=filter(lambda x : x.isdigit(),lst)\n",
    "res1=filter(lambda x : isinstance(x,int),lst1)\n",
    "\n",
    "for ans in res : \n",
    "    print(ans, end=\" \")\n",
    "    \n",
    "print()\n",
    "    \n",
    "for ans in res1 : \n",
    "    print(ans, end = \" \")\n"
   ]
  },
  {
   "cell_type": "code",
   "execution_count": 56,
   "metadata": {},
   "outputs": [
    {
     "name": "stdout",
     "output_type": "stream",
     "text": [
      "('5', '10')\n",
      "('5', '')\n",
      "('4', '08')\n",
      "('3', '11')\n",
      "[1.7780000000000002, 1.524, 1.4224, 1.1938]\n"
     ]
    }
   ],
   "source": [
    "#Assume a list containing heights ft and inches in the form of a list of string Example : l = [‘5ft10in’, ‘5ft’, ….] \n",
    "# Write a function to convert the heights to meter. \n",
    "# Use map function along with your function to convert everything to m. \n",
    "\n",
    "def convert_in_to_m(ht_lst2):\n",
    "    for i in range(0,1):\n",
    "        if ht_lst2[i+1] == '':\n",
    "            res = (int(ht_lst2[i])*12)*(2.54)*(0.01)\n",
    "        else : \n",
    "            res = (int(ht_lst2[i])*12 + int(ht_lst2[i+1]))*(2.54)*(0.01)\n",
    "    return res\n",
    "\n",
    "ht_lst1=['5ft10in','5ft','4ft08in', '3ft11in']\n",
    "ht_lst2=[]\n",
    "\n",
    "for ht in ht_lst1 : \n",
    "    (a,b)=ht.replace('in','').replace('ft','.').split('.')\n",
    "    ht_lst2.append((a,b))\n",
    "    \n",
    "res=0\n",
    "\n",
    "res=list(map(convert_in_to_m,ht_lst2))\n",
    "print(res)\n",
    "            \n",
    "            \n"
   ]
  },
  {
   "cell_type": "code",
   "execution_count": 81,
   "metadata": {},
   "outputs": [],
   "source": [
    "#Write the implementation for the map function yourself by the name my_map() \n",
    "\n",
    "def my_map(functs,seq):\n",
    "    ans_lst=[]\n",
    "    for num in seq :\n",
    "        for funct in functs:\n",
    "            num=funct(num)\n",
    "        ans_lst.append(num)\n",
    "    return ans_lst\n",
    "        \n",
    "    "
   ]
  }
 ],
 "metadata": {
  "kernelspec": {
   "display_name": "Python 3",
   "language": "python",
   "name": "python3"
  },
  "language_info": {
   "codemirror_mode": {
    "name": "ipython",
    "version": 3
   },
   "file_extension": ".py",
   "mimetype": "text/x-python",
   "name": "python",
   "nbconvert_exporter": "python",
   "pygments_lexer": "ipython3",
   "version": "3.8.3"
  }
 },
 "nbformat": 4,
 "nbformat_minor": 4
}
