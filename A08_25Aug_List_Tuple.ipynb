{
 "cells": [
  {
   "cell_type": "code",
   "execution_count": 1,
   "metadata": {},
   "outputs": [
    {
     "name": "stdout",
     "output_type": "stream",
     "text": [
      "[1, 2, 3, 4, 5]\n"
     ]
    }
   ],
   "source": [
    "#Convert a Tuple t = (1,2,3,4,5) to a list\n",
    "\n",
    "t=(1,2,3,4,5)\n",
    "print(list(t))"
   ]
  },
  {
   "cell_type": "code",
   "execution_count": 11,
   "metadata": {},
   "outputs": [
    {
     "name": "stdout",
     "output_type": "stream",
     "text": [
      "[1, 3, 5, 7, 8, 6, 4, 2]\n",
      "\n",
      "[1, 3, 5, 7, 8, 6, 4, 2]\n"
     ]
    }
   ],
   "source": [
    "#WAP to join a list and a tuple:  L = [1,3,5,7]   T = (8,6,4,2) \n",
    "#Store the result in a list LS \n",
    "\n",
    "l=[1,3,5,7]\n",
    "t=(8,6,4,2)\n",
    "\n",
    "ls=[]\n",
    "l.extend(t)\n",
    "print(l)\n",
    "\n",
    "for i in l:\n",
    "    ls.append(i)\n",
    "\n",
    "print()\n",
    "print(ls)"
   ]
  },
  {
   "cell_type": "code",
   "execution_count": 5,
   "metadata": {},
   "outputs": [],
   "source": [
    "#difference between list and tuple\n",
    "\n",
    "#List : Mutable\n",
    "#Tuple : Immutable"
   ]
  },
  {
   "cell_type": "code",
   "execution_count": 14,
   "metadata": {},
   "outputs": [
    {
     "name": "stdout",
     "output_type": "stream",
     "text": [
      "['C', 'A', 'c', 'd', 'a']\n"
     ]
    }
   ],
   "source": [
    "#Print the list in reverse order  \n",
    "\n",
    "l = ['a','d','c','A','C']\n",
    "s=\"\".join(l)\n",
    "s=s[::-1]\n",
    "l=list(s)\n",
    "print(l)\n",
    "    "
   ]
  },
  {
   "cell_type": "code",
   "execution_count": 17,
   "metadata": {},
   "outputs": [
    {
     "name": "stdout",
     "output_type": "stream",
     "text": [
      "[11, 21, 31, 41]\n",
      "[10, 20, 30, 40]\n"
     ]
    }
   ],
   "source": [
    "#Print Elements at Odd indexes from a list (Do not use loop)   l = [10,11,20, 21,30, 31, 40, 41]\n",
    "\n",
    "l=[10,11,20,21,30,31,40,41]\n",
    "\n",
    "print(l[1::2])\n",
    "print(l[0::2])"
   ]
  },
  {
   "cell_type": "code",
   "execution_count": 21,
   "metadata": {},
   "outputs": [
    {
     "name": "stdout",
     "output_type": "stream",
     "text": [
      "[1]\n",
      "[1]\n",
      "[1]\n",
      "[1]\n",
      "[1]\n"
     ]
    }
   ],
   "source": [
    "#How many ways you can copy a list. \n",
    "\n",
    "a=[1]\n",
    "b=a\n",
    "print(b)\n",
    "\n",
    "c=a.copy()\n",
    "print(c)\n",
    "\n",
    "import copy\n",
    "d=copy.deepcopy(a)\n",
    "print(d)\n",
    "\n",
    "e=a[:]\n",
    "print(e)\n",
    "\n",
    "f=list(a)\n",
    "print(f)"
   ]
  },
  {
   "cell_type": "code",
   "execution_count": 22,
   "metadata": {},
   "outputs": [
    {
     "name": "stdout",
     "output_type": "stream",
     "text": [
      "a\n",
      "5\n"
     ]
    }
   ],
   "source": [
    "#Predict output\n",
    "\n",
    "n=[\"Happy\",[2,0,1,5]]\n",
    "print(n[0][1])  #a\n",
    "print(n[1][3])  #5"
   ]
  },
  {
   "cell_type": "code",
   "execution_count": 23,
   "metadata": {},
   "outputs": [
    {
     "name": "stdout",
     "output_type": "stream",
     "text": [
      "[1, 4, 6, 8]\n",
      "[1, 3, 5, 7]\n"
     ]
    }
   ],
   "source": [
    "#Predict output\n",
    "\n",
    "odd=[2,4,6,8]\n",
    "odd[0]=1\n",
    "print(odd) #[1,4,6,8]\n",
    "\n",
    "odd[1:4]=[3,5,7]\n",
    "print(odd) #[1,3,5,7]"
   ]
  },
  {
   "cell_type": "code",
   "execution_count": 24,
   "metadata": {},
   "outputs": [
    {
     "name": "stdout",
     "output_type": "stream",
     "text": [
      "[1, 3, 5, [7, 9]]\n",
      "[1, 3, 5, [7, 9], 11, 13]\n"
     ]
    }
   ],
   "source": [
    "#Predict output\n",
    "\n",
    "odd=[1,3,5]\n",
    "odd.append([7,9])\n",
    "print(odd) #[1,3,5,[7,9]]\n",
    "\n",
    "odd.extend([11,13])\n",
    "print(odd) #[1,3,5,[7,9],11,13]"
   ]
  },
  {
   "cell_type": "code",
   "execution_count": 26,
   "metadata": {},
   "outputs": [
    {
     "name": "stdout",
     "output_type": "stream",
     "text": [
      "<class 'tuple'>\n",
      "<class 'int'>\n",
      "<class 'int'>\n",
      "<class 'tuple'>\n"
     ]
    }
   ],
   "source": [
    "#predict output\n",
    "\n",
    "x=1,2,3\n",
    "print(type(x)) #tuple\n",
    "\n",
    "x=(1)\n",
    "print(type(x)) #int\n",
    "\n",
    "x=1\n",
    "print(type(x)) #int\n",
    "\n",
    "x=1,\n",
    "print(type(x)) #tuple"
   ]
  },
  {
   "cell_type": "code",
   "execution_count": 31,
   "metadata": {},
   "outputs": [
    {
     "name": "stdout",
     "output_type": "stream",
     "text": [
      "1\n",
      "2\n",
      "3\n",
      "4\n",
      "5\n",
      "6\n",
      "7\n",
      "8\n",
      "9\n"
     ]
    }
   ],
   "source": [
    "#Try to represent a matrix with following data in python: \n",
    "'''[1 2 3 \n",
    "    4 5 6 \n",
    "    7 8 9]''' \n",
    "\n",
    "matrix=[[1,2,3],[4,5,6],[7,8,9]]\n",
    "\n",
    "for i in range(3):\n",
    "    for j in range(3):\n",
    "        print(matrix[i][j])\n",
    "\n",
    "\n",
    "    "
   ]
  },
  {
   "cell_type": "code",
   "execution_count": 38,
   "metadata": {},
   "outputs": [
    {
     "name": "stdout",
     "output_type": "stream",
     "text": [
      "('s', 't', 'r', 'i', 'n', 'g')\n",
      "('g', 'n', 'i', 'r', 't', 's')\n",
      "('n', 's')\n"
     ]
    }
   ],
   "source": [
    "#predict output\n",
    "\n",
    "t=tuple('string')\n",
    "print(t[::1]) #(s, t, r, i, n, g)\n",
    "print(t[::-1]) #(g, n, i, r, t, s)\n",
    "print(t[::2][::-2]) # (n, s)\n"
   ]
  },
  {
   "cell_type": "code",
   "execution_count": 40,
   "metadata": {},
   "outputs": [
    {
     "name": "stdout",
     "output_type": "stream",
     "text": [
      "(10, 20, 30, 40, 50, 60)\n",
      "True\n",
      "False\n",
      "1\n",
      "3\n"
     ]
    }
   ],
   "source": [
    "#predict output\n",
    "\n",
    "t=tuple([10,20,30,40,50,60])\n",
    "print(t)\n",
    "print(60 in t) #True\n",
    "print('60' in t) #False\n",
    "print(t.count(10)) #1\n",
    "print(t.index(40)) #3\n"
   ]
  },
  {
   "cell_type": "code",
   "execution_count": 44,
   "metadata": {},
   "outputs": [
    {
     "name": "stdout",
     "output_type": "stream",
     "text": [
      "(20, 15, 10, 5)\n"
     ]
    }
   ],
   "source": [
    "# Use the range method and create a tuple containing the following values: (20, 15, 10, 5)\n",
    "\n",
    "t=tuple(range(20,0,-5))\n",
    "print(t)"
   ]
  },
  {
   "cell_type": "code",
   "execution_count": 45,
   "metadata": {},
   "outputs": [
    {
     "name": "stdout",
     "output_type": "stream",
     "text": [
      "['P', 'r', 'a', 'b', 'h', 'u']\n",
      "('P', 'r', 'a', 'b', 'h', 'u')\n"
     ]
    }
   ],
   "source": [
    "#WAP to convert string to list of characters\n",
    "\n",
    "s=\"Prabhu\"\n",
    "print(list(s))\n",
    "print(tuple(s))"
   ]
  },
  {
   "cell_type": "code",
   "execution_count": 48,
   "metadata": {},
   "outputs": [
    {
     "name": "stdout",
     "output_type": "stream",
     "text": [
      "<class 'list'>\n",
      "<class 'NoneType'>\n",
      "<class 'str'>\n",
      "<class 'bool'>\n"
     ]
    }
   ],
   "source": [
    "# What is the return type of: \n",
    "\n",
    "print(type('1 2'.split())) #List \n",
    "print(type([1,3,2].sort())) #NoneType\n",
    "print(type('abc'.upper())) #str \n",
    "print(type(1 in [1,2])) #bool "
   ]
  },
  {
   "cell_type": "code",
   "execution_count": null,
   "metadata": {},
   "outputs": [],
   "source": []
  }
 ],
 "metadata": {
  "kernelspec": {
   "display_name": "Python 3",
   "language": "python",
   "name": "python3"
  },
  "language_info": {
   "codemirror_mode": {
    "name": "ipython",
    "version": 3
   },
   "file_extension": ".py",
   "mimetype": "text/x-python",
   "name": "python",
   "nbconvert_exporter": "python",
   "pygments_lexer": "ipython3",
   "version": "3.8.3"
  }
 },
 "nbformat": 4,
 "nbformat_minor": 4
}
