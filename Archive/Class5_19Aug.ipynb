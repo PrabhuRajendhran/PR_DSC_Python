{
 "cells": [
  {
   "cell_type": "code",
   "execution_count": 1,
   "metadata": {},
   "outputs": [],
   "source": [
    "def print_name() :\n",
    "        print(\"Prabhu\")"
   ]
  },
  {
   "cell_type": "code",
   "execution_count": 2,
   "metadata": {},
   "outputs": [
    {
     "name": "stdout",
     "output_type": "stream",
     "text": [
      "Prabhu\n"
     ]
    }
   ],
   "source": [
    "print_name()"
   ]
  },
  {
   "cell_type": "code",
   "execution_count": 3,
   "metadata": {},
   "outputs": [
    {
     "name": "stdout",
     "output_type": "stream",
     "text": [
      "Help on method_descriptor:\n",
      "\n",
      "count(...)\n",
      "    S.count(sub[, start[, end]]) -> int\n",
      "    \n",
      "    Return the number of non-overlapping occurrences of substring sub in\n",
      "    string S[start:end].  Optional arguments start and end are\n",
      "    interpreted as in slice notation.\n",
      "\n"
     ]
    }
   ],
   "source": [
    "help(str.count)"
   ]
  },
  {
   "cell_type": "code",
   "execution_count": 4,
   "metadata": {},
   "outputs": [
    {
     "name": "stdout",
     "output_type": "stream",
     "text": [
      "2\n"
     ]
    }
   ],
   "source": [
    "#To Find first occurence of string\n",
    "\n",
    "print(\"Prabhu\".find('a'))"
   ]
  },
  {
   "cell_type": "code",
   "execution_count": 5,
   "metadata": {},
   "outputs": [
    {
     "name": "stdout",
     "output_type": "stream",
     "text": [
      "uhbarP\n"
     ]
    }
   ],
   "source": [
    "#To print given string in reverse\n",
    "\n",
    "d=\"Prabhu\"\n",
    "print(d[::-1])"
   ]
  },
  {
   "cell_type": "code",
   "execution_count": 6,
   "metadata": {},
   "outputs": [
    {
     "name": "stdout",
     "output_type": "stream",
     "text": [
      "Enter String : prabhu\n"
     ]
    },
    {
     "data": {
      "text/plain": [
       "7"
      ]
     },
     "execution_count": 6,
     "metadata": {},
     "output_type": "execute_result"
    }
   ],
   "source": [
    "#To Find second occurence of repetitive string\n",
    "\n",
    "def find_last(mainstr,substr):\n",
    "    mainstr=mainstr[::-1]\n",
    "    return (len(mainstr)-mainstr.find(substr)-1)\n",
    "\n",
    "mainstr = input(\"Enter String : \")\n",
    "find_last(mainstr+mainstr,\"r\")"
   ]
  },
  {
   "cell_type": "code",
   "execution_count": 22,
   "metadata": {},
   "outputs": [
    {
     "name": "stdout",
     "output_type": "stream",
     "text": [
      "Enter MainString :jldsjdji;weipofweipojewcc\n",
      "Enter SubString :c\n"
     ]
    },
    {
     "data": {
      "text/plain": [
       "2"
      ]
     },
     "execution_count": 22,
     "metadata": {},
     "output_type": "execute_result"
    }
   ],
   "source": [
    "#Using Count\n",
    "\n",
    "def find1(mainstr,substr):\n",
    "    mainstr=mainstr.upper()\n",
    "    substr=substr.upper()\n",
    "    return mainstr.count(substr)\n",
    "\n",
    "find1(input(\"Enter MainString :\"),input(\"Enter SubString :\"))"
   ]
  },
  {
   "cell_type": "code",
   "execution_count": 23,
   "metadata": {},
   "outputs": [
    {
     "name": "stdout",
     "output_type": "stream",
     "text": [
      "Enter MainString :aiogipoaewipfiefuyejhCWPEIJCHJEJFEAA\n",
      "Enter SubString :A\n"
     ]
    },
    {
     "data": {
      "text/plain": [
       "4"
      ]
     },
     "execution_count": 23,
     "metadata": {},
     "output_type": "execute_result"
    }
   ],
   "source": [
    "#without Using Count\n",
    "def find2(mainstr,substr):\n",
    "    mainstr=mainstr.upper()\n",
    "    substr=substr.upper()\n",
    "    count=0\n",
    "    while len(mainstr) > 0:\n",
    "        index = mainstr.find(substr)\n",
    "        if(index!=-1):\n",
    "            count+=1\n",
    "        mainstr=mainstr.replace(mainstr[index],\"\",1)\n",
    "    return count\n",
    "\n",
    "find2(input(\"Enter MainString :\"),input(\"Enter SubString :\"))"
   ]
  },
  {
   "cell_type": "code",
   "execution_count": null,
   "metadata": {},
   "outputs": [],
   "source": []
  }
 ],
 "metadata": {
  "kernelspec": {
   "display_name": "Python 3",
   "language": "python",
   "name": "python3"
  },
  "language_info": {
   "codemirror_mode": {
    "name": "ipython",
    "version": 3
   },
   "file_extension": ".py",
   "mimetype": "text/x-python",
   "name": "python",
   "nbconvert_exporter": "python",
   "pygments_lexer": "ipython3",
   "version": "3.8.3"
  }
 },
 "nbformat": 4,
 "nbformat_minor": 4
}
